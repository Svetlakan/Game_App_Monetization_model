{
 "cells": [
  {
   "cell_type": "markdown",
   "metadata": {},
   "source": [
    "<div style=\"border: solid green 2px; padding: 20px\">\n",
    "    \n",
    "## Материалы\n",
    "* Презентация: https://disk.yandex.com/d/Gz9TzJAw9IMcUw\n",
    "* Дашборд: https://public.tableau.com/views/_16671493528660/Dashboard1?:language=en-GB&publish=yes&:display_count=n&:origin=viz_share_link"
   ]
  },
  {
   "cell_type": "markdown",
   "metadata": {},
   "source": [
    "<div style=\"border: solid green 2px; padding: 20px\">\n",
    "\n",
    "# Проект \"Формирование модели монетизации игрового приложения\"\n",
    "\n",
    "\n",
    "***Цель проекта*** - сформировать модель монетизации игрового приложения.\n",
    "\n",
    "\n",
    "***Ход проекта:***\n",
    "- Изучение файлов с данными.\n",
    "- Предобработка данных.\n",
    "- Исследовательский анализ данных.\n",
    "- Проверка статистических гипотез.\n",
    "- Анализ модели монетизации с точки зрения окупаемости - расчет ROMI.\n",
    "- Общий вывод и рекомендации по моделе монетизации.\n",
    "\n",
    "***Входные данные*** - основной датасет, который содержит данные о событиях, совершенных в мобильной игре; два датасета с информацией о рекламных активностях.\n",
    "\n",
    "\n",
    "***Путь к файлам*** - /datasets/game_actions.csv; /datasets/ad_costs.csv; /datasets/user_source.csv\n",
    "\n",
    "\n",
    "***Описание данных:***\n",
    "    \n",
    "Датасет *game_actions.csv*:\n",
    "\n",
    "- `event_datetime` — время события;\n",
    "- `event` — одно из трёх событий:\n",
    "    1. `building` — объект построен,\n",
    "    2. `finished_stage_1` — первый уровень завершён,\n",
    "    3. `project` — проект завершён;\n",
    "- `building_type` — один из трёх типов здания:\n",
    "    1. `assembly_shop` — сборочный цех,\n",
    "    2. `spaceport` — космопорт,\n",
    "    3. `research_center` — исследовательский центр;\n",
    "- `user_id` — идентификатор пользователя;\n",
    "- `project_type` — тип реализованного проекта.\n",
    "    \n",
    "Датасет *ad_costs.csv*:\n",
    "\n",
    "- `day` - день, в который был совершен клик по объявлению;\n",
    "- `source` - источник трафика;\n",
    "- `cost` - стоимость кликов.\n",
    "\n",
    "Датасет *user_source.csv*:\n",
    "\n",
    "- `user_id` - идентификатор пользователя;\n",
    "- `source` - источников, с которого пришёл пользователь, установивший приложение."
   ]
  },
  {
   "cell_type": "markdown",
   "metadata": {},
   "source": [
    "## Изучение файлов с данными"
   ]
  },
  {
   "cell_type": "markdown",
   "metadata": {},
   "source": [
    "Импортируем необходимые библиотеки"
   ]
  },
  {
   "cell_type": "code",
   "execution_count": 1,
   "metadata": {},
   "outputs": [],
   "source": [
    "import pandas as pd\n",
    "from matplotlib import pyplot as plt\n",
    "import seaborn as sns\n",
    "import plotly.express as px\n",
    "import numpy as np\n",
    "import scipy.stats as st"
   ]
  },
  {
   "cell_type": "markdown",
   "metadata": {},
   "source": [
    "Загрузка данных"
   ]
  },
  {
   "cell_type": "code",
   "execution_count": 2,
   "metadata": {},
   "outputs": [],
   "source": [
    "game_actions = pd.read_csv('/datasets/game_actions.csv')\n",
    "ad_costs = pd.read_csv('/datasets/ad_costs.csv')\n",
    "user_source = pd.read_csv('/datasets/user_source.csv')"
   ]
  },
  {
   "cell_type": "markdown",
   "metadata": {},
   "source": [
    "Изучим файл с данными game_actions"
   ]
  },
  {
   "cell_type": "code",
   "execution_count": 3,
   "metadata": {
    "scrolled": false
   },
   "outputs": [
    {
     "data": {
      "text/html": [
       "<div>\n",
       "<style scoped>\n",
       "    .dataframe tbody tr th:only-of-type {\n",
       "        vertical-align: middle;\n",
       "    }\n",
       "\n",
       "    .dataframe tbody tr th {\n",
       "        vertical-align: top;\n",
       "    }\n",
       "\n",
       "    .dataframe thead th {\n",
       "        text-align: right;\n",
       "    }\n",
       "</style>\n",
       "<table border=\"1\" class=\"dataframe\">\n",
       "  <thead>\n",
       "    <tr style=\"text-align: right;\">\n",
       "      <th></th>\n",
       "      <th>event_datetime</th>\n",
       "      <th>event</th>\n",
       "      <th>building_type</th>\n",
       "      <th>user_id</th>\n",
       "      <th>project_type</th>\n",
       "    </tr>\n",
       "  </thead>\n",
       "  <tbody>\n",
       "    <tr>\n",
       "      <th>0</th>\n",
       "      <td>2020-05-04 00:00:01</td>\n",
       "      <td>building</td>\n",
       "      <td>assembly_shop</td>\n",
       "      <td>55e92310-cb8e-4754-b622-597e124b03de</td>\n",
       "      <td>NaN</td>\n",
       "    </tr>\n",
       "    <tr>\n",
       "      <th>1</th>\n",
       "      <td>2020-05-04 00:00:03</td>\n",
       "      <td>building</td>\n",
       "      <td>assembly_shop</td>\n",
       "      <td>c07b1c10-f477-44dc-81dc-ec82254b1347</td>\n",
       "      <td>NaN</td>\n",
       "    </tr>\n",
       "    <tr>\n",
       "      <th>2</th>\n",
       "      <td>2020-05-04 00:00:16</td>\n",
       "      <td>building</td>\n",
       "      <td>assembly_shop</td>\n",
       "      <td>6edd42cc-e753-4ff6-a947-2107cd560710</td>\n",
       "      <td>NaN</td>\n",
       "    </tr>\n",
       "    <tr>\n",
       "      <th>3</th>\n",
       "      <td>2020-05-04 00:00:16</td>\n",
       "      <td>building</td>\n",
       "      <td>assembly_shop</td>\n",
       "      <td>92c69003-d60a-444a-827f-8cc51bf6bf4c</td>\n",
       "      <td>NaN</td>\n",
       "    </tr>\n",
       "    <tr>\n",
       "      <th>4</th>\n",
       "      <td>2020-05-04 00:00:35</td>\n",
       "      <td>building</td>\n",
       "      <td>assembly_shop</td>\n",
       "      <td>cdc6bb92-0ccb-4490-9866-ef142f09139d</td>\n",
       "      <td>NaN</td>\n",
       "    </tr>\n",
       "  </tbody>\n",
       "</table>\n",
       "</div>"
      ],
      "text/plain": [
       "        event_datetime     event  building_type  \\\n",
       "0  2020-05-04 00:00:01  building  assembly_shop   \n",
       "1  2020-05-04 00:00:03  building  assembly_shop   \n",
       "2  2020-05-04 00:00:16  building  assembly_shop   \n",
       "3  2020-05-04 00:00:16  building  assembly_shop   \n",
       "4  2020-05-04 00:00:35  building  assembly_shop   \n",
       "\n",
       "                                user_id project_type  \n",
       "0  55e92310-cb8e-4754-b622-597e124b03de          NaN  \n",
       "1  c07b1c10-f477-44dc-81dc-ec82254b1347          NaN  \n",
       "2  6edd42cc-e753-4ff6-a947-2107cd560710          NaN  \n",
       "3  92c69003-d60a-444a-827f-8cc51bf6bf4c          NaN  \n",
       "4  cdc6bb92-0ccb-4490-9866-ef142f09139d          NaN  "
      ]
     },
     "metadata": {},
     "output_type": "display_data"
    },
    {
     "name": "stdout",
     "output_type": "stream",
     "text": [
      "<class 'pandas.core.frame.DataFrame'>\n",
      "RangeIndex: 135640 entries, 0 to 135639\n",
      "Data columns (total 5 columns):\n",
      " #   Column          Non-Null Count   Dtype \n",
      "---  ------          --------------   ----- \n",
      " 0   event_datetime  135640 non-null  object\n",
      " 1   event           135640 non-null  object\n",
      " 2   building_type   127957 non-null  object\n",
      " 3   user_id         135640 non-null  object\n",
      " 4   project_type    1866 non-null    object\n",
      "dtypes: object(5)\n",
      "memory usage: 5.2+ MB\n"
     ]
    }
   ],
   "source": [
    "display(game_actions.head())\n",
    "game_actions.info()"
   ]
  },
  {
   "cell_type": "markdown",
   "metadata": {},
   "source": [
    "В файле game_actions\n",
    "- некорректный тип данных в столбце с датой и временем;\n",
    "- пропуски в столбцах building_type и project_type\n",
    "\n",
    "\n"
   ]
  },
  {
   "cell_type": "markdown",
   "metadata": {},
   "source": [
    "Изучим файл с данными ad_costs"
   ]
  },
  {
   "cell_type": "code",
   "execution_count": 4,
   "metadata": {
    "scrolled": true
   },
   "outputs": [
    {
     "data": {
      "text/html": [
       "<div>\n",
       "<style scoped>\n",
       "    .dataframe tbody tr th:only-of-type {\n",
       "        vertical-align: middle;\n",
       "    }\n",
       "\n",
       "    .dataframe tbody tr th {\n",
       "        vertical-align: top;\n",
       "    }\n",
       "\n",
       "    .dataframe thead th {\n",
       "        text-align: right;\n",
       "    }\n",
       "</style>\n",
       "<table border=\"1\" class=\"dataframe\">\n",
       "  <thead>\n",
       "    <tr style=\"text-align: right;\">\n",
       "      <th></th>\n",
       "      <th>source</th>\n",
       "      <th>day</th>\n",
       "      <th>cost</th>\n",
       "    </tr>\n",
       "  </thead>\n",
       "  <tbody>\n",
       "    <tr>\n",
       "      <th>23</th>\n",
       "      <td>youtube_channel_reklama</td>\n",
       "      <td>2020-05-05</td>\n",
       "      <td>147.041741</td>\n",
       "    </tr>\n",
       "    <tr>\n",
       "      <th>24</th>\n",
       "      <td>youtube_channel_reklama</td>\n",
       "      <td>2020-05-06</td>\n",
       "      <td>88.506074</td>\n",
       "    </tr>\n",
       "    <tr>\n",
       "      <th>25</th>\n",
       "      <td>youtube_channel_reklama</td>\n",
       "      <td>2020-05-07</td>\n",
       "      <td>55.740645</td>\n",
       "    </tr>\n",
       "    <tr>\n",
       "      <th>26</th>\n",
       "      <td>youtube_channel_reklama</td>\n",
       "      <td>2020-05-08</td>\n",
       "      <td>40.217907</td>\n",
       "    </tr>\n",
       "    <tr>\n",
       "      <th>27</th>\n",
       "      <td>youtube_channel_reklama</td>\n",
       "      <td>2020-05-09</td>\n",
       "      <td>23.314669</td>\n",
       "    </tr>\n",
       "  </tbody>\n",
       "</table>\n",
       "</div>"
      ],
      "text/plain": [
       "                     source         day        cost\n",
       "23  youtube_channel_reklama  2020-05-05  147.041741\n",
       "24  youtube_channel_reklama  2020-05-06   88.506074\n",
       "25  youtube_channel_reklama  2020-05-07   55.740645\n",
       "26  youtube_channel_reklama  2020-05-08   40.217907\n",
       "27  youtube_channel_reklama  2020-05-09   23.314669"
      ]
     },
     "metadata": {},
     "output_type": "display_data"
    },
    {
     "name": "stdout",
     "output_type": "stream",
     "text": [
      "<class 'pandas.core.frame.DataFrame'>\n",
      "RangeIndex: 28 entries, 0 to 27\n",
      "Data columns (total 3 columns):\n",
      " #   Column  Non-Null Count  Dtype  \n",
      "---  ------  --------------  -----  \n",
      " 0   source  28 non-null     object \n",
      " 1   day     28 non-null     object \n",
      " 2   cost    28 non-null     float64\n",
      "dtypes: float64(1), object(2)\n",
      "memory usage: 800.0+ bytes\n"
     ]
    }
   ],
   "source": [
    "display(ad_costs.tail())\n",
    "ad_costs.info()"
   ]
  },
  {
   "cell_type": "markdown",
   "metadata": {},
   "source": [
    "В файле ad_costs: - некорректный тип данных в столбце с датами"
   ]
  },
  {
   "cell_type": "markdown",
   "metadata": {},
   "source": [
    "Изучим файл с данными user_source"
   ]
  },
  {
   "cell_type": "code",
   "execution_count": 5,
   "metadata": {
    "scrolled": true
   },
   "outputs": [
    {
     "data": {
      "text/html": [
       "<div>\n",
       "<style scoped>\n",
       "    .dataframe tbody tr th:only-of-type {\n",
       "        vertical-align: middle;\n",
       "    }\n",
       "\n",
       "    .dataframe tbody tr th {\n",
       "        vertical-align: top;\n",
       "    }\n",
       "\n",
       "    .dataframe thead th {\n",
       "        text-align: right;\n",
       "    }\n",
       "</style>\n",
       "<table border=\"1\" class=\"dataframe\">\n",
       "  <thead>\n",
       "    <tr style=\"text-align: right;\">\n",
       "      <th></th>\n",
       "      <th>user_id</th>\n",
       "      <th>source</th>\n",
       "    </tr>\n",
       "  </thead>\n",
       "  <tbody>\n",
       "    <tr>\n",
       "      <th>0</th>\n",
       "      <td>0001f83c-c6ac-4621-b7f0-8a28b283ac30</td>\n",
       "      <td>facebook_ads</td>\n",
       "    </tr>\n",
       "    <tr>\n",
       "      <th>1</th>\n",
       "      <td>00151b4f-ba38-44a8-a650-d7cf130a0105</td>\n",
       "      <td>yandex_direct</td>\n",
       "    </tr>\n",
       "    <tr>\n",
       "      <th>2</th>\n",
       "      <td>001aaea6-3d14-43f1-8ca8-7f48820f17aa</td>\n",
       "      <td>youtube_channel_reklama</td>\n",
       "    </tr>\n",
       "    <tr>\n",
       "      <th>3</th>\n",
       "      <td>001d39dc-366c-4021-9604-6a3b9ff01e25</td>\n",
       "      <td>instagram_new_adverts</td>\n",
       "    </tr>\n",
       "    <tr>\n",
       "      <th>4</th>\n",
       "      <td>002f508f-67b6-479f-814b-b05f00d4e995</td>\n",
       "      <td>facebook_ads</td>\n",
       "    </tr>\n",
       "  </tbody>\n",
       "</table>\n",
       "</div>"
      ],
      "text/plain": [
       "                                user_id                   source\n",
       "0  0001f83c-c6ac-4621-b7f0-8a28b283ac30             facebook_ads\n",
       "1  00151b4f-ba38-44a8-a650-d7cf130a0105            yandex_direct\n",
       "2  001aaea6-3d14-43f1-8ca8-7f48820f17aa  youtube_channel_reklama\n",
       "3  001d39dc-366c-4021-9604-6a3b9ff01e25    instagram_new_adverts\n",
       "4  002f508f-67b6-479f-814b-b05f00d4e995             facebook_ads"
      ]
     },
     "metadata": {},
     "output_type": "display_data"
    },
    {
     "name": "stdout",
     "output_type": "stream",
     "text": [
      "<class 'pandas.core.frame.DataFrame'>\n",
      "RangeIndex: 13576 entries, 0 to 13575\n",
      "Data columns (total 2 columns):\n",
      " #   Column   Non-Null Count  Dtype \n",
      "---  ------   --------------  ----- \n",
      " 0   user_id  13576 non-null  object\n",
      " 1   source   13576 non-null  object\n",
      "dtypes: object(2)\n",
      "memory usage: 212.2+ KB\n"
     ]
    }
   ],
   "source": [
    "display(user_source.head())\n",
    "user_source.info()"
   ]
  },
  {
   "cell_type": "markdown",
   "metadata": {},
   "source": [
    "## Предобработка данных"
   ]
  },
  {
   "cell_type": "markdown",
   "metadata": {},
   "source": [
    "Приведем к формату datetime данные в столбцах с датами в файлах game_actions и ad_costs. Добавим в файл game_actions отдельный столбец с датой"
   ]
  },
  {
   "cell_type": "code",
   "execution_count": 6,
   "metadata": {},
   "outputs": [
    {
     "data": {
      "text/plain": [
       "event_datetime    datetime64[ns]\n",
       "event                     object\n",
       "building_type             object\n",
       "user_id                   object\n",
       "project_type              object\n",
       "event_date                object\n",
       "dtype: object"
      ]
     },
     "metadata": {},
     "output_type": "display_data"
    },
    {
     "data": {
      "text/plain": [
       "source     object\n",
       "day        object\n",
       "cost      float64\n",
       "dtype: object"
      ]
     },
     "metadata": {},
     "output_type": "display_data"
    }
   ],
   "source": [
    "game_actions['event_datetime'] = pd.to_datetime(game_actions['event_datetime'])\n",
    "ad_costs['day'] = pd.to_datetime(ad_costs['day']).dt.date\n",
    "game_actions['event_date'] = game_actions['event_datetime'].dt.date\n",
    "display(game_actions.dtypes)\n",
    "display(ad_costs.dtypes)"
   ]
  },
  {
   "cell_type": "markdown",
   "metadata": {},
   "source": [
    "Проверим на наличие дубликатов"
   ]
  },
  {
   "cell_type": "code",
   "execution_count": 7,
   "metadata": {},
   "outputs": [
    {
     "data": {
      "text/plain": [
       "'Количество дубликатов в game_actions:1'"
      ]
     },
     "metadata": {},
     "output_type": "display_data"
    },
    {
     "data": {
      "text/plain": [
       "'Количество дубликатов в ad_costs:0'"
      ]
     },
     "metadata": {},
     "output_type": "display_data"
    },
    {
     "data": {
      "text/plain": [
       "'Количество дубликатов в user_source:0'"
      ]
     },
     "metadata": {},
     "output_type": "display_data"
    }
   ],
   "source": [
    "display('Количество дубликатов в game_actions:{}'.format(game_actions.duplicated().sum()))\n",
    "display('Количество дубликатов в ad_costs:{}'.format(ad_costs.duplicated().sum()))\n",
    "display('Количество дубликатов в user_source:{}'.format(user_source.duplicated().sum()))"
   ]
  },
  {
   "cell_type": "markdown",
   "metadata": {},
   "source": [
    "Удалим дубликат в game_actions"
   ]
  },
  {
   "cell_type": "code",
   "execution_count": 8,
   "metadata": {},
   "outputs": [
    {
     "data": {
      "text/plain": [
       "'Количество дубликатов в game_actions:0'"
      ]
     },
     "metadata": {},
     "output_type": "display_data"
    }
   ],
   "source": [
    "game_actions = game_actions.drop_duplicates()\n",
    "display('Количество дубликатов в game_actions:{}'.format(game_actions.duplicated().sum()))"
   ]
  },
  {
   "cell_type": "markdown",
   "metadata": {},
   "source": [
    "Проанализируем пропущенные значения в столбцах building_type и project_type таблицы game_actions"
   ]
  },
  {
   "cell_type": "code",
   "execution_count": 9,
   "metadata": {},
   "outputs": [
    {
     "data": {
      "text/html": [
       "<div>\n",
       "<style scoped>\n",
       "    .dataframe tbody tr th:only-of-type {\n",
       "        vertical-align: middle;\n",
       "    }\n",
       "\n",
       "    .dataframe tbody tr th {\n",
       "        vertical-align: top;\n",
       "    }\n",
       "\n",
       "    .dataframe thead th {\n",
       "        text-align: right;\n",
       "    }\n",
       "</style>\n",
       "<table border=\"1\" class=\"dataframe\">\n",
       "  <thead>\n",
       "    <tr style=\"text-align: right;\">\n",
       "      <th></th>\n",
       "      <th>event_datetime</th>\n",
       "      <th>event</th>\n",
       "      <th>building_type</th>\n",
       "      <th>user_id</th>\n",
       "      <th>project_type</th>\n",
       "      <th>event_date</th>\n",
       "    </tr>\n",
       "  </thead>\n",
       "  <tbody>\n",
       "    <tr>\n",
       "      <th>6659</th>\n",
       "      <td>2020-05-04 19:47:29</td>\n",
       "      <td>finished_stage_1</td>\n",
       "      <td>NaN</td>\n",
       "      <td>ced7b368-818f-48f6-9461-2346de0892c5</td>\n",
       "      <td>NaN</td>\n",
       "      <td>2020-05-04</td>\n",
       "    </tr>\n",
       "    <tr>\n",
       "      <th>13134</th>\n",
       "      <td>2020-05-05 13:22:09</td>\n",
       "      <td>finished_stage_1</td>\n",
       "      <td>NaN</td>\n",
       "      <td>7ef7fc89-2779-46ea-b328-9e5035b83af5</td>\n",
       "      <td>NaN</td>\n",
       "      <td>2020-05-05</td>\n",
       "    </tr>\n",
       "    <tr>\n",
       "      <th>15274</th>\n",
       "      <td>2020-05-05 18:54:37</td>\n",
       "      <td>finished_stage_1</td>\n",
       "      <td>NaN</td>\n",
       "      <td>70db22b3-c2f4-43bc-94ea-51c8d2904a29</td>\n",
       "      <td>NaN</td>\n",
       "      <td>2020-05-05</td>\n",
       "    </tr>\n",
       "    <tr>\n",
       "      <th>16284</th>\n",
       "      <td>2020-05-05 21:27:29</td>\n",
       "      <td>finished_stage_1</td>\n",
       "      <td>NaN</td>\n",
       "      <td>903fc9ef-ba97-4b12-9d5c-ac8d602fbd8b</td>\n",
       "      <td>NaN</td>\n",
       "      <td>2020-05-05</td>\n",
       "    </tr>\n",
       "    <tr>\n",
       "      <th>19650</th>\n",
       "      <td>2020-05-06 06:02:22</td>\n",
       "      <td>finished_stage_1</td>\n",
       "      <td>NaN</td>\n",
       "      <td>58e077ba-feb1-4556-a5a0-d96bd04efa39</td>\n",
       "      <td>NaN</td>\n",
       "      <td>2020-05-06</td>\n",
       "    </tr>\n",
       "    <tr>\n",
       "      <th>...</th>\n",
       "      <td>...</td>\n",
       "      <td>...</td>\n",
       "      <td>...</td>\n",
       "      <td>...</td>\n",
       "      <td>...</td>\n",
       "      <td>...</td>\n",
       "    </tr>\n",
       "    <tr>\n",
       "      <th>135632</th>\n",
       "      <td>2020-06-04 15:50:38</td>\n",
       "      <td>finished_stage_1</td>\n",
       "      <td>NaN</td>\n",
       "      <td>22cce310-fe10-41a2-941b-9c3d63327fea</td>\n",
       "      <td>NaN</td>\n",
       "      <td>2020-06-04</td>\n",
       "    </tr>\n",
       "    <tr>\n",
       "      <th>135633</th>\n",
       "      <td>2020-06-04 17:56:14</td>\n",
       "      <td>finished_stage_1</td>\n",
       "      <td>NaN</td>\n",
       "      <td>d477dde8-7c22-4f23-9c4f-4ec31a1aa4c8</td>\n",
       "      <td>NaN</td>\n",
       "      <td>2020-06-04</td>\n",
       "    </tr>\n",
       "    <tr>\n",
       "      <th>135636</th>\n",
       "      <td>2020-06-05 02:25:12</td>\n",
       "      <td>finished_stage_1</td>\n",
       "      <td>NaN</td>\n",
       "      <td>515c1952-99aa-4bca-a7ea-d0449eb5385a</td>\n",
       "      <td>NaN</td>\n",
       "      <td>2020-06-05</td>\n",
       "    </tr>\n",
       "    <tr>\n",
       "      <th>135638</th>\n",
       "      <td>2020-06-05 12:12:27</td>\n",
       "      <td>finished_stage_1</td>\n",
       "      <td>NaN</td>\n",
       "      <td>32572adb-900f-4b5d-a453-1eb1e6d88d8b</td>\n",
       "      <td>NaN</td>\n",
       "      <td>2020-06-05</td>\n",
       "    </tr>\n",
       "    <tr>\n",
       "      <th>135639</th>\n",
       "      <td>2020-06-05 12:32:49</td>\n",
       "      <td>finished_stage_1</td>\n",
       "      <td>NaN</td>\n",
       "      <td>f21d179f-1c4b-437e-b9c6-ab1976907195</td>\n",
       "      <td>NaN</td>\n",
       "      <td>2020-06-05</td>\n",
       "    </tr>\n",
       "  </tbody>\n",
       "</table>\n",
       "<p>7683 rows × 6 columns</p>\n",
       "</div>"
      ],
      "text/plain": [
       "            event_datetime             event building_type  \\\n",
       "6659   2020-05-04 19:47:29  finished_stage_1           NaN   \n",
       "13134  2020-05-05 13:22:09  finished_stage_1           NaN   \n",
       "15274  2020-05-05 18:54:37  finished_stage_1           NaN   \n",
       "16284  2020-05-05 21:27:29  finished_stage_1           NaN   \n",
       "19650  2020-05-06 06:02:22  finished_stage_1           NaN   \n",
       "...                    ...               ...           ...   \n",
       "135632 2020-06-04 15:50:38  finished_stage_1           NaN   \n",
       "135633 2020-06-04 17:56:14  finished_stage_1           NaN   \n",
       "135636 2020-06-05 02:25:12  finished_stage_1           NaN   \n",
       "135638 2020-06-05 12:12:27  finished_stage_1           NaN   \n",
       "135639 2020-06-05 12:32:49  finished_stage_1           NaN   \n",
       "\n",
       "                                     user_id project_type  event_date  \n",
       "6659    ced7b368-818f-48f6-9461-2346de0892c5          NaN  2020-05-04  \n",
       "13134   7ef7fc89-2779-46ea-b328-9e5035b83af5          NaN  2020-05-05  \n",
       "15274   70db22b3-c2f4-43bc-94ea-51c8d2904a29          NaN  2020-05-05  \n",
       "16284   903fc9ef-ba97-4b12-9d5c-ac8d602fbd8b          NaN  2020-05-05  \n",
       "19650   58e077ba-feb1-4556-a5a0-d96bd04efa39          NaN  2020-05-06  \n",
       "...                                      ...          ...         ...  \n",
       "135632  22cce310-fe10-41a2-941b-9c3d63327fea          NaN  2020-06-04  \n",
       "135633  d477dde8-7c22-4f23-9c4f-4ec31a1aa4c8          NaN  2020-06-04  \n",
       "135636  515c1952-99aa-4bca-a7ea-d0449eb5385a          NaN  2020-06-05  \n",
       "135638  32572adb-900f-4b5d-a453-1eb1e6d88d8b          NaN  2020-06-05  \n",
       "135639  f21d179f-1c4b-437e-b9c6-ab1976907195          NaN  2020-06-05  \n",
       "\n",
       "[7683 rows x 6 columns]"
      ]
     },
     "execution_count": 9,
     "metadata": {},
     "output_type": "execute_result"
    }
   ],
   "source": [
    "game_actions[game_actions['building_type'].isna()]"
   ]
  },
  {
   "cell_type": "code",
   "execution_count": 10,
   "metadata": {},
   "outputs": [
    {
     "data": {
      "text/plain": [
       "spaceport          59325\n",
       "assembly_shop      54494\n",
       "research_center    14137\n",
       "Name: building_type, dtype: int64"
      ]
     },
     "metadata": {},
     "output_type": "display_data"
    },
    {
     "data": {
      "text/plain": [
       "finished_stage_1    5817\n",
       "project             1866\n",
       "Name: event, dtype: int64"
      ]
     },
     "metadata": {},
     "output_type": "display_data"
    }
   ],
   "source": [
    "display(game_actions['building_type'].value_counts())\n",
    "display(game_actions[game_actions['building_type'].isnull()]['event'].value_counts())"
   ]
  },
  {
   "cell_type": "markdown",
   "metadata": {},
   "source": [
    "В столбце building_type указаны виды текущей постройки: spaceport, assembly_shop или research_center. В столбце event постройка отмечена статусом building. Если у пользователя статус в столбце event отличный от building - finished_stage_1 или project, это означает, что пользователь в этот момент ничего не строит и в поле столбца building_type появляется NaN. Данные пропуски оставляем as is."
   ]
  },
  {
   "cell_type": "code",
   "execution_count": 11,
   "metadata": {},
   "outputs": [
    {
     "data": {
      "text/plain": [
       "satellite_orbital_assembly    1866\n",
       "Name: project_type, dtype: int64"
      ]
     },
     "execution_count": 11,
     "metadata": {},
     "output_type": "execute_result"
    }
   ],
   "source": [
    "game_actions['project_type'].value_counts()"
   ]
  },
  {
   "cell_type": "markdown",
   "metadata": {},
   "source": [
    "В столбце project_type указан тип реализованного проекта. Если в данном столбце стоит пропуск, это означает, что у пользователя нет реализованного проекта. Данные пропуски также оставляем as is."
   ]
  },
  {
   "cell_type": "markdown",
   "metadata": {},
   "source": [
    "**Вывод:**\n",
    "- привели данные в столбцах с датами к формату datetime;\n",
    "- проверили данные на наличие дубликатов и удалили найденный дубликат в файле game_actions;\n",
    "- проверили данные на наличие пропущенных значений, оставили пропуски как есть."
   ]
  },
  {
   "cell_type": "markdown",
   "metadata": {},
   "source": [
    "## Исследовательский анализ данных"
   ]
  },
  {
   "cell_type": "markdown",
   "metadata": {},
   "source": [
    "Определим, за какой период предоставлены данные в файле game_actions"
   ]
  },
  {
   "cell_type": "code",
   "execution_count": 12,
   "metadata": {},
   "outputs": [
    {
     "data": {
      "text/plain": [
       "'Минимальная дата: 2020-05-04. Максимальная дата: 2020-06-05'"
      ]
     },
     "metadata": {},
     "output_type": "display_data"
    }
   ],
   "source": [
    "min_date = game_actions['event_date'].min()\n",
    "max_date = game_actions['event_date'].max()\n",
    "display('Минимальная дата: {}. Максимальная дата: {}'.format(min_date, max_date))"
   ]
  },
  {
   "cell_type": "markdown",
   "metadata": {},
   "source": [
    "Определим, за какой период предоставлены данные в файле ad_costs"
   ]
  },
  {
   "cell_type": "code",
   "execution_count": 13,
   "metadata": {},
   "outputs": [
    {
     "data": {
      "text/plain": [
       "'Минимальная дата: 2020-05-03. Максимальная дата: 2020-05-09'"
      ]
     },
     "metadata": {},
     "output_type": "display_data"
    }
   ],
   "source": [
    "min_date = ad_costs['day'].min()\n",
    "max_date = ad_costs['day'].max()\n",
    "display('Минимальная дата: {}. Максимальная дата: {}'.format(min_date, max_date))"
   ]
  },
  {
   "cell_type": "markdown",
   "metadata": {},
   "source": [
    "Изучим распределения пользователей по дням "
   ]
  },
  {
   "cell_type": "code",
   "execution_count": 14,
   "metadata": {},
   "outputs": [],
   "source": [
    "dau_total = game_actions.groupby('event_date')['user_id'].nunique().reset_index()"
   ]
  },
  {
   "cell_type": "code",
   "execution_count": 15,
   "metadata": {
    "scrolled": false
   },
   "outputs": [
    {
     "data": {
      "image/png": "[encoded data removed]",
      "text/plain": [
       "<Figure size 1440x504 with 1 Axes>"
      ]
     },
     "metadata": {
      "needs_background": "light"
     },
     "output_type": "display_data"
    }
   ],
   "source": [
    "plt.figure(figsize=(20, 7))\n",
    "ax = sns.barplot(data = dau_total, x = 'event_date', y = 'user_id')\n",
    "for p in ax.patches:\n",
    "    ax.annotate(format(p.get_height(), '.0f'), \n",
    "                   (p.get_x() + p.get_width() / 2., p.get_height()), \n",
    "                   ha = 'center', va = 'center', \n",
    "                   xytext = (0, 9), \n",
    "                   textcoords = 'offset points')\n",
    "plt.grid(False)\n",
    "plt.title('Распределение пользователей по дням')      \n",
    "plt.ylabel('Количество пользователей')\n",
    "plt.xlabel('День')\n",
    "ax.set_xticklabels(dau_total['event_date'])\n",
    "plt.xticks(rotation = 60)\n",
    "plt.show()"
   ]
  },
  {
   "cell_type": "markdown",
   "metadata": {},
   "source": [
    "До 10 мая наблюдается рост количества пользователей в день, затем идет резкий спад. Данный спад может быть связан с окончанием майских праздников, а также с окончанием периода проведения рекламной кампании."
   ]
  },
  {
   "cell_type": "markdown",
   "metadata": {},
   "source": [
    "Изучим распределения событий по дням "
   ]
  },
  {
   "cell_type": "code",
   "execution_count": 16,
   "metadata": {},
   "outputs": [],
   "source": [
    "events_per_day = game_actions.groupby('event_date')['event'].count().reset_index()"
   ]
  },
  {
   "cell_type": "code",
   "execution_count": 17,
   "metadata": {},
   "outputs": [
    {
     "data": {
      "image/png": "[encoded data removed]",
      "text/plain": [
       "<Figure size 1440x504 with 1 Axes>"
      ]
     },
     "metadata": {
      "needs_background": "light"
     },
     "output_type": "display_data"
    }
   ],
   "source": [
    "plt.figure(figsize=(20, 7))\n",
    "ax = sns.barplot(data = events_per_day, x = 'event_date', y = 'event')\n",
    "for p in ax.patches:\n",
    "    ax.annotate(format(p.get_height(), '.0f'), \n",
    "                   (p.get_x() + p.get_width() / 2., p.get_height()), \n",
    "                   ha = 'center', va = 'center', \n",
    "                   xytext = (0, 9), \n",
    "                   textcoords = 'offset points')\n",
    "plt.grid(False)\n",
    "plt.title('Распределение событий по дням')      \n",
    "plt.ylabel('Количество событий')\n",
    "plt.xlabel('День')\n",
    "ax.set_xticklabels(events_per_day['event_date'])\n",
    "plt.xticks(rotation = 60)\n",
    "plt.show()"
   ]
  },
  {
   "cell_type": "markdown",
   "metadata": {},
   "source": [
    "Тенденция в распределении событий по дням аналогичная распределению пользователей по дням"
   ]
  },
  {
   "cell_type": "markdown",
   "metadata": {},
   "source": [
    "Определеним, сколько в среднем событий приходится на 1-го пользователя"
   ]
  },
  {
   "cell_type": "code",
   "execution_count": 18,
   "metadata": {},
   "outputs": [
    {
     "data": {
      "text/plain": [
       "'Среднее количество событий на 1-го пользователя: 9'"
      ]
     },
     "metadata": {},
     "output_type": "display_data"
    }
   ],
   "source": [
    "events_per_user = game_actions.groupby('user_id').agg({'event': 'count'}).mean()\n",
    "display('Среднее количество событий на 1-го пользователя: {}'.format(int(events_per_user)))"
   ]
  },
  {
   "cell_type": "markdown",
   "metadata": {},
   "source": [
    "Посмотрим на распределение в общем объеме пользователей, не прошедших 1-й уровень, пользователей, завершивших 1-й уровень путем реализации проекта, и пользователей, завершивших 1-й уровень путем победы над первым врагом "
   ]
  },
  {
   "cell_type": "code",
   "execution_count": 19,
   "metadata": {
    "scrolled": true
   },
   "outputs": [
    {
     "data": {
      "text/plain": [
       "'Общее количество пользователей:13576'"
      ]
     },
     "metadata": {},
     "output_type": "display_data"
    },
    {
     "data": {
      "text/plain": [
       "'Количество пользователей, не прошедших 1-й уровень:7759'"
      ]
     },
     "metadata": {},
     "output_type": "display_data"
    },
    {
     "data": {
      "text/plain": [
       "'Количество пользователей, прошедших 1-й уровень:5817'"
      ]
     },
     "metadata": {},
     "output_type": "display_data"
    },
    {
     "data": {
      "text/plain": [
       "'Количество пользователей, прошедших 1-й уровень, реализовав проект:1866'"
      ]
     },
     "metadata": {},
     "output_type": "display_data"
    },
    {
     "data": {
      "text/plain": [
       "'Количество пользователей, прошедших 1-й уровень, победив врага:3951'"
      ]
     },
     "metadata": {},
     "output_type": "display_data"
    }
   ],
   "source": [
    "builders_winners = (\n",
    "    game_actions.query('project_type == \"satellite_orbital_assembly\"')\n",
    "    ['user_id'].to_list()\n",
    ")\n",
    "enemy_winners = (\n",
    "    game_actions.query('(event == \"finished_stage_1\") and (user_id != @builders_winners)')\n",
    "    ['user_id'].to_list()\n",
    ")\n",
    "loosers = (\n",
    "    list(game_actions.query('(user_id != @builders_winners) and (user_id != @enemy_winners)')\n",
    "    ['user_id'].unique())\n",
    ")\n",
    "display('Общее количество пользователей:{:.0f}'.format(len(loosers) + len(builders_winners) + len(enemy_winners)))\n",
    "display('Количество пользователей, не прошедших 1-й уровень:{:.0f}'.format(len(loosers)))\n",
    "display('Количество пользователей, прошедших 1-й уровень:{:.0f}'.format(len(builders_winners) + len(enemy_winners)))        \n",
    "display('Количество пользователей, прошедших 1-й уровень, реализовав проект:{:.0f}'.format(len(builders_winners)))     \n",
    "display('Количество пользователей, прошедших 1-й уровень, победив врага:{:.0f}'.format(len(enemy_winners)))   "
   ]
  },
  {
   "cell_type": "markdown",
   "metadata": {},
   "source": [
    "Определим среднее количество построенных зданий для тех пользователей, кто завершил 1-й уровень(победой над врагом или реализацией проекта), и тех, кто не завершил первый уровень"
   ]
  },
  {
   "cell_type": "markdown",
   "metadata": {},
   "source": [
    "Для пользователей, завершивших 1-й уровень, реализовав проект"
   ]
  },
  {
   "cell_type": "code",
   "execution_count": 20,
   "metadata": {
    "scrolled": true
   },
   "outputs": [
    {
     "data": {
      "text/plain": [
       "'Среднее количество построенных зданий:'"
      ]
     },
     "metadata": {},
     "output_type": "display_data"
    },
    {
     "data": {
      "text/plain": [
       "building_type    13.0\n",
       "dtype: float64"
      ]
     },
     "metadata": {},
     "output_type": "display_data"
    }
   ],
   "source": [
    "builders = (\n",
    "    game_actions.query('project_type == \"satellite_orbital_assembly\"')\n",
    "    ['user_id'].unique()\n",
    ")\n",
    "avg_buildings = (\n",
    "    game_actions[game_actions['user_id'].isin(builders)].groupby('user_id')\n",
    "    .agg({'building_type':'count'}).mean()\n",
    ")\n",
    "display('Среднее количество построенных зданий:', round(avg_buildings, 0))"
   ]
  },
  {
   "cell_type": "markdown",
   "metadata": {},
   "source": [
    "Для пользователей, завершивших 1-й уровень, победив врага"
   ]
  },
  {
   "cell_type": "code",
   "execution_count": 21,
   "metadata": {
    "scrolled": true
   },
   "outputs": [
    {
     "data": {
      "text/plain": [
       "'Среднее количество построенных зданий:'"
      ]
     },
     "metadata": {},
     "output_type": "display_data"
    },
    {
     "data": {
      "text/plain": [
       "building_type    10.0\n",
       "dtype: float64"
      ]
     },
     "metadata": {},
     "output_type": "display_data"
    }
   ],
   "source": [
    "enemy_win = game_actions.query('event == \"finished_stage_1\"')['user_id'].unique()\n",
    "avg_buildings = (\n",
    "    game_actions[game_actions['user_id'].isin(enemy_win)].groupby('user_id')\n",
    "    .agg({'building_type':'count'}).mean()\n",
    ")\n",
    "display('Среднее количество построенных зданий:', round(avg_buildings, 0))"
   ]
  },
  {
   "cell_type": "markdown",
   "metadata": {},
   "source": [
    "Для пользователей, незавершивших 1-й уровень"
   ]
  },
  {
   "cell_type": "code",
   "execution_count": 22,
   "metadata": {},
   "outputs": [
    {
     "data": {
      "text/plain": [
       "'Среднее количество построенных зданий:'"
      ]
     },
     "metadata": {},
     "output_type": "display_data"
    },
    {
     "data": {
      "text/plain": [
       "building_type    9.0\n",
       "dtype: float64"
      ]
     },
     "metadata": {},
     "output_type": "display_data"
    }
   ],
   "source": [
    "loosers = (\n",
    "    game_actions\n",
    "    .query('(event != \"finished_stage_1\") or (project_type != \"satellite_orbital_assembly\")')\n",
    "    ['user_id'].unique()\n",
    ")\n",
    "avg_buildings = (\n",
    "    game_actions[game_actions['user_id'].isin(loosers)].groupby('user_id')\n",
    "    .agg({'building_type':'count'}).mean()\n",
    ")\n",
    "display('Среднее количество построенных зданий:', round(avg_buildings,0))"
   ]
  },
  {
   "cell_type": "markdown",
   "metadata": {},
   "source": [
    "Посмотрим распределение расходов по типам рекламных источников"
   ]
  },
  {
   "cell_type": "code",
   "execution_count": 23,
   "metadata": {
    "scrolled": false
   },
   "outputs": [
    {
     "data": {
      "text/html": [
       "<div>\n",
       "<style scoped>\n",
       "    .dataframe tbody tr th:only-of-type {\n",
       "        vertical-align: middle;\n",
       "    }\n",
       "\n",
       "    .dataframe tbody tr th {\n",
       "        vertical-align: top;\n",
       "    }\n",
       "\n",
       "    .dataframe thead th {\n",
       "        text-align: right;\n",
       "    }\n",
       "</style>\n",
       "<table border=\"1\" class=\"dataframe\">\n",
       "  <thead>\n",
       "    <tr style=\"text-align: right;\">\n",
       "      <th></th>\n",
       "      <th>source</th>\n",
       "      <th>cost</th>\n",
       "    </tr>\n",
       "  </thead>\n",
       "  <tbody>\n",
       "    <tr>\n",
       "      <th>2</th>\n",
       "      <td>yandex_direct</td>\n",
       "      <td>2233</td>\n",
       "    </tr>\n",
       "    <tr>\n",
       "      <th>1</th>\n",
       "      <td>instagram_new_adverts</td>\n",
       "      <td>2161</td>\n",
       "    </tr>\n",
       "    <tr>\n",
       "      <th>0</th>\n",
       "      <td>facebook_ads</td>\n",
       "      <td>2140</td>\n",
       "    </tr>\n",
       "    <tr>\n",
       "      <th>3</th>\n",
       "      <td>youtube_channel_reklama</td>\n",
       "      <td>1068</td>\n",
       "    </tr>\n",
       "  </tbody>\n",
       "</table>\n",
       "</div>"
      ],
      "text/plain": [
       "                    source  cost\n",
       "2            yandex_direct  2233\n",
       "1    instagram_new_adverts  2161\n",
       "0             facebook_ads  2140\n",
       "3  youtube_channel_reklama  1068"
      ]
     },
     "metadata": {},
     "output_type": "display_data"
    },
    {
     "data": {
      "text/plain": [
       "'Общая сумма расходов на рекламу: 7604'"
      ]
     },
     "metadata": {},
     "output_type": "display_data"
    }
   ],
   "source": [
    "source_cost_by_channel = (\n",
    "    ad_costs.groupby('source')['cost'].sum().astype('int')\n",
    "    .reset_index().sort_values('cost', ascending = False)\n",
    ")\n",
    "display(source_cost_by_channel)\n",
    "display('Общая сумма расходов на рекламу: {:.0f}' .format(ad_costs['cost'].sum()))"
   ]
  },
  {
   "cell_type": "code",
   "execution_count": 24,
   "metadata": {},
   "outputs": [
    {
     "data": {
      "image/png": "[encoded data removed]",
      "text/plain": [
       "<Figure size 720x360 with 1 Axes>"
      ]
     },
     "metadata": {
      "needs_background": "light"
     },
     "output_type": "display_data"
    }
   ],
   "source": [
    "plt.figure(figsize=(10, 5))\n",
    "plt.grid(False)\n",
    "plt.title('Распределение расходов по типам источников')\n",
    "ax = sns.barplot(data = source_cost_by_channel, x = 'source', y = 'cost', errwidth=0)\n",
    "for p in ax.patches:\n",
    "    ax.annotate(format(p.get_height(), '.0f'), \n",
    "                   (p.get_x() + p.get_width() / 2., p.get_height()), \n",
    "                   ha = 'center', va = 'center', \n",
    "                   xytext = (0, -12), \n",
    "                   textcoords = 'offset points')\n",
    "plt.ylabel('Расходы')\n",
    "plt.xlabel('Источники')\n",
    "plt.xticks(rotation = 0)\n",
    "plt.show()"
   ]
  },
  {
   "cell_type": "markdown",
   "metadata": {},
   "source": [
    "Изучим распределение пользователей в зависимости от источника рекламы"
   ]
  },
  {
   "cell_type": "code",
   "execution_count": 25,
   "metadata": {},
   "outputs": [
    {
     "data": {
      "image/png": "[encoded data removed]",
      "text/plain": [
       "<Figure size 720x360 with 1 Axes>"
      ]
     },
     "metadata": {
      "needs_background": "light"
     },
     "output_type": "display_data"
    }
   ],
   "source": [
    "users_by_source = (\n",
    "    user_source.groupby('source')['user_id'].count().reset_index()\n",
    "    .sort_values('user_id', ascending = False)\n",
    ")\n",
    "plt.figure(figsize=(10, 5))\n",
    "plt.grid(False)\n",
    "plt.title('Распределение пользователей по рекламным источникам')\n",
    "ax = sns.barplot(data = users_by_source, x = 'source', y = 'user_id', errwidth=0)\n",
    "for p in ax.patches:\n",
    "    ax.annotate(format(p.get_height(), '.0f'), \n",
    "                   (p.get_x() + p.get_width() / 2., p.get_height()), \n",
    "                   ha = 'center', va = 'center', \n",
    "                   xytext = (0, -12), \n",
    "                   textcoords = 'offset points')\n",
    "plt.ylabel('Количество пользователей')\n",
    "plt.xlabel('Источники рекламы')\n",
    "plt.xticks(rotation = 0)\n",
    "plt.show()"
   ]
  },
  {
   "cell_type": "markdown",
   "metadata": {},
   "source": [
    "Рассчитаем САС по каждому рекламному источнику - стоимость привлечения одного пользователя"
   ]
  },
  {
   "cell_type": "code",
   "execution_count": 26,
   "metadata": {},
   "outputs": [
    {
     "data": {
      "text/html": [
       "<div>\n",
       "<style scoped>\n",
       "    .dataframe tbody tr th:only-of-type {\n",
       "        vertical-align: middle;\n",
       "    }\n",
       "\n",
       "    .dataframe tbody tr th {\n",
       "        vertical-align: top;\n",
       "    }\n",
       "\n",
       "    .dataframe thead th {\n",
       "        text-align: right;\n",
       "    }\n",
       "</style>\n",
       "<table border=\"1\" class=\"dataframe\">\n",
       "  <thead>\n",
       "    <tr style=\"text-align: right;\">\n",
       "      <th></th>\n",
       "      <th>source</th>\n",
       "      <th>cost</th>\n",
       "      <th>users_number</th>\n",
       "      <th>cac</th>\n",
       "    </tr>\n",
       "  </thead>\n",
       "  <tbody>\n",
       "    <tr>\n",
       "      <th>2</th>\n",
       "      <td>facebook_ads</td>\n",
       "      <td>2140</td>\n",
       "      <td>2726</td>\n",
       "      <td>0.79</td>\n",
       "    </tr>\n",
       "    <tr>\n",
       "      <th>1</th>\n",
       "      <td>instagram_new_adverts</td>\n",
       "      <td>2161</td>\n",
       "      <td>3347</td>\n",
       "      <td>0.65</td>\n",
       "    </tr>\n",
       "    <tr>\n",
       "      <th>0</th>\n",
       "      <td>yandex_direct</td>\n",
       "      <td>2233</td>\n",
       "      <td>4817</td>\n",
       "      <td>0.46</td>\n",
       "    </tr>\n",
       "    <tr>\n",
       "      <th>3</th>\n",
       "      <td>youtube_channel_reklama</td>\n",
       "      <td>1068</td>\n",
       "      <td>2686</td>\n",
       "      <td>0.40</td>\n",
       "    </tr>\n",
       "  </tbody>\n",
       "</table>\n",
       "</div>"
      ],
      "text/plain": [
       "                    source  cost  users_number   cac\n",
       "2             facebook_ads  2140          2726  0.79\n",
       "1    instagram_new_adverts  2161          3347  0.65\n",
       "0            yandex_direct  2233          4817  0.46\n",
       "3  youtube_channel_reklama  1068          2686  0.40"
      ]
     },
     "metadata": {},
     "output_type": "display_data"
    }
   ],
   "source": [
    "cost_source = (\n",
    "    pd.merge(source_cost_by_channel , users_by_source, on = 'source').\n",
    "    rename(columns = {'user_id' : 'users_number'})\n",
    ")\n",
    "cost_source['cac'] = round((cost_source['cost'] / cost_source['users_number']),2)\n",
    "display(cost_source.sort_values(by='cac', ascending=False))"
   ]
  },
  {
   "cell_type": "markdown",
   "metadata": {},
   "source": [
    "**Вывод:**\n",
    "- данные по действиям пользователей представлены за период с 4 мая по 5 июня 2020 года;\n",
    "- затрат на рекламу осуществлялись в период с 3 по 9 мая 2020 года. Мы имеем дело с предоплатной схемой;\n",
    "- до 10 мая наблюдается ежедневный рост количества пользователей, затем идет резкий спад.  Пик пользователей 10 мая - более 9 тысяч. Pезкий спад после 10 мая спад может быть связан с окончанием майских праздников, а также с окончанием периода проведения рекламной кампании;\n",
    "- тенденция в распределении событий по дням аналогичная распределению пользователей по дням. Пик событий приходится на 10 мая - более 15 тысяч, потом спад;\n",
    "- Общее количество пользователей - 13576. Из них  - 7759 пользователй (57%) не завершили 1-й уровень; 5817 пользователей (43%) завершили первый уровень, из которых 68% победили врага и 32% реализовали проект. Мы видим, что пользователи предпочтитают более быструю стратегию завершения первого уровня - победа врага.\n",
    "- среднее количество построенных зданий находится в интервале ло 9 до 13 в зависимости от завершения/незавершения 1-го уровня и стратегии пользователей;\n",
    "- oбщая сумма расходов на рекламу - 7604;\n",
    "- больше всего затрат падает на источник -  yandex_direct, источник с наименьшими затратами - \tyoutube_channel_reklama;\n",
    "- стоимость привлечения пользователей САС находится в интревале от 0.4 до 0.79. Самая высокая стоимость привлечения пользователей источника facebook_ads, самая низкая - youtube_channel_reklama."
   ]
  },
  {
   "cell_type": "markdown",
   "metadata": {},
   "source": [
    "## Проверка статистических гипотез"
   ]
  },
  {
   "cell_type": "markdown",
   "metadata": {},
   "source": [
    "### Гипотеза 1: Среднее время прохождения уровня между пользователями, которые заканчивают уровень через реализацию проекта, и пользователями, которые заканчивают уровень победой над другим игроком, различается"
   ]
  },
  {
   "cell_type": "markdown",
   "metadata": {},
   "source": [
    "Нулевая гипотеза: Среднее время прохождения уровня между пользователями, которые заканчивают уровень через реализацию проекта, и пользователями, которые заканчивают уровень победой над другим игроком, одинаково.\n",
    "\n",
    "Альтернативная гипотеза: Среднее время прохождения уровня между пользователями, которые заканчивают уровень через реализацию проекта, и пользователями, которые заканчивают уровень победой над другим игроком, различается. \n",
    "\n",
    "Если p-value меньше порогового значения alpha=0.05, нулевую гипотезу отвергаем. "
   ]
  },
  {
   "cell_type": "markdown",
   "metadata": {},
   "source": [
    "Расчет времени, которое пользователи проводят в игре"
   ]
  },
  {
   "cell_type": "code",
   "execution_count": 27,
   "metadata": {},
   "outputs": [],
   "source": [
    "min_date = (\n",
    "    game_actions.groupby('user_id')['event_date']\n",
    "    .min().reset_index().rename(columns = {'event_date' : 'min_date'})\n",
    ")\n",
    "max_date = (\n",
    "    game_actions.groupby('user_id')['event_date']\n",
    "    .max().reset_index().rename(columns = {'event_date' : 'max_date'})\n",
    ")\n",
    "maxmin_date = pd.merge(min_date, max_date, how = 'left', on = 'user_id')\n",
    "maxmin_date['delta_time'] = (\n",
    "    (maxmin_date['max_date'] - maxmin_date['min_date'])\n",
    "    .astype('timedelta64[D]')\n",
    ")"
   ]
  },
  {
   "cell_type": "code",
   "execution_count": 28,
   "metadata": {},
   "outputs": [],
   "source": [
    "builders_winners_time = maxmin_date.query('user_id == @builders_winners')\n",
    "enemy_winners_time = maxmin_date.query('user_id == @enemy_winners')"
   ]
  },
  {
   "cell_type": "code",
   "execution_count": 29,
   "metadata": {},
   "outputs": [
    {
     "name": "stdout",
     "output_type": "stream",
     "text": [
      "p-значение: 6.5704667556440105e-105\n",
      "Отвергаем нулевую гипотезу\n"
     ]
    }
   ],
   "source": [
    "alpha = 0.05\n",
    "results = (\n",
    "    st.ttest_ind(builders_winners_time['delta_time'], \n",
    "    enemy_winners_time['delta_time'], equal_var = False)\n",
    ")\n",
    "print('p-значение:', results.pvalue)\n",
    "if results.pvalue < alpha:\n",
    "    print('Отвергаем нулевую гипотезу')\n",
    "else:\n",
    "    print('Не можем отвергнуть нулевую гипотезу')"
   ]
  },
  {
   "cell_type": "markdown",
   "metadata": {},
   "source": [
    "**Вывод:**\n",
    "- Среднее время прохождения уровня между пользователями, которые заканчивают уровень через реализацию проекта, и пользователями, которые заканчивают уровень победой над другим игроком, различается. "
   ]
  },
  {
   "cell_type": "markdown",
   "metadata": {},
   "source": [
    "### Гипотеза 2: Количество построенных зданий у пользователей, которые заканчивают уровень через реализацию проекта, и пользователей, которые заканчивают уровень победой над другим игроком, различается"
   ]
  },
  {
   "cell_type": "markdown",
   "metadata": {},
   "source": [
    "Нулевая гипотеза: Среднее количество построенных зданий у пользователей, которые заканчивают уровень через реализацию проекта, и пользователей, которые заканчивают уровень победой над другим игроком, не различается\n",
    "\n",
    "Альтернативная гипотеза: Среднее количество построенных зданий у пользователей, которые заканчивают уровень через реализацию проекта, и пользователей, которые заканчивают уровень победой над другим игроком, различается\n",
    "\n",
    "Если p-value меньше порогового значения alpha=0.05, нулевую гипотезу отвергаем. "
   ]
  },
  {
   "cell_type": "code",
   "execution_count": 30,
   "metadata": {},
   "outputs": [],
   "source": [
    "total_events_by_users = (\n",
    "    game_actions.query('(event != \"project\") and (event != \"finished_stage_1\")')\n",
    "    .groupby(['user_id'])['event'].count().reset_index()     \n",
    ")\n",
    "builders_winners_build = total_events_by_users.query('user_id == @builders_winners')\n",
    "enemy_winners_build = total_events_by_users.query('user_id == @enemy_winners')"
   ]
  },
  {
   "cell_type": "code",
   "execution_count": 31,
   "metadata": {},
   "outputs": [
    {
     "name": "stdout",
     "output_type": "stream",
     "text": [
      "p-значение: 0.0\n",
      "Отвергаем нулевую гипотезу\n"
     ]
    }
   ],
   "source": [
    "alpha = 0.05\n",
    "results = (\n",
    "    st.ttest_ind(builders_winners_build['event'], enemy_winners_build['event'],\n",
    "    equal_var = False)\n",
    ")\n",
    "print('p-значение:', results.pvalue)\n",
    "if results.pvalue < alpha:\n",
    "    print('Отвергаем нулевую гипотезу')\n",
    "else:\n",
    "    print('Не можем отвергнуть нулевую гипотезу')"
   ]
  },
  {
   "cell_type": "markdown",
   "metadata": {},
   "source": [
    "**Вывод:**\n",
    "- Среднее количество построенных зданий у пользователей, которые заканчивают уровень через реализацию проекта, и пользователей, которые заканчивают уровень победой над другим игроком, различается"
   ]
  },
  {
   "cell_type": "markdown",
   "metadata": {},
   "source": [
    "## Оценка базовой модели монетизации "
   ]
  },
  {
   "cell_type": "markdown",
   "metadata": {},
   "source": [
    "Базовая модель монетизации предполагает показ рекламы на экране выбора постройки"
   ]
  },
  {
   "cell_type": "markdown",
   "metadata": {},
   "source": [
    "Рассчитаем максимально возможную прибыль от рекламы  -  показ рекламы на экране при каждом выборе постройки. Доход от показа одной рекламы -  0.07 у.е"
   ]
  },
  {
   "cell_type": "markdown",
   "metadata": {},
   "source": [
    "Смерджим две таблицы - game_actions и user_source"
   ]
  },
  {
   "cell_type": "code",
   "execution_count": 32,
   "metadata": {
    "scrolled": true
   },
   "outputs": [
    {
     "data": {
      "text/html": [
       "<div>\n",
       "<style scoped>\n",
       "    .dataframe tbody tr th:only-of-type {\n",
       "        vertical-align: middle;\n",
       "    }\n",
       "\n",
       "    .dataframe tbody tr th {\n",
       "        vertical-align: top;\n",
       "    }\n",
       "\n",
       "    .dataframe thead th {\n",
       "        text-align: right;\n",
       "    }\n",
       "</style>\n",
       "<table border=\"1\" class=\"dataframe\">\n",
       "  <thead>\n",
       "    <tr style=\"text-align: right;\">\n",
       "      <th></th>\n",
       "      <th>event_datetime</th>\n",
       "      <th>event</th>\n",
       "      <th>building_type</th>\n",
       "      <th>user_id</th>\n",
       "      <th>project_type</th>\n",
       "      <th>event_date</th>\n",
       "      <th>source</th>\n",
       "    </tr>\n",
       "  </thead>\n",
       "  <tbody>\n",
       "    <tr>\n",
       "      <th>0</th>\n",
       "      <td>2020-05-04 00:00:01</td>\n",
       "      <td>building</td>\n",
       "      <td>assembly_shop</td>\n",
       "      <td>55e92310-cb8e-4754-b622-597e124b03de</td>\n",
       "      <td>NaN</td>\n",
       "      <td>2020-05-04</td>\n",
       "      <td>youtube_channel_reklama</td>\n",
       "    </tr>\n",
       "    <tr>\n",
       "      <th>1</th>\n",
       "      <td>2020-05-04 00:00:03</td>\n",
       "      <td>building</td>\n",
       "      <td>assembly_shop</td>\n",
       "      <td>c07b1c10-f477-44dc-81dc-ec82254b1347</td>\n",
       "      <td>NaN</td>\n",
       "      <td>2020-05-04</td>\n",
       "      <td>facebook_ads</td>\n",
       "    </tr>\n",
       "    <tr>\n",
       "      <th>2</th>\n",
       "      <td>2020-05-04 00:00:16</td>\n",
       "      <td>building</td>\n",
       "      <td>assembly_shop</td>\n",
       "      <td>6edd42cc-e753-4ff6-a947-2107cd560710</td>\n",
       "      <td>NaN</td>\n",
       "      <td>2020-05-04</td>\n",
       "      <td>instagram_new_adverts</td>\n",
       "    </tr>\n",
       "    <tr>\n",
       "      <th>3</th>\n",
       "      <td>2020-05-04 00:00:16</td>\n",
       "      <td>building</td>\n",
       "      <td>assembly_shop</td>\n",
       "      <td>92c69003-d60a-444a-827f-8cc51bf6bf4c</td>\n",
       "      <td>NaN</td>\n",
       "      <td>2020-05-04</td>\n",
       "      <td>facebook_ads</td>\n",
       "    </tr>\n",
       "    <tr>\n",
       "      <th>4</th>\n",
       "      <td>2020-05-04 00:00:35</td>\n",
       "      <td>building</td>\n",
       "      <td>assembly_shop</td>\n",
       "      <td>cdc6bb92-0ccb-4490-9866-ef142f09139d</td>\n",
       "      <td>NaN</td>\n",
       "      <td>2020-05-04</td>\n",
       "      <td>yandex_direct</td>\n",
       "    </tr>\n",
       "  </tbody>\n",
       "</table>\n",
       "</div>"
      ],
      "text/plain": [
       "       event_datetime     event  building_type  \\\n",
       "0 2020-05-04 00:00:01  building  assembly_shop   \n",
       "1 2020-05-04 00:00:03  building  assembly_shop   \n",
       "2 2020-05-04 00:00:16  building  assembly_shop   \n",
       "3 2020-05-04 00:00:16  building  assembly_shop   \n",
       "4 2020-05-04 00:00:35  building  assembly_shop   \n",
       "\n",
       "                                user_id project_type  event_date  \\\n",
       "0  55e92310-cb8e-4754-b622-597e124b03de          NaN  2020-05-04   \n",
       "1  c07b1c10-f477-44dc-81dc-ec82254b1347          NaN  2020-05-04   \n",
       "2  6edd42cc-e753-4ff6-a947-2107cd560710          NaN  2020-05-04   \n",
       "3  92c69003-d60a-444a-827f-8cc51bf6bf4c          NaN  2020-05-04   \n",
       "4  cdc6bb92-0ccb-4490-9866-ef142f09139d          NaN  2020-05-04   \n",
       "\n",
       "                    source  \n",
       "0  youtube_channel_reklama  \n",
       "1             facebook_ads  \n",
       "2    instagram_new_adverts  \n",
       "3             facebook_ads  \n",
       "4            yandex_direct  "
      ]
     },
     "execution_count": 32,
     "metadata": {},
     "output_type": "execute_result"
    }
   ],
   "source": [
    "table_merged = game_actions.merge(user_source, how='left', on='user_id')\n",
    "table_merged.head()"
   ]
  },
  {
   "cell_type": "markdown",
   "metadata": {},
   "source": [
    "Добавим в table_merged столбец с доходом от 1-го показа рекламного ролика "
   ]
  },
  {
   "cell_type": "code",
   "execution_count": 33,
   "metadata": {},
   "outputs": [
    {
     "data": {
      "text/html": [
       "<div>\n",
       "<style scoped>\n",
       "    .dataframe tbody tr th:only-of-type {\n",
       "        vertical-align: middle;\n",
       "    }\n",
       "\n",
       "    .dataframe tbody tr th {\n",
       "        vertical-align: top;\n",
       "    }\n",
       "\n",
       "    .dataframe thead th {\n",
       "        text-align: right;\n",
       "    }\n",
       "</style>\n",
       "<table border=\"1\" class=\"dataframe\">\n",
       "  <thead>\n",
       "    <tr style=\"text-align: right;\">\n",
       "      <th></th>\n",
       "      <th>event_datetime</th>\n",
       "      <th>event</th>\n",
       "      <th>building_type</th>\n",
       "      <th>user_id</th>\n",
       "      <th>project_type</th>\n",
       "      <th>event_date</th>\n",
       "      <th>source</th>\n",
       "      <th>income</th>\n",
       "    </tr>\n",
       "  </thead>\n",
       "  <tbody>\n",
       "    <tr>\n",
       "      <th>0</th>\n",
       "      <td>2020-05-04 00:00:01</td>\n",
       "      <td>building</td>\n",
       "      <td>assembly_shop</td>\n",
       "      <td>55e92310-cb8e-4754-b622-597e124b03de</td>\n",
       "      <td>NaN</td>\n",
       "      <td>2020-05-04</td>\n",
       "      <td>youtube_channel_reklama</td>\n",
       "      <td>0.07</td>\n",
       "    </tr>\n",
       "    <tr>\n",
       "      <th>1</th>\n",
       "      <td>2020-05-04 00:00:03</td>\n",
       "      <td>building</td>\n",
       "      <td>assembly_shop</td>\n",
       "      <td>c07b1c10-f477-44dc-81dc-ec82254b1347</td>\n",
       "      <td>NaN</td>\n",
       "      <td>2020-05-04</td>\n",
       "      <td>facebook_ads</td>\n",
       "      <td>0.07</td>\n",
       "    </tr>\n",
       "    <tr>\n",
       "      <th>2</th>\n",
       "      <td>2020-05-04 00:00:16</td>\n",
       "      <td>building</td>\n",
       "      <td>assembly_shop</td>\n",
       "      <td>6edd42cc-e753-4ff6-a947-2107cd560710</td>\n",
       "      <td>NaN</td>\n",
       "      <td>2020-05-04</td>\n",
       "      <td>instagram_new_adverts</td>\n",
       "      <td>0.07</td>\n",
       "    </tr>\n",
       "    <tr>\n",
       "      <th>3</th>\n",
       "      <td>2020-05-04 00:00:16</td>\n",
       "      <td>building</td>\n",
       "      <td>assembly_shop</td>\n",
       "      <td>92c69003-d60a-444a-827f-8cc51bf6bf4c</td>\n",
       "      <td>NaN</td>\n",
       "      <td>2020-05-04</td>\n",
       "      <td>facebook_ads</td>\n",
       "      <td>0.07</td>\n",
       "    </tr>\n",
       "    <tr>\n",
       "      <th>4</th>\n",
       "      <td>2020-05-04 00:00:35</td>\n",
       "      <td>building</td>\n",
       "      <td>assembly_shop</td>\n",
       "      <td>cdc6bb92-0ccb-4490-9866-ef142f09139d</td>\n",
       "      <td>NaN</td>\n",
       "      <td>2020-05-04</td>\n",
       "      <td>yandex_direct</td>\n",
       "      <td>0.07</td>\n",
       "    </tr>\n",
       "  </tbody>\n",
       "</table>\n",
       "</div>"
      ],
      "text/plain": [
       "       event_datetime     event  building_type  \\\n",
       "0 2020-05-04 00:00:01  building  assembly_shop   \n",
       "1 2020-05-04 00:00:03  building  assembly_shop   \n",
       "2 2020-05-04 00:00:16  building  assembly_shop   \n",
       "3 2020-05-04 00:00:16  building  assembly_shop   \n",
       "4 2020-05-04 00:00:35  building  assembly_shop   \n",
       "\n",
       "                                user_id project_type  event_date  \\\n",
       "0  55e92310-cb8e-4754-b622-597e124b03de          NaN  2020-05-04   \n",
       "1  c07b1c10-f477-44dc-81dc-ec82254b1347          NaN  2020-05-04   \n",
       "2  6edd42cc-e753-4ff6-a947-2107cd560710          NaN  2020-05-04   \n",
       "3  92c69003-d60a-444a-827f-8cc51bf6bf4c          NaN  2020-05-04   \n",
       "4  cdc6bb92-0ccb-4490-9866-ef142f09139d          NaN  2020-05-04   \n",
       "\n",
       "                    source  income  \n",
       "0  youtube_channel_reklama    0.07  \n",
       "1             facebook_ads    0.07  \n",
       "2    instagram_new_adverts    0.07  \n",
       "3             facebook_ads    0.07  \n",
       "4            yandex_direct    0.07  "
      ]
     },
     "execution_count": 33,
     "metadata": {},
     "output_type": "execute_result"
    }
   ],
   "source": [
    "table_merged['income'] = 0.07\n",
    "table_merged.head()"
   ]
  },
  {
   "cell_type": "markdown",
   "metadata": {},
   "source": [
    "Расчитаем прибыль источников"
   ]
  },
  {
   "cell_type": "code",
   "execution_count": 34,
   "metadata": {},
   "outputs": [
    {
     "data": {
      "text/html": [
       "<div>\n",
       "<style scoped>\n",
       "    .dataframe tbody tr th:only-of-type {\n",
       "        vertical-align: middle;\n",
       "    }\n",
       "\n",
       "    .dataframe tbody tr th {\n",
       "        vertical-align: top;\n",
       "    }\n",
       "\n",
       "    .dataframe thead th {\n",
       "        text-align: right;\n",
       "    }\n",
       "</style>\n",
       "<table border=\"1\" class=\"dataframe\">\n",
       "  <thead>\n",
       "    <tr style=\"text-align: right;\">\n",
       "      <th></th>\n",
       "      <th>source</th>\n",
       "      <th>income</th>\n",
       "      <th>cost</th>\n",
       "      <th>profit</th>\n",
       "    </tr>\n",
       "  </thead>\n",
       "  <tbody>\n",
       "    <tr>\n",
       "      <th>0</th>\n",
       "      <td>facebook_ads</td>\n",
       "      <td>1829.17</td>\n",
       "      <td>2140</td>\n",
       "      <td>-310.83</td>\n",
       "    </tr>\n",
       "    <tr>\n",
       "      <th>1</th>\n",
       "      <td>instagram_new_adverts</td>\n",
       "      <td>2227.05</td>\n",
       "      <td>2161</td>\n",
       "      <td>66.05</td>\n",
       "    </tr>\n",
       "    <tr>\n",
       "      <th>2</th>\n",
       "      <td>yandex_direct</td>\n",
       "      <td>3152.24</td>\n",
       "      <td>2233</td>\n",
       "      <td>919.24</td>\n",
       "    </tr>\n",
       "    <tr>\n",
       "      <th>3</th>\n",
       "      <td>youtube_channel_reklama</td>\n",
       "      <td>1748.46</td>\n",
       "      <td>1068</td>\n",
       "      <td>680.46</td>\n",
       "    </tr>\n",
       "  </tbody>\n",
       "</table>\n",
       "</div>"
      ],
      "text/plain": [
       "                    source   income  cost  profit\n",
       "0             facebook_ads  1829.17  2140 -310.83\n",
       "1    instagram_new_adverts  2227.05  2161   66.05\n",
       "2            yandex_direct  3152.24  2233  919.24\n",
       "3  youtube_channel_reklama  1748.46  1068  680.46"
      ]
     },
     "metadata": {},
     "output_type": "display_data"
    }
   ],
   "source": [
    "profit_source_max = (\n",
    "    table_merged.query('event == \"building\"')\n",
    "    .groupby('source', as_index=False)['income'].sum()\n",
    ")\n",
    "profit_source_max = profit_source_max.merge(cost_source[['source', 'cost']], on='source')\n",
    "profit_source_max['profit'] = profit_source_max['income'] - profit_source_max['cost']\n",
    "display(profit_source_max)"
   ]
  },
  {
   "cell_type": "code",
   "execution_count": 35,
   "metadata": {
    "scrolled": true
   },
   "outputs": [
    {
     "data": {
      "image/png": "[encoded data removed]",
      "text/plain": [
       "<Figure size 720x360 with 1 Axes>"
      ]
     },
     "metadata": {
      "needs_background": "light"
     },
     "output_type": "display_data"
    }
   ],
   "source": [
    "plt.figure(figsize=(10, 5))\n",
    "plt.grid(False)\n",
    "plt.title('Прибыльность источников - вариант 1')\n",
    "ax = sns.barplot(data = profit_source_max, x = 'source', y = 'profit', errwidth=0)\n",
    "for p in ax.patches:\n",
    "    ax.annotate(format(p.get_height(), '.0f'), \n",
    "                   (p.get_x() + p.get_width() / 2., p.get_height()), \n",
    "                   ha = 'center', va = 'center', \n",
    "                   xytext = (0, 7), \n",
    "                   textcoords = 'offset points')\n",
    "plt.ylabel('Прибыль')\n",
    "plt.xlabel('Источники')\n",
    "plt.xticks(rotation = 0)\n",
    "plt.show()"
   ]
  },
  {
   "cell_type": "code",
   "execution_count": 36,
   "metadata": {},
   "outputs": [
    {
     "data": {
      "text/plain": [
       "'Общая прибыль вариант 1: 1355'"
      ]
     },
     "metadata": {},
     "output_type": "display_data"
    }
   ],
   "source": [
    "display('Общая прибыль вариант 1: {:.0f}' .format(round(profit_source_max['profit'].sum(), 2)))"
   ]
  },
  {
   "cell_type": "markdown",
   "metadata": {},
   "source": [
    "- общая прибыль от показа рекламы при каждом выборе постройки - 1355;\n",
    "- первое место по прибыльности занимает источник yandex_direct,  в то время как по источнику facebook_ads затраты превышают доходы (убыток)."
   ]
  },
  {
   "cell_type": "markdown",
   "metadata": {},
   "source": [
    "Рассчитаем прибыль от рекламы при её показе на экране выбора постройки, начиная со второй постройки"
   ]
  },
  {
   "cell_type": "code",
   "execution_count": 37,
   "metadata": {},
   "outputs": [],
   "source": [
    "profit_source_second = (\n",
    "                       (table_merged.query('event == \"building\"')\n",
    "                        .groupby('user_id', as_index=False)['event'].count())\n",
    ")\n",
    "profit_source_second['event'] = profit_source_second['event'] - 1\n",
    "profit_source_second = (\n",
    "    profit_source_second.query('event > 0')\n",
    "    .rename(columns={'event':'build_number'})\n",
    ")"
   ]
  },
  {
   "cell_type": "code",
   "execution_count": 38,
   "metadata": {},
   "outputs": [],
   "source": [
    "profit_source_second['income'] = profit_source_second['build_number'] * 0.07 "
   ]
  },
  {
   "cell_type": "code",
   "execution_count": 39,
   "metadata": {},
   "outputs": [
    {
     "data": {
      "text/html": [
       "<div>\n",
       "<style scoped>\n",
       "    .dataframe tbody tr th:only-of-type {\n",
       "        vertical-align: middle;\n",
       "    }\n",
       "\n",
       "    .dataframe tbody tr th {\n",
       "        vertical-align: top;\n",
       "    }\n",
       "\n",
       "    .dataframe thead th {\n",
       "        text-align: right;\n",
       "    }\n",
       "</style>\n",
       "<table border=\"1\" class=\"dataframe\">\n",
       "  <thead>\n",
       "    <tr style=\"text-align: right;\">\n",
       "      <th></th>\n",
       "      <th>source</th>\n",
       "      <th>income</th>\n",
       "    </tr>\n",
       "  </thead>\n",
       "  <tbody>\n",
       "    <tr>\n",
       "      <th>0</th>\n",
       "      <td>facebook_ads</td>\n",
       "      <td>1638.35</td>\n",
       "    </tr>\n",
       "    <tr>\n",
       "      <th>1</th>\n",
       "      <td>instagram_new_adverts</td>\n",
       "      <td>1992.76</td>\n",
       "    </tr>\n",
       "    <tr>\n",
       "      <th>2</th>\n",
       "      <td>yandex_direct</td>\n",
       "      <td>2815.05</td>\n",
       "    </tr>\n",
       "    <tr>\n",
       "      <th>3</th>\n",
       "      <td>youtube_channel_reklama</td>\n",
       "      <td>1560.44</td>\n",
       "    </tr>\n",
       "  </tbody>\n",
       "</table>\n",
       "</div>"
      ],
      "text/plain": [
       "                    source   income\n",
       "0             facebook_ads  1638.35\n",
       "1    instagram_new_adverts  1992.76\n",
       "2            yandex_direct  2815.05\n",
       "3  youtube_channel_reklama  1560.44"
      ]
     },
     "metadata": {},
     "output_type": "display_data"
    }
   ],
   "source": [
    "profit_source_second = profit_source_second.merge(user_source, on='user_id')\n",
    "profit_source_second = profit_source_second.groupby('source', as_index=False)['income'].sum()\n",
    "display(profit_source_second.head())"
   ]
  },
  {
   "cell_type": "code",
   "execution_count": 40,
   "metadata": {
    "scrolled": false
   },
   "outputs": [
    {
     "data": {
      "text/html": [
       "<div>\n",
       "<style scoped>\n",
       "    .dataframe tbody tr th:only-of-type {\n",
       "        vertical-align: middle;\n",
       "    }\n",
       "\n",
       "    .dataframe tbody tr th {\n",
       "        vertical-align: top;\n",
       "    }\n",
       "\n",
       "    .dataframe thead th {\n",
       "        text-align: right;\n",
       "    }\n",
       "</style>\n",
       "<table border=\"1\" class=\"dataframe\">\n",
       "  <thead>\n",
       "    <tr style=\"text-align: right;\">\n",
       "      <th></th>\n",
       "      <th>source</th>\n",
       "      <th>income</th>\n",
       "      <th>cost</th>\n",
       "      <th>profit</th>\n",
       "    </tr>\n",
       "  </thead>\n",
       "  <tbody>\n",
       "    <tr>\n",
       "      <th>0</th>\n",
       "      <td>facebook_ads</td>\n",
       "      <td>1638.35</td>\n",
       "      <td>2140</td>\n",
       "      <td>-501.65</td>\n",
       "    </tr>\n",
       "    <tr>\n",
       "      <th>1</th>\n",
       "      <td>instagram_new_adverts</td>\n",
       "      <td>1992.76</td>\n",
       "      <td>2161</td>\n",
       "      <td>-168.24</td>\n",
       "    </tr>\n",
       "    <tr>\n",
       "      <th>2</th>\n",
       "      <td>yandex_direct</td>\n",
       "      <td>2815.05</td>\n",
       "      <td>2233</td>\n",
       "      <td>582.05</td>\n",
       "    </tr>\n",
       "    <tr>\n",
       "      <th>3</th>\n",
       "      <td>youtube_channel_reklama</td>\n",
       "      <td>1560.44</td>\n",
       "      <td>1068</td>\n",
       "      <td>492.44</td>\n",
       "    </tr>\n",
       "  </tbody>\n",
       "</table>\n",
       "</div>"
      ],
      "text/plain": [
       "                    source   income  cost  profit\n",
       "0             facebook_ads  1638.35  2140 -501.65\n",
       "1    instagram_new_adverts  1992.76  2161 -168.24\n",
       "2            yandex_direct  2815.05  2233  582.05\n",
       "3  youtube_channel_reklama  1560.44  1068  492.44"
      ]
     },
     "metadata": {},
     "output_type": "display_data"
    }
   ],
   "source": [
    "profit_source_second  = profit_source_second.merge(cost_source[['source', 'cost']], on='source')\n",
    "profit_source_second['profit'] = profit_source_second['income'] - profit_source_second['cost']\n",
    "display(profit_source_second.head())"
   ]
  },
  {
   "cell_type": "code",
   "execution_count": 41,
   "metadata": {},
   "outputs": [
    {
     "data": {
      "image/png": "[encoded data removed]",
      "text/plain": [
       "<Figure size 720x360 with 1 Axes>"
      ]
     },
     "metadata": {
      "needs_background": "light"
     },
     "output_type": "display_data"
    }
   ],
   "source": [
    "plt.figure(figsize=(10, 5))\n",
    "plt.grid(False)\n",
    "plt.title('Прибыльность источников - вариант 2')\n",
    "ax = sns.barplot(data = profit_source_second, x = 'source', y = 'profit', errwidth=0)\n",
    "for p in ax.patches:\n",
    "    ax.annotate(format(p.get_height(), '.0f'), \n",
    "                   (p.get_x() + p.get_width() / 2., p.get_height()), \n",
    "                   ha = 'center', va = 'center', \n",
    "                   xytext = (0, 7), \n",
    "                   textcoords = 'offset points')\n",
    "plt.ylabel('Прибыль')\n",
    "plt.xlabel('Источники')\n",
    "plt.xticks(rotation = 0)\n",
    "plt.show()"
   ]
  },
  {
   "cell_type": "code",
   "execution_count": 42,
   "metadata": {},
   "outputs": [
    {
     "data": {
      "text/plain": [
       "'Общая прибыль вариант 2: 405'"
      ]
     },
     "metadata": {},
     "output_type": "display_data"
    }
   ],
   "source": [
    "display('Общая прибыль вариант 2: {:.0f}' .format(round(profit_source_second['profit'].sum(), 2)))"
   ]
  },
  {
   "cell_type": "markdown",
   "metadata": {},
   "source": [
    "- общая прибыль от показа рекламы при каждом выборе постройки - 405;\n",
    "- источники facebook_ads и instagram_new_advertsзатраты ушли в минус (завтраты превышают доходы), yandex_direct и youtube_channel_reklama принесли прибыль 582 и 492 у.е соответственно."
   ]
  },
  {
   "cell_type": "markdown",
   "metadata": {},
   "source": [
    "Рассчитаем прибыль от рекламы при её показе на экране выбора постройки, начиная с третьей постройки"
   ]
  },
  {
   "cell_type": "code",
   "execution_count": 43,
   "metadata": {},
   "outputs": [],
   "source": [
    "profit_source_third = (\n",
    "                     (table_merged.query('event == \"building\"')\n",
    "                      .groupby('user_id', as_index=False)['event'].count())\n",
    ")\n",
    "profit_source_third['event'] = profit_source_third['event'] - 2\n",
    "profit_source_third = profit_source_third.query('event > 0').rename(columns={'event':'build_number'})"
   ]
  },
  {
   "cell_type": "code",
   "execution_count": 44,
   "metadata": {},
   "outputs": [],
   "source": [
    "profit_source_third['income'] = profit_source_third['build_number'] * 0.07 "
   ]
  },
  {
   "cell_type": "code",
   "execution_count": 45,
   "metadata": {},
   "outputs": [
    {
     "data": {
      "text/html": [
       "<div>\n",
       "<style scoped>\n",
       "    .dataframe tbody tr th:only-of-type {\n",
       "        vertical-align: middle;\n",
       "    }\n",
       "\n",
       "    .dataframe tbody tr th {\n",
       "        vertical-align: top;\n",
       "    }\n",
       "\n",
       "    .dataframe thead th {\n",
       "        text-align: right;\n",
       "    }\n",
       "</style>\n",
       "<table border=\"1\" class=\"dataframe\">\n",
       "  <thead>\n",
       "    <tr style=\"text-align: right;\">\n",
       "      <th></th>\n",
       "      <th>source</th>\n",
       "      <th>income</th>\n",
       "    </tr>\n",
       "  </thead>\n",
       "  <tbody>\n",
       "    <tr>\n",
       "      <th>0</th>\n",
       "      <td>facebook_ads</td>\n",
       "      <td>1448.51</td>\n",
       "    </tr>\n",
       "    <tr>\n",
       "      <th>1</th>\n",
       "      <td>instagram_new_adverts</td>\n",
       "      <td>1759.24</td>\n",
       "    </tr>\n",
       "    <tr>\n",
       "      <th>2</th>\n",
       "      <td>yandex_direct</td>\n",
       "      <td>2479.19</td>\n",
       "    </tr>\n",
       "    <tr>\n",
       "      <th>3</th>\n",
       "      <td>youtube_channel_reklama</td>\n",
       "      <td>1373.33</td>\n",
       "    </tr>\n",
       "  </tbody>\n",
       "</table>\n",
       "</div>"
      ],
      "text/plain": [
       "                    source   income\n",
       "0             facebook_ads  1448.51\n",
       "1    instagram_new_adverts  1759.24\n",
       "2            yandex_direct  2479.19\n",
       "3  youtube_channel_reklama  1373.33"
      ]
     },
     "metadata": {},
     "output_type": "display_data"
    }
   ],
   "source": [
    "profit_source_third = profit_source_third.merge(user_source, on='user_id')\n",
    "profit_source_third = profit_source_third.groupby('source', as_index=False)['income'].sum()\n",
    "display(profit_source_third.head())"
   ]
  },
  {
   "cell_type": "code",
   "execution_count": 46,
   "metadata": {},
   "outputs": [
    {
     "data": {
      "text/html": [
       "<div>\n",
       "<style scoped>\n",
       "    .dataframe tbody tr th:only-of-type {\n",
       "        vertical-align: middle;\n",
       "    }\n",
       "\n",
       "    .dataframe tbody tr th {\n",
       "        vertical-align: top;\n",
       "    }\n",
       "\n",
       "    .dataframe thead th {\n",
       "        text-align: right;\n",
       "    }\n",
       "</style>\n",
       "<table border=\"1\" class=\"dataframe\">\n",
       "  <thead>\n",
       "    <tr style=\"text-align: right;\">\n",
       "      <th></th>\n",
       "      <th>source</th>\n",
       "      <th>income</th>\n",
       "      <th>cost</th>\n",
       "      <th>profit</th>\n",
       "    </tr>\n",
       "  </thead>\n",
       "  <tbody>\n",
       "    <tr>\n",
       "      <th>0</th>\n",
       "      <td>facebook_ads</td>\n",
       "      <td>1448.51</td>\n",
       "      <td>2140</td>\n",
       "      <td>-691.49</td>\n",
       "    </tr>\n",
       "    <tr>\n",
       "      <th>1</th>\n",
       "      <td>instagram_new_adverts</td>\n",
       "      <td>1759.24</td>\n",
       "      <td>2161</td>\n",
       "      <td>-401.76</td>\n",
       "    </tr>\n",
       "    <tr>\n",
       "      <th>2</th>\n",
       "      <td>yandex_direct</td>\n",
       "      <td>2479.19</td>\n",
       "      <td>2233</td>\n",
       "      <td>246.19</td>\n",
       "    </tr>\n",
       "    <tr>\n",
       "      <th>3</th>\n",
       "      <td>youtube_channel_reklama</td>\n",
       "      <td>1373.33</td>\n",
       "      <td>1068</td>\n",
       "      <td>305.33</td>\n",
       "    </tr>\n",
       "  </tbody>\n",
       "</table>\n",
       "</div>"
      ],
      "text/plain": [
       "                    source   income  cost  profit\n",
       "0             facebook_ads  1448.51  2140 -691.49\n",
       "1    instagram_new_adverts  1759.24  2161 -401.76\n",
       "2            yandex_direct  2479.19  2233  246.19\n",
       "3  youtube_channel_reklama  1373.33  1068  305.33"
      ]
     },
     "metadata": {},
     "output_type": "display_data"
    }
   ],
   "source": [
    "profit_source_third  = profit_source_third.merge(cost_source[['source', 'cost']], on='source')\n",
    "profit_source_third ['profit'] = profit_source_third ['income'] - profit_source_third ['cost']\n",
    "display(profit_source_third.head())"
   ]
  },
  {
   "cell_type": "code",
   "execution_count": 47,
   "metadata": {},
   "outputs": [
    {
     "data": {
      "image/png": "[encoded data removed]",
      "text/plain": [
       "<Figure size 720x360 with 1 Axes>"
      ]
     },
     "metadata": {
      "needs_background": "light"
     },
     "output_type": "display_data"
    }
   ],
   "source": [
    "plt.figure(figsize=(10, 5))\n",
    "plt.grid(False)\n",
    "plt.title('Прибыльность источников - вариант 3')\n",
    "ax = sns.barplot(data = profit_source_third, x = 'source', y = 'profit', errwidth=0)\n",
    "for p in ax.patches:\n",
    "    ax.annotate(format(p.get_height(), '.0f'), \n",
    "                   (p.get_x() + p.get_width() / 2., p.get_height()), \n",
    "                   ha = 'center', va = 'center', \n",
    "                   xytext = (0, 7), \n",
    "                   textcoords = 'offset points')\n",
    "plt.ylabel('Прибыль')\n",
    "plt.xlabel('Источники')\n",
    "plt.xticks(rotation = 0)\n",
    "plt.show()"
   ]
  },
  {
   "cell_type": "code",
   "execution_count": 48,
   "metadata": {},
   "outputs": [
    {
     "data": {
      "text/plain": [
       "'Общая прибыль вариант 3: -542'"
      ]
     },
     "metadata": {},
     "output_type": "display_data"
    }
   ],
   "source": [
    "display('Общая прибыль вариант 3: {:.0f}' .format(round(profit_source_third['profit'].sum(), 2)))"
   ]
  },
  {
   "cell_type": "markdown",
   "metadata": {},
   "source": [
    "- общий убыток - 542;\n",
    "- источники facebook_ads и instagram_new_advertsзатраты ушли в большой минус (завтраты превышают доходы), yandex_direct и youtube_channel_reklama принесли небольшую  прибыль 246 и 305 у.е соответственно."
   ]
  },
  {
   "cell_type": "markdown",
   "metadata": {},
   "source": [
    "**Вывод:**\n",
    "- максимальная общая прибыль достигается при базовой модели монетизации при показе рекламы перед выбором каждой постройки;\n",
    "- порогом общей рентабельности служит модель, при  которой показ рекламы начинается с выбором второй постройки;\n",
    "- при показе рекламы начиная с выбора третьей постройки мы уходим в минус и получаем общий убыток."
   ]
  },
  {
   "cell_type": "markdown",
   "metadata": {},
   "source": [
    "## Анализ модели монетизации с точки зрения окупаемости - расчет ROMI"
   ]
  },
  {
   "cell_type": "markdown",
   "metadata": {},
   "source": [
    "Рассчитаем ROMI (выручка от рекламы/затраты на рекламу) для каждого источника для базовой модели Вариант 1 (варианты из раздела 5 \"Оценка базовой модели монетизации\")"
   ]
  },
  {
   "cell_type": "code",
   "execution_count": 49,
   "metadata": {
    "scrolled": true
   },
   "outputs": [
    {
     "data": {
      "text/html": [
       "<div>\n",
       "<style scoped>\n",
       "    .dataframe tbody tr th:only-of-type {\n",
       "        vertical-align: middle;\n",
       "    }\n",
       "\n",
       "    .dataframe tbody tr th {\n",
       "        vertical-align: top;\n",
       "    }\n",
       "\n",
       "    .dataframe thead th {\n",
       "        text-align: right;\n",
       "    }\n",
       "</style>\n",
       "<table border=\"1\" class=\"dataframe\">\n",
       "  <thead>\n",
       "    <tr style=\"text-align: right;\">\n",
       "      <th></th>\n",
       "      <th>source</th>\n",
       "      <th>income</th>\n",
       "      <th>cost</th>\n",
       "      <th>profit</th>\n",
       "      <th>romi_%</th>\n",
       "    </tr>\n",
       "  </thead>\n",
       "  <tbody>\n",
       "    <tr>\n",
       "      <th>0</th>\n",
       "      <td>facebook_ads</td>\n",
       "      <td>1829.0</td>\n",
       "      <td>2140</td>\n",
       "      <td>-311.0</td>\n",
       "      <td>85.0</td>\n",
       "    </tr>\n",
       "    <tr>\n",
       "      <th>1</th>\n",
       "      <td>instagram_new_adverts</td>\n",
       "      <td>2227.0</td>\n",
       "      <td>2161</td>\n",
       "      <td>66.0</td>\n",
       "      <td>103.0</td>\n",
       "    </tr>\n",
       "    <tr>\n",
       "      <th>2</th>\n",
       "      <td>yandex_direct</td>\n",
       "      <td>3152.0</td>\n",
       "      <td>2233</td>\n",
       "      <td>919.0</td>\n",
       "      <td>141.0</td>\n",
       "    </tr>\n",
       "    <tr>\n",
       "      <th>3</th>\n",
       "      <td>youtube_channel_reklama</td>\n",
       "      <td>1748.0</td>\n",
       "      <td>1068</td>\n",
       "      <td>680.0</td>\n",
       "      <td>164.0</td>\n",
       "    </tr>\n",
       "  </tbody>\n",
       "</table>\n",
       "</div>"
      ],
      "text/plain": [
       "                    source  income  cost  profit  romi_%\n",
       "0             facebook_ads  1829.0  2140  -311.0    85.0\n",
       "1    instagram_new_adverts  2227.0  2161    66.0   103.0\n",
       "2            yandex_direct  3152.0  2233   919.0   141.0\n",
       "3  youtube_channel_reklama  1748.0  1068   680.0   164.0"
      ]
     },
     "metadata": {},
     "output_type": "display_data"
    }
   ],
   "source": [
    "profit_source_max['romi_%']=profit_source_max['income']/profit_source_max ['cost']*100\n",
    "display(round(profit_source_max, 0))"
   ]
  },
  {
   "cell_type": "code",
   "execution_count": 50,
   "metadata": {},
   "outputs": [
    {
     "data": {
      "image/png": "[encoded data removed]",
      "text/plain": [
       "<Figure size 720x360 with 1 Axes>"
      ]
     },
     "metadata": {
      "needs_background": "light"
     },
     "output_type": "display_data"
    }
   ],
   "source": [
    "plt.figure(figsize=(10, 5))\n",
    "plt.grid(False)\n",
    "plt.title('ROMI по источникам - вариант 1')\n",
    "ax = sns.barplot(data = profit_source_max, x = 'source', y = 'romi_%', errwidth=0)\n",
    "plt.axhline(y=1, color='g', linestyle=':')\n",
    "for p in ax.patches:\n",
    "    ax.annotate(format(p.get_height(), '.0f'), \n",
    "                   (p.get_x() + p.get_width() / 2., p.get_height()), \n",
    "                   ha = 'center', va = 'center', \n",
    "                   xytext = (0, 7), \n",
    "                   textcoords = 'offset points')\n",
    "plt.ylabel('ROMI')\n",
    "plt.xlabel('Источники')\n",
    "plt.xticks(rotation = 0)\n",
    "plt.show()"
   ]
  },
  {
   "cell_type": "markdown",
   "metadata": {},
   "source": [
    "Рассчитаем ROMI для каждого источника для модели Вариант 2"
   ]
  },
  {
   "cell_type": "code",
   "execution_count": 51,
   "metadata": {},
   "outputs": [
    {
     "data": {
      "text/html": [
       "<div>\n",
       "<style scoped>\n",
       "    .dataframe tbody tr th:only-of-type {\n",
       "        vertical-align: middle;\n",
       "    }\n",
       "\n",
       "    .dataframe tbody tr th {\n",
       "        vertical-align: top;\n",
       "    }\n",
       "\n",
       "    .dataframe thead th {\n",
       "        text-align: right;\n",
       "    }\n",
       "</style>\n",
       "<table border=\"1\" class=\"dataframe\">\n",
       "  <thead>\n",
       "    <tr style=\"text-align: right;\">\n",
       "      <th></th>\n",
       "      <th>source</th>\n",
       "      <th>income</th>\n",
       "      <th>cost</th>\n",
       "      <th>profit</th>\n",
       "      <th>romi_%</th>\n",
       "    </tr>\n",
       "  </thead>\n",
       "  <tbody>\n",
       "    <tr>\n",
       "      <th>0</th>\n",
       "      <td>facebook_ads</td>\n",
       "      <td>1638.0</td>\n",
       "      <td>2140</td>\n",
       "      <td>-502.0</td>\n",
       "      <td>77.0</td>\n",
       "    </tr>\n",
       "    <tr>\n",
       "      <th>1</th>\n",
       "      <td>instagram_new_adverts</td>\n",
       "      <td>1993.0</td>\n",
       "      <td>2161</td>\n",
       "      <td>-168.0</td>\n",
       "      <td>92.0</td>\n",
       "    </tr>\n",
       "    <tr>\n",
       "      <th>2</th>\n",
       "      <td>yandex_direct</td>\n",
       "      <td>2815.0</td>\n",
       "      <td>2233</td>\n",
       "      <td>582.0</td>\n",
       "      <td>126.0</td>\n",
       "    </tr>\n",
       "    <tr>\n",
       "      <th>3</th>\n",
       "      <td>youtube_channel_reklama</td>\n",
       "      <td>1560.0</td>\n",
       "      <td>1068</td>\n",
       "      <td>492.0</td>\n",
       "      <td>146.0</td>\n",
       "    </tr>\n",
       "  </tbody>\n",
       "</table>\n",
       "</div>"
      ],
      "text/plain": [
       "                    source  income  cost  profit  romi_%\n",
       "0             facebook_ads  1638.0  2140  -502.0    77.0\n",
       "1    instagram_new_adverts  1993.0  2161  -168.0    92.0\n",
       "2            yandex_direct  2815.0  2233   582.0   126.0\n",
       "3  youtube_channel_reklama  1560.0  1068   492.0   146.0"
      ]
     },
     "metadata": {},
     "output_type": "display_data"
    }
   ],
   "source": [
    "profit_source_second['romi_%']=profit_source_second['income']/profit_source_second['cost']*100\n",
    "display(round(profit_source_second, 0))"
   ]
  },
  {
   "cell_type": "code",
   "execution_count": 52,
   "metadata": {},
   "outputs": [
    {
     "data": {
      "image/png": "[encoded data removed]",
      "text/plain": [
       "<Figure size 720x360 with 1 Axes>"
      ]
     },
     "metadata": {
      "needs_background": "light"
     },
     "output_type": "display_data"
    }
   ],
   "source": [
    "plt.figure(figsize=(10, 5))\n",
    "plt.grid(False)\n",
    "plt.title('ROMI по источникам - вариант 2')\n",
    "ax = sns.barplot(data = profit_source_second, x = 'source', y = 'romi_%', errwidth=0)\n",
    "plt.axhline(y=1, color='g', linestyle=':')\n",
    "for p in ax.patches:\n",
    "    ax.annotate(format(p.get_height(), '.0f'), \n",
    "                   (p.get_x() + p.get_width() / 2., p.get_height()), \n",
    "                   ha = 'center', va = 'center', \n",
    "                   xytext = (0, 7), \n",
    "                   textcoords = 'offset points')\n",
    "plt.ylabel('ROMI')\n",
    "plt.xlabel('Источники')\n",
    "plt.xticks(rotation = 0)\n",
    "plt.show()"
   ]
  },
  {
   "cell_type": "markdown",
   "metadata": {},
   "source": [
    "Рассчитаем ROMI для каждого источника для модели Вариант 3"
   ]
  },
  {
   "cell_type": "code",
   "execution_count": 53,
   "metadata": {},
   "outputs": [
    {
     "data": {
      "text/html": [
       "<div>\n",
       "<style scoped>\n",
       "    .dataframe tbody tr th:only-of-type {\n",
       "        vertical-align: middle;\n",
       "    }\n",
       "\n",
       "    .dataframe tbody tr th {\n",
       "        vertical-align: top;\n",
       "    }\n",
       "\n",
       "    .dataframe thead th {\n",
       "        text-align: right;\n",
       "    }\n",
       "</style>\n",
       "<table border=\"1\" class=\"dataframe\">\n",
       "  <thead>\n",
       "    <tr style=\"text-align: right;\">\n",
       "      <th></th>\n",
       "      <th>source</th>\n",
       "      <th>income</th>\n",
       "      <th>cost</th>\n",
       "      <th>profit</th>\n",
       "      <th>romi_%</th>\n",
       "    </tr>\n",
       "  </thead>\n",
       "  <tbody>\n",
       "    <tr>\n",
       "      <th>0</th>\n",
       "      <td>facebook_ads</td>\n",
       "      <td>1449.0</td>\n",
       "      <td>2140</td>\n",
       "      <td>-691.0</td>\n",
       "      <td>68.0</td>\n",
       "    </tr>\n",
       "    <tr>\n",
       "      <th>1</th>\n",
       "      <td>instagram_new_adverts</td>\n",
       "      <td>1759.0</td>\n",
       "      <td>2161</td>\n",
       "      <td>-402.0</td>\n",
       "      <td>81.0</td>\n",
       "    </tr>\n",
       "    <tr>\n",
       "      <th>2</th>\n",
       "      <td>yandex_direct</td>\n",
       "      <td>2479.0</td>\n",
       "      <td>2233</td>\n",
       "      <td>246.0</td>\n",
       "      <td>111.0</td>\n",
       "    </tr>\n",
       "    <tr>\n",
       "      <th>3</th>\n",
       "      <td>youtube_channel_reklama</td>\n",
       "      <td>1373.0</td>\n",
       "      <td>1068</td>\n",
       "      <td>305.0</td>\n",
       "      <td>129.0</td>\n",
       "    </tr>\n",
       "  </tbody>\n",
       "</table>\n",
       "</div>"
      ],
      "text/plain": [
       "                    source  income  cost  profit  romi_%\n",
       "0             facebook_ads  1449.0  2140  -691.0    68.0\n",
       "1    instagram_new_adverts  1759.0  2161  -402.0    81.0\n",
       "2            yandex_direct  2479.0  2233   246.0   111.0\n",
       "3  youtube_channel_reklama  1373.0  1068   305.0   129.0"
      ]
     },
     "metadata": {},
     "output_type": "display_data"
    },
    {
     "data": {
      "text/plain": [
       "0"
      ]
     },
     "metadata": {},
     "output_type": "display_data"
    }
   ],
   "source": [
    "profit_source_third['romi_%']=profit_source_third['income']/profit_source_third['cost']*100\n",
    "display(round(profit_source_third),0)"
   ]
  },
  {
   "cell_type": "code",
   "execution_count": 54,
   "metadata": {},
   "outputs": [
    {
     "data": {
      "image/png": "[encoded data removed]",
      "text/plain": [
       "<Figure size 720x360 with 1 Axes>"
      ]
     },
     "metadata": {
      "needs_background": "light"
     },
     "output_type": "display_data"
    }
   ],
   "source": [
    "plt.figure(figsize=(10, 5))\n",
    "plt.grid(False)\n",
    "plt.title('ROMI по источникам - вариант 3')\n",
    "ax = sns.barplot(data = profit_source_third, x = 'source', y = 'romi_%', errwidth=0)\n",
    "plt.axhline(y=1, color='g', linestyle=':')\n",
    "for p in ax.patches:\n",
    "    ax.annotate(format(p.get_height(), '.0f'), \n",
    "                   (p.get_x() + p.get_width() / 2., p.get_height()), \n",
    "                   ha = 'center', va = 'center', \n",
    "                   xytext = (0, 7), \n",
    "                   textcoords = 'offset points')\n",
    "plt.ylabel('ROMI')\n",
    "plt.xlabel('Источники')\n",
    "plt.xticks(rotation = 0)\n",
    "plt.show()"
   ]
  },
  {
   "cell_type": "markdown",
   "metadata": {},
   "source": [
    "**Вывод:**\n",
    "- при модели монетизации с показом рекламы перед выбором каждой постройки окупаются три источника из четыреx. И только facebook_ads немного не дотягивает до 100% окупаемости;\n",
    "- при модели монетизации с показом рекламы начиная со второй постройки окупаются два источника из четыреx - yandex_direct и youtube_channel_reklama. \tЧуть не дотягивает до окупаемости instagram_new_advertsдотягивает 92%. Facebook_ads окупается только на 77%;\n",
    "- при модели монетизации с показом рекламы начиная с третьей постройки окупаются два источника из четыреx - yandex_direct и youtube_channel_reklama. Instagram_new_adverts и Facebook_ads уходят все дальше от точки окупаемости."
   ]
  },
  {
   "cell_type": "markdown",
   "metadata": {},
   "source": [
    "## Общий вывод и рекомендации по модели монетизации"
   ]
  },
  {
   "cell_type": "markdown",
   "metadata": {},
   "source": [
    "<div style=\"border: solid green 2px; padding: 20px\">\n",
    "    \n",
    "**В результате проведенного анализа имеющихся данных мы можем сформулировать следующие выводы:**\n",
    "- общее количество пользователей за период с 04 мая по 05 июня 2020 года - 13576. Из них  - 7759 пользователй (57%) не завершили 1-й уровень; 5817 пользователей (43%) завершили первый уровень, из которых 68% победили врага и 32% реализовали проект;\n",
    "- до 10 мая наблюдался ежедневный рост количества пользователей, далее резкий спад.  Пик пользователей пришелся на 10 мая - более 9 тысяч. Pезкий спад после 10 мая спад может быть связан с окончанием майских праздников, а также с окончанием периода проведения рекламной кампании (с 03 по 9 мая 2020 года);\n",
    "- тенденция в распределении событий по дням аналогичная распределению пользователей по дням. Пик событий приходится на 10 мая - более 15 тысяч, потом спад;\n",
    "- среднее количество построенных зданий находится в интервале от 9 до 13 в зависимости от завершения/незавершения 1-го уровня и стратегии пользователей;\n",
    "- oбщая сумма расходов на рекламу - 7604;\n",
    "- больше всего затрат падает на источник -  yandex_direct, источник с наименьшими затратами - \tyoutube_channel_reklama;\n",
    "- стоимость привлечения пользователей САС находится в интревале от 0.4 до 0.79. Самая высокая стоимость привлечения пользователей источника facebook_ads, самая низкая - youtube_channel_reklama."
   ]
  },
  {
   "cell_type": "markdown",
   "metadata": {},
   "source": [
    "<div style=\"border: solid green 2px; padding: 20px\">\n",
    "\n",
    "**Рекомендации по модели монетизации:**\n",
    "- в связи с тем, что основным событием в игре является постройка зданий, наиболее оптимальным моментом для показа рекламы является момент выбора пользователем объекта постройки. Это менее раздражающий для юзеров момент, если сравнивать, например, c моментом хода самого процесса строительства объекта;\n",
    "- максимальная общая прибыль достигается при базовой модели монетизации при показе рекламы перед выбором каждой постройки. При данном варианте также три источника (yandex_direct, youtube_channel_reklama,instagram_new_adverts)  из четырех окупаются. И только facebook_ads немного не дотягивает до 100% окупаемости. Порогом общей рентабельности служит модель, при  которой показ рекламы начинается с выбором второй постройки; окупаемость источников падает. При показе рекламы начиная с выбора третьей постройки мы уходим в минус и получаем общий убыток c увеличивающимся падением окупаемости источников.\n",
    "- учитывая вышеизложенное можем рекомендовать следующую стратегию: начать с базовой модели монетизации с показом рекламы при каждом выборе постройки и посмотреть на реакцию пользователей за определенный период времени. При наличии негативной реакции и значительного оттока пользователей перейти на второй вариант  - модель, при  которой показ рекламы начинается с выбором второй постройки. В данном случае пользователи уже успеют заинтересоваться игрой, что скорее всего отразится в положительном ключе на их лояльности к показу рекламы. И с точки зрения прибыли компания будет все еще в плюсе.\n",
    "- с точки зрения расходов на рекламу по результатам проведенного анализа рекомендуем: - увеличить расходы на рекламу для пользователей источника  youtube_channel_reklama (самая низкая стомость привлечения пользователей, сохранение прибыльности при любом из трех вариантов модели монетизации, самая высокая окупаемость среди всех представленных источников);  - снизить расходы на рекламу источника facebook_ads, как мы можем видеть, большие инвестиции (28% от общего объема) в данный источник не приводят к соответствующим коммерческим результатам - убыток (расходы превышают доходы), самая большая стоимость привлечения пользователей, и как следствие недостижение точки окупаемости."
   ]
  }
 ],
 "metadata": {
  "ExecuteTimeLog": [
   {
    "duration": 366,
    "start_time": "2022-10-25T17:58:16.345Z"
   },
   {
    "duration": 503,
    "start_time": "2022-10-25T17:58:53.973Z"
   },
   {
    "duration": 61,
    "start_time": "2022-10-25T17:59:21.311Z"
   },
   {
    "duration": 16,
    "start_time": "2022-10-25T17:59:31.188Z"
   },
   {
    "duration": 42,
    "start_time": "2022-10-26T17:00:26.063Z"
   },
   {
    "duration": 405,
    "start_time": "2022-10-26T17:00:30.217Z"
   },
   {
    "duration": 481,
    "start_time": "2022-10-26T17:00:30.687Z"
   },
   {
    "duration": 26,
    "start_time": "2022-10-26T17:00:31.363Z"
   },
   {
    "duration": 397,
    "start_time": "2022-10-26T17:01:32.100Z"
   },
   {
    "duration": 443,
    "start_time": "2022-10-26T17:01:32.499Z"
   },
   {
    "duration": 63,
    "start_time": "2022-10-26T17:01:32.944Z"
   },
   {
    "duration": 514,
    "start_time": "2022-10-26T17:01:52.036Z"
   },
   {
    "duration": 9,
    "start_time": "2022-10-26T17:01:52.639Z"
   },
   {
    "duration": 393,
    "start_time": "2022-10-26T17:02:02.917Z"
   },
   {
    "duration": 199,
    "start_time": "2022-10-26T17:02:03.312Z"
   },
   {
    "duration": 60,
    "start_time": "2022-10-26T17:02:03.513Z"
   },
   {
    "duration": 244,
    "start_time": "2022-10-26T17:05:15.725Z"
   },
   {
    "duration": 15,
    "start_time": "2022-10-26T17:05:16.221Z"
   },
   {
    "duration": 346,
    "start_time": "2022-10-26T17:05:46.897Z"
   },
   {
    "duration": 3,
    "start_time": "2022-10-26T17:06:31.206Z"
   },
   {
    "duration": 244,
    "start_time": "2022-10-26T17:06:33.139Z"
   },
   {
    "duration": 237,
    "start_time": "2022-10-26T17:07:13.945Z"
   },
   {
    "duration": 37,
    "start_time": "2022-10-26T17:08:19.748Z"
   },
   {
    "duration": 7,
    "start_time": "2022-10-26T17:11:20.209Z"
   },
   {
    "duration": 268,
    "start_time": "2022-10-26T17:11:28.677Z"
   },
   {
    "duration": 36,
    "start_time": "2022-10-26T17:11:29.571Z"
   },
   {
    "duration": 16,
    "start_time": "2022-10-26T17:11:30.545Z"
   },
   {
    "duration": 14,
    "start_time": "2022-10-26T17:12:53.482Z"
   },
   {
    "duration": 392,
    "start_time": "2022-10-26T17:20:17.818Z"
   },
   {
    "duration": 263,
    "start_time": "2022-10-26T17:20:18.212Z"
   },
   {
    "duration": 47,
    "start_time": "2022-10-26T17:20:18.476Z"
   },
   {
    "duration": 15,
    "start_time": "2022-10-26T17:20:18.525Z"
   },
   {
    "duration": 28,
    "start_time": "2022-10-26T17:20:18.542Z"
   },
   {
    "duration": 36,
    "start_time": "2022-10-26T17:22:00.420Z"
   },
   {
    "duration": 5,
    "start_time": "2022-10-26T17:23:22.980Z"
   },
   {
    "duration": 52,
    "start_time": "2022-10-26T17:23:50.220Z"
   },
   {
    "duration": 8,
    "start_time": "2022-10-26T17:24:14.356Z"
   },
   {
    "duration": 78,
    "start_time": "2022-10-26T17:27:41.535Z"
   },
   {
    "duration": 61,
    "start_time": "2022-10-26T17:28:43.543Z"
   },
   {
    "duration": 119,
    "start_time": "2022-10-26T17:28:57.853Z"
   },
   {
    "duration": 61,
    "start_time": "2022-10-26T17:33:45.852Z"
   },
   {
    "duration": 7,
    "start_time": "2022-10-26T17:33:55.005Z"
   },
   {
    "duration": 16,
    "start_time": "2022-10-26T17:35:02.847Z"
   },
   {
    "duration": 21,
    "start_time": "2022-10-26T17:36:07.169Z"
   },
   {
    "duration": 14,
    "start_time": "2022-10-26T17:40:25.827Z"
   },
   {
    "duration": 80,
    "start_time": "2022-10-26T17:48:52.809Z"
   },
   {
    "duration": 391,
    "start_time": "2022-10-26T17:49:21.138Z"
   },
   {
    "duration": 255,
    "start_time": "2022-10-26T17:49:21.531Z"
   },
   {
    "duration": 51,
    "start_time": "2022-10-26T17:49:21.787Z"
   },
   {
    "duration": 15,
    "start_time": "2022-10-26T17:49:21.840Z"
   },
   {
    "duration": 14,
    "start_time": "2022-10-26T17:49:21.857Z"
   },
   {
    "duration": 66,
    "start_time": "2022-10-26T17:49:21.872Z"
   },
   {
    "duration": 93,
    "start_time": "2022-10-26T17:49:21.939Z"
   },
   {
    "duration": 132,
    "start_time": "2022-10-26T17:49:22.034Z"
   },
   {
    "duration": 22,
    "start_time": "2022-10-26T17:49:22.168Z"
   },
   {
    "duration": 35,
    "start_time": "2022-10-26T17:49:22.192Z"
   },
   {
    "duration": 10,
    "start_time": "2022-10-26T17:49:22.229Z"
   },
   {
    "duration": 6,
    "start_time": "2022-10-26T17:54:06.161Z"
   },
   {
    "duration": 58,
    "start_time": "2022-10-26T17:55:52.886Z"
   },
   {
    "duration": 6,
    "start_time": "2022-10-26T17:56:08.073Z"
   },
   {
    "duration": 50,
    "start_time": "2022-10-26T17:57:01.973Z"
   },
   {
    "duration": 358,
    "start_time": "2022-10-26T17:57:08.065Z"
   },
   {
    "duration": 245,
    "start_time": "2022-10-26T17:57:08.425Z"
   },
   {
    "duration": 41,
    "start_time": "2022-10-26T17:57:08.671Z"
   },
   {
    "duration": 13,
    "start_time": "2022-10-26T17:57:08.714Z"
   },
   {
    "duration": 22,
    "start_time": "2022-10-26T17:57:08.729Z"
   },
   {
    "duration": 84,
    "start_time": "2022-10-26T17:57:08.753Z"
   },
   {
    "duration": 104,
    "start_time": "2022-10-26T17:57:08.839Z"
   },
   {
    "duration": 189,
    "start_time": "2022-10-26T17:57:08.945Z"
   },
   {
    "duration": 21,
    "start_time": "2022-10-26T17:57:09.136Z"
   },
   {
    "duration": 21,
    "start_time": "2022-10-26T17:57:09.158Z"
   },
   {
    "duration": 10,
    "start_time": "2022-10-26T17:57:09.180Z"
   },
   {
    "duration": 41,
    "start_time": "2022-10-26T17:57:09.192Z"
   },
   {
    "duration": 52,
    "start_time": "2022-10-26T18:02:43.899Z"
   },
   {
    "duration": 61,
    "start_time": "2022-10-26T18:04:38.481Z"
   },
   {
    "duration": 763,
    "start_time": "2022-10-26T18:07:17.104Z"
   },
   {
    "duration": 614,
    "start_time": "2022-10-26T18:08:04.254Z"
   },
   {
    "duration": 263,
    "start_time": "2022-10-26T18:08:04.870Z"
   },
   {
    "duration": 38,
    "start_time": "2022-10-26T18:08:05.135Z"
   },
   {
    "duration": 16,
    "start_time": "2022-10-26T18:08:05.175Z"
   },
   {
    "duration": 45,
    "start_time": "2022-10-26T18:08:05.193Z"
   },
   {
    "duration": 80,
    "start_time": "2022-10-26T18:08:05.240Z"
   },
   {
    "duration": 107,
    "start_time": "2022-10-26T18:08:05.322Z"
   },
   {
    "duration": 163,
    "start_time": "2022-10-26T18:08:05.431Z"
   },
   {
    "duration": 27,
    "start_time": "2022-10-26T18:08:05.595Z"
   },
   {
    "duration": 27,
    "start_time": "2022-10-26T18:08:05.625Z"
   },
   {
    "duration": 13,
    "start_time": "2022-10-26T18:08:05.653Z"
   },
   {
    "duration": 16,
    "start_time": "2022-10-26T18:08:05.667Z"
   },
   {
    "duration": 74,
    "start_time": "2022-10-26T18:08:05.685Z"
   },
   {
    "duration": 296,
    "start_time": "2022-10-26T18:08:05.761Z"
   },
   {
    "duration": 213,
    "start_time": "2022-10-26T18:09:18.543Z"
   },
   {
    "duration": 221,
    "start_time": "2022-10-26T18:09:37.474Z"
   },
   {
    "duration": 254,
    "start_time": "2022-10-26T18:09:46.414Z"
   },
   {
    "duration": 18,
    "start_time": "2022-10-26T18:11:47.037Z"
   },
   {
    "duration": 6,
    "start_time": "2022-10-26T18:12:46.416Z"
   },
   {
    "duration": 63,
    "start_time": "2022-10-26T18:13:05.194Z"
   },
   {
    "duration": 683,
    "start_time": "2022-10-26T18:13:12.717Z"
   },
   {
    "duration": 296,
    "start_time": "2022-10-26T18:13:13.402Z"
   },
   {
    "duration": 50,
    "start_time": "2022-10-26T18:13:13.699Z"
   },
   {
    "duration": 15,
    "start_time": "2022-10-26T18:13:13.750Z"
   },
   {
    "duration": 16,
    "start_time": "2022-10-26T18:13:13.768Z"
   },
   {
    "duration": 116,
    "start_time": "2022-10-26T18:13:13.786Z"
   },
   {
    "duration": 103,
    "start_time": "2022-10-26T18:13:13.904Z"
   },
   {
    "duration": 179,
    "start_time": "2022-10-26T18:13:14.008Z"
   },
   {
    "duration": 18,
    "start_time": "2022-10-26T18:13:14.189Z"
   },
   {
    "duration": 30,
    "start_time": "2022-10-26T18:13:14.226Z"
   },
   {
    "duration": 14,
    "start_time": "2022-10-26T18:13:14.258Z"
   },
   {
    "duration": 21,
    "start_time": "2022-10-26T18:13:14.274Z"
   },
   {
    "duration": 8,
    "start_time": "2022-10-26T18:13:14.296Z"
   },
   {
    "duration": 69,
    "start_time": "2022-10-26T18:13:14.306Z"
   },
   {
    "duration": 300,
    "start_time": "2022-10-26T18:13:14.376Z"
   },
   {
    "duration": 17,
    "start_time": "2022-10-26T18:17:06.079Z"
   },
   {
    "duration": 199,
    "start_time": "2022-10-26T18:18:02.016Z"
   },
   {
    "duration": 46,
    "start_time": "2022-10-26T18:21:49.620Z"
   },
   {
    "duration": 35,
    "start_time": "2022-10-26T18:22:16.145Z"
   },
   {
    "duration": 46,
    "start_time": "2022-10-26T18:22:55.326Z"
   },
   {
    "duration": 123,
    "start_time": "2022-10-26T18:24:18.748Z"
   },
   {
    "duration": 44,
    "start_time": "2022-10-26T18:25:40.220Z"
   },
   {
    "duration": 34,
    "start_time": "2022-10-26T18:25:49.988Z"
   },
   {
    "duration": 44,
    "start_time": "2022-10-26T18:26:48.829Z"
   },
   {
    "duration": 35,
    "start_time": "2022-10-26T18:27:07.472Z"
   },
   {
    "duration": 52,
    "start_time": "2022-10-26T18:31:59.111Z"
   },
   {
    "duration": 45,
    "start_time": "2022-10-26T18:32:07.100Z"
   },
   {
    "duration": 57,
    "start_time": "2022-10-26T18:33:00.543Z"
   },
   {
    "duration": 11,
    "start_time": "2022-10-26T18:33:21.943Z"
   },
   {
    "duration": 1113,
    "start_time": "2022-10-26T18:34:02.203Z"
   },
   {
    "duration": 261,
    "start_time": "2022-10-26T18:34:03.318Z"
   },
   {
    "duration": 40,
    "start_time": "2022-10-26T18:34:03.580Z"
   },
   {
    "duration": 15,
    "start_time": "2022-10-26T18:34:03.621Z"
   },
   {
    "duration": 13,
    "start_time": "2022-10-26T18:34:03.638Z"
   },
   {
    "duration": 93,
    "start_time": "2022-10-26T18:34:03.652Z"
   },
   {
    "duration": 98,
    "start_time": "2022-10-26T18:34:03.746Z"
   },
   {
    "duration": 165,
    "start_time": "2022-10-26T18:34:03.846Z"
   },
   {
    "duration": 19,
    "start_time": "2022-10-26T18:34:04.013Z"
   },
   {
    "duration": 20,
    "start_time": "2022-10-26T18:34:04.034Z"
   },
   {
    "duration": 16,
    "start_time": "2022-10-26T18:34:04.055Z"
   },
   {
    "duration": 19,
    "start_time": "2022-10-26T18:34:04.073Z"
   },
   {
    "duration": 29,
    "start_time": "2022-10-26T18:34:04.093Z"
   },
   {
    "duration": 48,
    "start_time": "2022-10-26T18:34:04.124Z"
   },
   {
    "duration": 266,
    "start_time": "2022-10-26T18:34:04.174Z"
   },
   {
    "duration": 109,
    "start_time": "2022-10-26T18:34:04.442Z"
   },
   {
    "duration": 0,
    "start_time": "2022-10-26T18:34:04.553Z"
   },
   {
    "duration": 0,
    "start_time": "2022-10-26T18:34:04.554Z"
   },
   {
    "duration": 0,
    "start_time": "2022-10-26T18:34:04.555Z"
   },
   {
    "duration": 14,
    "start_time": "2022-10-26T18:35:32.370Z"
   },
   {
    "duration": 157,
    "start_time": "2022-10-26T18:35:44.085Z"
   },
   {
    "duration": 17,
    "start_time": "2022-10-26T18:36:36.810Z"
   },
   {
    "duration": 693,
    "start_time": "2022-10-26T18:36:57.300Z"
   },
   {
    "duration": 18,
    "start_time": "2022-10-26T18:38:25.131Z"
   },
   {
    "duration": 733,
    "start_time": "2022-10-26T18:39:45.283Z"
   },
   {
    "duration": 0,
    "start_time": "2022-10-26T18:39:46.018Z"
   },
   {
    "duration": 15,
    "start_time": "2022-10-26T18:39:54.370Z"
   },
   {
    "duration": 685,
    "start_time": "2022-10-26T18:40:36.319Z"
   },
   {
    "duration": 46,
    "start_time": "2022-10-26T18:40:59.889Z"
   },
   {
    "duration": 146,
    "start_time": "2022-10-26T18:41:00.737Z"
   },
   {
    "duration": 73,
    "start_time": "2022-10-26T18:41:54.790Z"
   },
   {
    "duration": 163,
    "start_time": "2022-10-26T18:41:56.036Z"
   },
   {
    "duration": 491,
    "start_time": "2022-10-26T18:42:19.290Z"
   },
   {
    "duration": 359,
    "start_time": "2022-10-26T18:42:41.323Z"
   },
   {
    "duration": 370,
    "start_time": "2022-10-26T18:43:13.782Z"
   },
   {
    "duration": 395,
    "start_time": "2022-10-26T18:44:17.629Z"
   },
   {
    "duration": 373,
    "start_time": "2022-10-26T18:44:26.254Z"
   },
   {
    "duration": 438,
    "start_time": "2022-10-26T18:45:50.356Z"
   },
   {
    "duration": 51,
    "start_time": "2022-10-26T18:46:02.865Z"
   },
   {
    "duration": 388,
    "start_time": "2022-10-26T18:46:03.813Z"
   },
   {
    "duration": 156,
    "start_time": "2022-10-26T18:46:25.155Z"
   },
   {
    "duration": 410,
    "start_time": "2022-10-26T18:47:02.819Z"
   },
   {
    "duration": 398,
    "start_time": "2022-10-26T18:47:14.998Z"
   },
   {
    "duration": 15,
    "start_time": "2022-10-26T18:48:33.523Z"
   },
   {
    "duration": 48,
    "start_time": "2022-10-26T18:50:36.508Z"
   },
   {
    "duration": 10,
    "start_time": "2022-10-26T18:50:42.975Z"
   },
   {
    "duration": 41,
    "start_time": "2022-10-26T18:50:59.938Z"
   },
   {
    "duration": 29,
    "start_time": "2022-10-26T18:51:04.331Z"
   },
   {
    "duration": 15,
    "start_time": "2022-10-26T18:51:05.134Z"
   },
   {
    "duration": 24,
    "start_time": "2022-10-26T18:51:55.241Z"
   },
   {
    "duration": 16,
    "start_time": "2022-10-26T18:51:56.191Z"
   },
   {
    "duration": 474,
    "start_time": "2022-10-26T18:52:12.660Z"
   },
   {
    "duration": 16,
    "start_time": "2022-10-26T18:53:01.945Z"
   },
   {
    "duration": 418,
    "start_time": "2022-10-26T18:53:02.704Z"
   },
   {
    "duration": 38,
    "start_time": "2022-10-26T18:53:15.251Z"
   },
   {
    "duration": 49,
    "start_time": "2022-10-26T19:16:31.781Z"
   },
   {
    "duration": 45,
    "start_time": "2022-10-26T19:18:43.058Z"
   },
   {
    "duration": 56,
    "start_time": "2022-10-26T19:20:55.804Z"
   },
   {
    "duration": 44,
    "start_time": "2022-10-26T19:22:56.720Z"
   },
   {
    "duration": 41,
    "start_time": "2022-10-26T19:23:10.686Z"
   },
   {
    "duration": 52,
    "start_time": "2022-10-26T19:23:17.287Z"
   },
   {
    "duration": 80,
    "start_time": "2022-10-26T19:25:14.929Z"
   },
   {
    "duration": 40,
    "start_time": "2022-10-26T19:25:31.493Z"
   },
   {
    "duration": 40,
    "start_time": "2022-10-26T19:25:47.525Z"
   },
   {
    "duration": 49,
    "start_time": "2022-10-26T19:25:52.092Z"
   },
   {
    "duration": 47,
    "start_time": "2022-10-26T19:26:29.700Z"
   },
   {
    "duration": 51,
    "start_time": "2022-10-26T19:26:32.093Z"
   },
   {
    "duration": 51,
    "start_time": "2022-10-26T19:27:48.467Z"
   },
   {
    "duration": 56,
    "start_time": "2022-10-26T19:28:06.449Z"
   },
   {
    "duration": 50,
    "start_time": "2022-10-26T19:29:36.962Z"
   },
   {
    "duration": 64,
    "start_time": "2022-10-26T19:30:13.920Z"
   },
   {
    "duration": 1078,
    "start_time": "2022-10-26T19:30:52.653Z"
   },
   {
    "duration": 265,
    "start_time": "2022-10-26T19:30:53.734Z"
   },
   {
    "duration": 50,
    "start_time": "2022-10-26T19:30:54.000Z"
   },
   {
    "duration": 14,
    "start_time": "2022-10-26T19:30:54.052Z"
   },
   {
    "duration": 45,
    "start_time": "2022-10-26T19:30:54.068Z"
   },
   {
    "duration": 100,
    "start_time": "2022-10-26T19:30:54.115Z"
   },
   {
    "duration": 94,
    "start_time": "2022-10-26T19:30:54.216Z"
   },
   {
    "duration": 165,
    "start_time": "2022-10-26T19:30:54.322Z"
   },
   {
    "duration": 17,
    "start_time": "2022-10-26T19:30:54.489Z"
   },
   {
    "duration": 52,
    "start_time": "2022-10-26T19:30:54.508Z"
   },
   {
    "duration": 28,
    "start_time": "2022-10-26T19:30:54.562Z"
   },
   {
    "duration": 55,
    "start_time": "2022-10-26T19:30:54.591Z"
   },
   {
    "duration": 18,
    "start_time": "2022-10-26T19:30:54.648Z"
   },
   {
    "duration": 61,
    "start_time": "2022-10-26T19:30:54.667Z"
   },
   {
    "duration": 405,
    "start_time": "2022-10-26T19:30:54.731Z"
   },
   {
    "duration": 20,
    "start_time": "2022-10-26T19:30:55.138Z"
   },
   {
    "duration": 466,
    "start_time": "2022-10-26T19:30:55.160Z"
   },
   {
    "duration": 43,
    "start_time": "2022-10-26T19:30:55.629Z"
   },
   {
    "duration": 78,
    "start_time": "2022-10-26T19:30:55.673Z"
   },
   {
    "duration": 45,
    "start_time": "2022-10-26T19:44:22.073Z"
   },
   {
    "duration": 96,
    "start_time": "2022-10-26T19:44:28.546Z"
   },
   {
    "duration": 8,
    "start_time": "2022-10-26T19:45:03.257Z"
   },
   {
    "duration": 8,
    "start_time": "2022-10-26T19:45:45.678Z"
   },
   {
    "duration": 43,
    "start_time": "2022-10-26T19:46:09.856Z"
   },
   {
    "duration": 58,
    "start_time": "2022-10-26T19:46:36.586Z"
   },
   {
    "duration": 17,
    "start_time": "2022-10-26T19:47:27.901Z"
   },
   {
    "duration": 8,
    "start_time": "2022-10-26T19:47:41.861Z"
   },
   {
    "duration": 16,
    "start_time": "2022-10-26T19:47:52.848Z"
   },
   {
    "duration": 15,
    "start_time": "2022-10-26T19:48:16.833Z"
   },
   {
    "duration": 14,
    "start_time": "2022-10-26T19:48:19.467Z"
   },
   {
    "duration": 16,
    "start_time": "2022-10-26T19:49:16.165Z"
   },
   {
    "duration": 17,
    "start_time": "2022-10-26T19:50:09.664Z"
   },
   {
    "duration": 23,
    "start_time": "2022-10-26T19:50:39.904Z"
   },
   {
    "duration": 68,
    "start_time": "2022-10-26T19:51:27.810Z"
   },
   {
    "duration": 20,
    "start_time": "2022-10-26T19:51:29.167Z"
   },
   {
    "duration": 14,
    "start_time": "2022-10-26T19:51:45.547Z"
   },
   {
    "duration": 14,
    "start_time": "2022-10-26T19:53:13.003Z"
   },
   {
    "duration": 30,
    "start_time": "2022-10-26T19:53:34.404Z"
   },
   {
    "duration": 16,
    "start_time": "2022-10-26T19:54:23.432Z"
   },
   {
    "duration": 15,
    "start_time": "2022-10-26T19:55:35.256Z"
   },
   {
    "duration": 20,
    "start_time": "2022-10-26T19:55:49.320Z"
   },
   {
    "duration": 19,
    "start_time": "2022-10-26T19:56:23.950Z"
   },
   {
    "duration": 5,
    "start_time": "2022-10-26T19:58:39.582Z"
   },
   {
    "duration": 24,
    "start_time": "2022-10-26T19:59:00.508Z"
   },
   {
    "duration": 14,
    "start_time": "2022-10-26T19:59:16.833Z"
   },
   {
    "duration": 1132,
    "start_time": "2022-10-26T19:59:28.380Z"
   },
   {
    "duration": 269,
    "start_time": "2022-10-26T19:59:29.514Z"
   },
   {
    "duration": 46,
    "start_time": "2022-10-26T19:59:29.784Z"
   },
   {
    "duration": 17,
    "start_time": "2022-10-26T19:59:29.832Z"
   },
   {
    "duration": 14,
    "start_time": "2022-10-26T19:59:29.851Z"
   },
   {
    "duration": 102,
    "start_time": "2022-10-26T19:59:29.867Z"
   },
   {
    "duration": 95,
    "start_time": "2022-10-26T19:59:29.970Z"
   },
   {
    "duration": 172,
    "start_time": "2022-10-26T19:59:30.066Z"
   },
   {
    "duration": 18,
    "start_time": "2022-10-26T19:59:30.239Z"
   },
   {
    "duration": 24,
    "start_time": "2022-10-26T19:59:30.258Z"
   },
   {
    "duration": 57,
    "start_time": "2022-10-26T19:59:30.283Z"
   },
   {
    "duration": 36,
    "start_time": "2022-10-26T19:59:30.341Z"
   },
   {
    "duration": 25,
    "start_time": "2022-10-26T19:59:30.379Z"
   },
   {
    "duration": 79,
    "start_time": "2022-10-26T19:59:30.407Z"
   },
   {
    "duration": 422,
    "start_time": "2022-10-26T19:59:30.488Z"
   },
   {
    "duration": 22,
    "start_time": "2022-10-26T19:59:30.912Z"
   },
   {
    "duration": 434,
    "start_time": "2022-10-26T19:59:30.936Z"
   },
   {
    "duration": 37,
    "start_time": "2022-10-26T19:59:31.372Z"
   },
   {
    "duration": 71,
    "start_time": "2022-10-26T19:59:31.411Z"
   },
   {
    "duration": 100,
    "start_time": "2022-10-27T17:01:05.569Z"
   },
   {
    "duration": 53,
    "start_time": "2022-10-27T17:01:20.854Z"
   },
   {
    "duration": 1328,
    "start_time": "2022-10-27T17:01:51.363Z"
   },
   {
    "duration": 896,
    "start_time": "2022-10-27T17:01:52.693Z"
   },
   {
    "duration": 47,
    "start_time": "2022-10-27T17:01:53.591Z"
   },
   {
    "duration": 16,
    "start_time": "2022-10-27T17:01:53.640Z"
   },
   {
    "duration": 15,
    "start_time": "2022-10-27T17:01:53.659Z"
   },
   {
    "duration": 107,
    "start_time": "2022-10-27T17:01:53.675Z"
   },
   {
    "duration": 100,
    "start_time": "2022-10-27T17:01:53.783Z"
   },
   {
    "duration": 169,
    "start_time": "2022-10-27T17:01:53.884Z"
   },
   {
    "duration": 20,
    "start_time": "2022-10-27T17:01:54.055Z"
   },
   {
    "duration": 26,
    "start_time": "2022-10-27T17:01:54.077Z"
   },
   {
    "duration": 13,
    "start_time": "2022-10-27T17:01:54.130Z"
   },
   {
    "duration": 49,
    "start_time": "2022-10-27T17:01:54.144Z"
   },
   {
    "duration": 22,
    "start_time": "2022-10-27T17:01:54.195Z"
   },
   {
    "duration": 59,
    "start_time": "2022-10-27T17:01:54.220Z"
   },
   {
    "duration": 451,
    "start_time": "2022-10-27T17:01:54.281Z"
   },
   {
    "duration": 18,
    "start_time": "2022-10-27T17:01:54.734Z"
   },
   {
    "duration": 435,
    "start_time": "2022-10-27T17:01:54.754Z"
   },
   {
    "duration": 48,
    "start_time": "2022-10-27T17:01:55.191Z"
   },
   {
    "duration": 60,
    "start_time": "2022-10-27T17:01:55.241Z"
   },
   {
    "duration": 44,
    "start_time": "2022-10-27T17:01:55.303Z"
   },
   {
    "duration": 71,
    "start_time": "2022-10-27T17:01:55.349Z"
   },
   {
    "duration": 101,
    "start_time": "2022-10-27T17:02:09.598Z"
   },
   {
    "duration": 74,
    "start_time": "2022-10-27T17:03:22.536Z"
   },
   {
    "duration": 37,
    "start_time": "2022-10-27T17:03:42.950Z"
   },
   {
    "duration": 45,
    "start_time": "2022-10-27T17:03:52.247Z"
   },
   {
    "duration": 4,
    "start_time": "2022-10-27T17:04:11.933Z"
   },
   {
    "duration": 43,
    "start_time": "2022-10-27T17:04:18.287Z"
   },
   {
    "duration": 33,
    "start_time": "2022-10-27T17:05:05.021Z"
   },
   {
    "duration": 77,
    "start_time": "2022-10-27T17:05:41.022Z"
   },
   {
    "duration": 33,
    "start_time": "2022-10-27T17:05:51.011Z"
   },
   {
    "duration": 17,
    "start_time": "2022-10-27T17:06:32.613Z"
   },
   {
    "duration": 35,
    "start_time": "2022-10-27T17:07:00.770Z"
   },
   {
    "duration": 42,
    "start_time": "2022-10-27T17:07:38.179Z"
   },
   {
    "duration": 32,
    "start_time": "2022-10-27T17:07:53.339Z"
   },
   {
    "duration": 31,
    "start_time": "2022-10-27T17:10:21.437Z"
   },
   {
    "duration": 27,
    "start_time": "2022-10-27T17:10:43.748Z"
   },
   {
    "duration": 36,
    "start_time": "2022-10-27T17:11:12.387Z"
   },
   {
    "duration": 29,
    "start_time": "2022-10-27T17:12:41.173Z"
   },
   {
    "duration": 43,
    "start_time": "2022-10-27T17:13:09.792Z"
   },
   {
    "duration": 47,
    "start_time": "2022-10-27T17:13:19.733Z"
   },
   {
    "duration": 29,
    "start_time": "2022-10-27T17:13:24.576Z"
   },
   {
    "duration": 29,
    "start_time": "2022-10-27T17:13:51.354Z"
   },
   {
    "duration": 32,
    "start_time": "2022-10-27T17:14:31.603Z"
   },
   {
    "duration": 50,
    "start_time": "2022-10-27T17:15:09.347Z"
   },
   {
    "duration": 32,
    "start_time": "2022-10-27T17:15:20.341Z"
   },
   {
    "duration": 31,
    "start_time": "2022-10-27T17:15:22.840Z"
   },
   {
    "duration": 30,
    "start_time": "2022-10-27T17:15:45.987Z"
   },
   {
    "duration": 31,
    "start_time": "2022-10-27T17:15:48.657Z"
   },
   {
    "duration": 72,
    "start_time": "2022-10-27T17:16:34.921Z"
   },
   {
    "duration": 26,
    "start_time": "2022-10-27T17:16:42.955Z"
   },
   {
    "duration": 34,
    "start_time": "2022-10-27T17:20:21.143Z"
   },
   {
    "duration": 33,
    "start_time": "2022-10-27T17:21:56.798Z"
   },
   {
    "duration": 4,
    "start_time": "2022-10-27T17:23:34.829Z"
   },
   {
    "duration": 32,
    "start_time": "2022-10-27T17:23:53.131Z"
   },
   {
    "duration": 29,
    "start_time": "2022-10-27T17:24:09.156Z"
   },
   {
    "duration": 31,
    "start_time": "2022-10-27T17:24:30.606Z"
   },
   {
    "duration": 39,
    "start_time": "2022-10-27T17:24:48.418Z"
   },
   {
    "duration": 13,
    "start_time": "2022-10-27T17:27:28.258Z"
   },
   {
    "duration": 41,
    "start_time": "2022-10-27T17:27:38.998Z"
   },
   {
    "duration": 33,
    "start_time": "2022-10-27T17:28:11.847Z"
   },
   {
    "duration": 32,
    "start_time": "2022-10-27T17:29:47.725Z"
   },
   {
    "duration": 31,
    "start_time": "2022-10-27T17:29:48.997Z"
   },
   {
    "duration": 59,
    "start_time": "2022-10-27T17:30:33.791Z"
   },
   {
    "duration": 30,
    "start_time": "2022-10-27T17:31:26.913Z"
   },
   {
    "duration": 55,
    "start_time": "2022-10-27T17:31:28.129Z"
   },
   {
    "duration": 72,
    "start_time": "2022-10-27T17:34:07.114Z"
   },
   {
    "duration": 69,
    "start_time": "2022-10-27T17:34:16.122Z"
   },
   {
    "duration": 45,
    "start_time": "2022-10-27T17:35:06.488Z"
   },
   {
    "duration": 4,
    "start_time": "2022-10-27T17:35:17.751Z"
   },
   {
    "duration": 11,
    "start_time": "2022-10-27T17:35:23.514Z"
   },
   {
    "duration": 22,
    "start_time": "2022-10-27T17:35:58.244Z"
   },
   {
    "duration": 33,
    "start_time": "2022-10-27T17:36:33.610Z"
   },
   {
    "duration": 86,
    "start_time": "2022-10-27T17:36:53.064Z"
   },
   {
    "duration": 116,
    "start_time": "2022-10-27T17:38:22.950Z"
   },
   {
    "duration": 108,
    "start_time": "2022-10-27T17:38:25.629Z"
   },
   {
    "duration": 31,
    "start_time": "2022-10-27T17:40:04.758Z"
   },
   {
    "duration": 48,
    "start_time": "2022-10-27T17:40:05.962Z"
   },
   {
    "duration": 107,
    "start_time": "2022-10-27T17:40:06.665Z"
   },
   {
    "duration": 101,
    "start_time": "2022-10-27T17:42:48.999Z"
   },
   {
    "duration": 96,
    "start_time": "2022-10-27T17:42:59.346Z"
   },
   {
    "duration": 75,
    "start_time": "2022-10-27T17:44:08.525Z"
   },
   {
    "duration": 97,
    "start_time": "2022-10-27T17:44:12.573Z"
   },
   {
    "duration": 112,
    "start_time": "2022-10-27T17:44:32.386Z"
   },
   {
    "duration": 118,
    "start_time": "2022-10-27T17:44:48.035Z"
   },
   {
    "duration": 101,
    "start_time": "2022-10-27T17:45:40.068Z"
   },
   {
    "duration": 107,
    "start_time": "2022-10-27T17:45:44.687Z"
   },
   {
    "duration": 100,
    "start_time": "2022-10-27T17:45:55.039Z"
   },
   {
    "duration": 117,
    "start_time": "2022-10-27T17:46:36.353Z"
   },
   {
    "duration": 103,
    "start_time": "2022-10-27T17:46:45.526Z"
   },
   {
    "duration": 96,
    "start_time": "2022-10-27T17:46:51.277Z"
   },
   {
    "duration": 94,
    "start_time": "2022-10-27T17:47:06.622Z"
   },
   {
    "duration": 105,
    "start_time": "2022-10-27T17:47:53.992Z"
   },
   {
    "duration": 66,
    "start_time": "2022-10-27T17:48:12.185Z"
   },
   {
    "duration": 95,
    "start_time": "2022-10-27T17:48:17.925Z"
   },
   {
    "duration": 4,
    "start_time": "2022-10-27T17:49:24.041Z"
   },
   {
    "duration": 5,
    "start_time": "2022-10-27T17:49:27.333Z"
   },
   {
    "duration": 4,
    "start_time": "2022-10-27T17:49:36.889Z"
   },
   {
    "duration": 3,
    "start_time": "2022-10-27T17:49:41.784Z"
   },
   {
    "duration": 126,
    "start_time": "2022-10-27T17:49:58.150Z"
   },
   {
    "duration": 97,
    "start_time": "2022-10-27T17:50:06.984Z"
   },
   {
    "duration": 9,
    "start_time": "2022-10-27T17:53:38.840Z"
   },
   {
    "duration": 10,
    "start_time": "2022-10-27T17:53:57.140Z"
   },
   {
    "duration": 7,
    "start_time": "2022-10-27T17:55:05.299Z"
   },
   {
    "duration": 15,
    "start_time": "2022-10-27T17:55:16.424Z"
   },
   {
    "duration": 13,
    "start_time": "2022-10-27T18:01:16.580Z"
   },
   {
    "duration": 11,
    "start_time": "2022-10-27T18:04:15.208Z"
   },
   {
    "duration": 178,
    "start_time": "2022-10-27T18:05:36.803Z"
   },
   {
    "duration": 16,
    "start_time": "2022-10-27T18:05:48.618Z"
   },
   {
    "duration": 1299,
    "start_time": "2022-10-27T18:06:22.539Z"
   },
   {
    "duration": 267,
    "start_time": "2022-10-27T18:06:23.840Z"
   },
   {
    "duration": 43,
    "start_time": "2022-10-27T18:06:24.108Z"
   },
   {
    "duration": 15,
    "start_time": "2022-10-27T18:06:24.153Z"
   },
   {
    "duration": 14,
    "start_time": "2022-10-27T18:06:24.171Z"
   },
   {
    "duration": 102,
    "start_time": "2022-10-27T18:06:24.186Z"
   },
   {
    "duration": 101,
    "start_time": "2022-10-27T18:06:24.289Z"
   },
   {
    "duration": 175,
    "start_time": "2022-10-27T18:06:24.392Z"
   },
   {
    "duration": 19,
    "start_time": "2022-10-27T18:06:24.569Z"
   },
   {
    "duration": 40,
    "start_time": "2022-10-27T18:06:24.590Z"
   },
   {
    "duration": 11,
    "start_time": "2022-10-27T18:06:24.632Z"
   },
   {
    "duration": 20,
    "start_time": "2022-10-27T18:06:24.645Z"
   },
   {
    "duration": 5,
    "start_time": "2022-10-27T18:06:24.668Z"
   },
   {
    "duration": 77,
    "start_time": "2022-10-27T18:06:24.676Z"
   },
   {
    "duration": 429,
    "start_time": "2022-10-27T18:06:24.755Z"
   },
   {
    "duration": 20,
    "start_time": "2022-10-27T18:06:25.186Z"
   },
   {
    "duration": 440,
    "start_time": "2022-10-27T18:06:25.208Z"
   },
   {
    "duration": 43,
    "start_time": "2022-10-27T18:06:25.650Z"
   },
   {
    "duration": 80,
    "start_time": "2022-10-27T18:06:25.695Z"
   },
   {
    "duration": 34,
    "start_time": "2022-10-27T18:06:25.777Z"
   },
   {
    "duration": 46,
    "start_time": "2022-10-27T18:06:25.830Z"
   },
   {
    "duration": 108,
    "start_time": "2022-10-27T18:06:25.877Z"
   },
   {
    "duration": 11,
    "start_time": "2022-10-27T18:06:25.987Z"
   },
   {
    "duration": 116,
    "start_time": "2022-10-27T18:06:25.999Z"
   },
   {
    "duration": 0,
    "start_time": "2022-10-27T18:06:26.117Z"
   },
   {
    "duration": 443,
    "start_time": "2022-10-27T18:07:18.789Z"
   },
   {
    "duration": 112,
    "start_time": "2022-10-27T18:07:50.057Z"
   },
   {
    "duration": 20,
    "start_time": "2022-10-27T18:08:27.809Z"
   },
   {
    "duration": 25,
    "start_time": "2022-10-27T18:08:41.497Z"
   },
   {
    "duration": 20,
    "start_time": "2022-10-27T18:08:43.695Z"
   },
   {
    "duration": 147,
    "start_time": "2022-10-27T18:09:12.349Z"
   },
   {
    "duration": 21,
    "start_time": "2022-10-27T18:09:50.744Z"
   },
   {
    "duration": 145,
    "start_time": "2022-10-27T18:10:00.577Z"
   },
   {
    "duration": 164,
    "start_time": "2022-10-27T18:11:50.880Z"
   },
   {
    "duration": 147,
    "start_time": "2022-10-27T18:12:40.255Z"
   },
   {
    "duration": 146,
    "start_time": "2022-10-27T18:13:45.318Z"
   },
   {
    "duration": 146,
    "start_time": "2022-10-27T18:14:34.950Z"
   },
   {
    "duration": 160,
    "start_time": "2022-10-27T18:15:28.860Z"
   },
   {
    "duration": 155,
    "start_time": "2022-10-27T18:16:10.610Z"
   },
   {
    "duration": 240,
    "start_time": "2022-10-27T18:16:47.749Z"
   },
   {
    "duration": 1184,
    "start_time": "2022-10-27T18:17:26.753Z"
   },
   {
    "duration": 270,
    "start_time": "2022-10-27T18:17:27.939Z"
   },
   {
    "duration": 62,
    "start_time": "2022-10-27T18:17:28.211Z"
   },
   {
    "duration": 20,
    "start_time": "2022-10-27T18:17:28.276Z"
   },
   {
    "duration": 39,
    "start_time": "2022-10-27T18:17:28.299Z"
   },
   {
    "duration": 117,
    "start_time": "2022-10-27T18:17:28.340Z"
   },
   {
    "duration": 114,
    "start_time": "2022-10-27T18:17:28.460Z"
   },
   {
    "duration": 175,
    "start_time": "2022-10-27T18:17:28.576Z"
   },
   {
    "duration": 19,
    "start_time": "2022-10-27T18:17:28.753Z"
   },
   {
    "duration": 25,
    "start_time": "2022-10-27T18:17:28.774Z"
   },
   {
    "duration": 45,
    "start_time": "2022-10-27T18:17:28.801Z"
   },
   {
    "duration": 21,
    "start_time": "2022-10-27T18:17:28.848Z"
   },
   {
    "duration": 5,
    "start_time": "2022-10-27T18:17:28.870Z"
   },
   {
    "duration": 63,
    "start_time": "2022-10-27T18:17:28.877Z"
   },
   {
    "duration": 426,
    "start_time": "2022-10-27T18:17:28.942Z"
   },
   {
    "duration": 19,
    "start_time": "2022-10-27T18:17:29.370Z"
   },
   {
    "duration": 440,
    "start_time": "2022-10-27T18:17:29.391Z"
   },
   {
    "duration": 42,
    "start_time": "2022-10-27T18:17:29.833Z"
   },
   {
    "duration": 71,
    "start_time": "2022-10-27T18:17:29.877Z"
   },
   {
    "duration": 30,
    "start_time": "2022-10-27T18:17:29.950Z"
   },
   {
    "duration": 74,
    "start_time": "2022-10-27T18:17:29.982Z"
   },
   {
    "duration": 110,
    "start_time": "2022-10-27T18:17:30.057Z"
   },
   {
    "duration": 11,
    "start_time": "2022-10-27T18:17:30.169Z"
   },
   {
    "duration": 291,
    "start_time": "2022-10-27T18:17:30.182Z"
   },
   {
    "duration": 152,
    "start_time": "2022-10-27T18:18:21.156Z"
   },
   {
    "duration": 175,
    "start_time": "2022-10-27T18:19:13.217Z"
   },
   {
    "duration": 234,
    "start_time": "2022-10-27T18:19:49.771Z"
   },
   {
    "duration": 157,
    "start_time": "2022-10-27T18:20:07.314Z"
   },
   {
    "duration": 161,
    "start_time": "2022-10-27T18:22:27.361Z"
   },
   {
    "duration": 170,
    "start_time": "2022-10-27T18:23:08.837Z"
   },
   {
    "duration": 646,
    "start_time": "2022-10-27T18:24:26.642Z"
   },
   {
    "duration": 601,
    "start_time": "2022-10-27T18:24:43.168Z"
   },
   {
    "duration": 598,
    "start_time": "2022-10-27T18:25:02.608Z"
   },
   {
    "duration": 727,
    "start_time": "2022-10-27T18:25:17.019Z"
   },
   {
    "duration": 173,
    "start_time": "2022-10-27T18:25:33.837Z"
   },
   {
    "duration": 174,
    "start_time": "2022-10-27T18:25:41.861Z"
   },
   {
    "duration": 153,
    "start_time": "2022-10-27T18:25:55.449Z"
   },
   {
    "duration": 168,
    "start_time": "2022-10-27T18:26:41.461Z"
   },
   {
    "duration": 4,
    "start_time": "2022-10-27T18:33:44.878Z"
   },
   {
    "duration": 11,
    "start_time": "2022-10-27T18:33:50.491Z"
   },
   {
    "duration": 1374,
    "start_time": "2022-10-27T18:36:42.067Z"
   },
   {
    "duration": 1105,
    "start_time": "2022-10-27T18:37:55.384Z"
   },
   {
    "duration": 12,
    "start_time": "2022-10-27T18:40:33.773Z"
   },
   {
    "duration": 14,
    "start_time": "2022-10-27T18:40:54.078Z"
   },
   {
    "duration": 15,
    "start_time": "2022-10-27T18:41:14.810Z"
   },
   {
    "duration": 75,
    "start_time": "2022-10-27T18:41:49.350Z"
   },
   {
    "duration": 14,
    "start_time": "2022-10-27T18:41:53.721Z"
   },
   {
    "duration": 13,
    "start_time": "2022-10-27T18:44:58.699Z"
   },
   {
    "duration": 55,
    "start_time": "2022-10-27T18:51:24.629Z"
   },
   {
    "duration": 9,
    "start_time": "2022-10-27T18:53:42.485Z"
   },
   {
    "duration": 13,
    "start_time": "2022-10-27T19:01:49.228Z"
   },
   {
    "duration": 2129,
    "start_time": "2022-10-27T19:02:57.155Z"
   },
   {
    "duration": 13,
    "start_time": "2022-10-27T19:05:23.532Z"
   },
   {
    "duration": 11,
    "start_time": "2022-10-27T19:05:43.510Z"
   },
   {
    "duration": 12,
    "start_time": "2022-10-27T19:05:50.768Z"
   },
   {
    "duration": 10,
    "start_time": "2022-10-27T19:08:15.350Z"
   },
   {
    "duration": 1291,
    "start_time": "2022-10-27T19:08:44.145Z"
   },
   {
    "duration": 282,
    "start_time": "2022-10-27T19:08:45.439Z"
   },
   {
    "duration": 47,
    "start_time": "2022-10-27T19:08:45.722Z"
   },
   {
    "duration": 18,
    "start_time": "2022-10-27T19:08:45.771Z"
   },
   {
    "duration": 15,
    "start_time": "2022-10-27T19:08:45.791Z"
   },
   {
    "duration": 84,
    "start_time": "2022-10-27T19:08:45.830Z"
   },
   {
    "duration": 103,
    "start_time": "2022-10-27T19:08:45.929Z"
   },
   {
    "duration": 185,
    "start_time": "2022-10-27T19:08:46.034Z"
   },
   {
    "duration": 31,
    "start_time": "2022-10-27T19:08:46.221Z"
   },
   {
    "duration": 29,
    "start_time": "2022-10-27T19:08:46.254Z"
   },
   {
    "duration": 19,
    "start_time": "2022-10-27T19:08:46.285Z"
   },
   {
    "duration": 19,
    "start_time": "2022-10-27T19:08:46.330Z"
   },
   {
    "duration": 6,
    "start_time": "2022-10-27T19:08:46.351Z"
   },
   {
    "duration": 93,
    "start_time": "2022-10-27T19:08:46.360Z"
   },
   {
    "duration": 777,
    "start_time": "2022-10-27T19:08:46.455Z"
   },
   {
    "duration": 0,
    "start_time": "2022-10-27T19:08:47.233Z"
   },
   {
    "duration": 0,
    "start_time": "2022-10-27T19:08:47.234Z"
   },
   {
    "duration": 0,
    "start_time": "2022-10-27T19:08:47.236Z"
   },
   {
    "duration": 0,
    "start_time": "2022-10-27T19:08:47.237Z"
   },
   {
    "duration": 0,
    "start_time": "2022-10-27T19:08:47.238Z"
   },
   {
    "duration": 0,
    "start_time": "2022-10-27T19:08:47.239Z"
   },
   {
    "duration": 0,
    "start_time": "2022-10-27T19:08:47.240Z"
   },
   {
    "duration": 0,
    "start_time": "2022-10-27T19:08:47.241Z"
   },
   {
    "duration": 0,
    "start_time": "2022-10-27T19:08:47.242Z"
   },
   {
    "duration": 0,
    "start_time": "2022-10-27T19:08:47.243Z"
   },
   {
    "duration": 0,
    "start_time": "2022-10-27T19:08:47.244Z"
   },
   {
    "duration": 0,
    "start_time": "2022-10-27T19:08:47.245Z"
   },
   {
    "duration": 0,
    "start_time": "2022-10-27T19:08:47.246Z"
   },
   {
    "duration": 646,
    "start_time": "2022-10-27T19:09:21.859Z"
   },
   {
    "duration": 1297,
    "start_time": "2022-10-27T19:09:39.235Z"
   },
   {
    "duration": 269,
    "start_time": "2022-10-27T19:09:40.534Z"
   },
   {
    "duration": 45,
    "start_time": "2022-10-27T19:09:40.805Z"
   },
   {
    "duration": 15,
    "start_time": "2022-10-27T19:09:40.852Z"
   },
   {
    "duration": 14,
    "start_time": "2022-10-27T19:09:40.869Z"
   },
   {
    "duration": 101,
    "start_time": "2022-10-27T19:09:40.884Z"
   },
   {
    "duration": 100,
    "start_time": "2022-10-27T19:09:40.987Z"
   },
   {
    "duration": 171,
    "start_time": "2022-10-27T19:09:41.088Z"
   },
   {
    "duration": 20,
    "start_time": "2022-10-27T19:09:41.260Z"
   },
   {
    "duration": 24,
    "start_time": "2022-10-27T19:09:41.282Z"
   },
   {
    "duration": 29,
    "start_time": "2022-10-27T19:09:41.307Z"
   },
   {
    "duration": 21,
    "start_time": "2022-10-27T19:09:41.338Z"
   },
   {
    "duration": 5,
    "start_time": "2022-10-27T19:09:41.361Z"
   },
   {
    "duration": 70,
    "start_time": "2022-10-27T19:09:41.369Z"
   },
   {
    "duration": 661,
    "start_time": "2022-10-27T19:09:41.441Z"
   },
   {
    "duration": 32,
    "start_time": "2022-10-27T19:09:42.104Z"
   },
   {
    "duration": 654,
    "start_time": "2022-10-27T19:09:42.137Z"
   },
   {
    "duration": 58,
    "start_time": "2022-10-27T19:09:42.793Z"
   },
   {
    "duration": 78,
    "start_time": "2022-10-27T19:09:42.853Z"
   },
   {
    "duration": 34,
    "start_time": "2022-10-27T19:09:42.933Z"
   },
   {
    "duration": 67,
    "start_time": "2022-10-27T19:09:42.968Z"
   },
   {
    "duration": 105,
    "start_time": "2022-10-27T19:09:43.036Z"
   },
   {
    "duration": 12,
    "start_time": "2022-10-27T19:09:43.142Z"
   },
   {
    "duration": 181,
    "start_time": "2022-10-27T19:09:43.156Z"
   },
   {
    "duration": 15,
    "start_time": "2022-10-27T19:09:43.339Z"
   },
   {
    "duration": 2117,
    "start_time": "2022-10-27T19:09:43.356Z"
   },
   {
    "duration": 122,
    "start_time": "2022-10-27T19:09:45.475Z"
   },
   {
    "duration": 0,
    "start_time": "2022-10-27T19:09:45.599Z"
   },
   {
    "duration": 667,
    "start_time": "2022-10-27T19:10:03.192Z"
   },
   {
    "duration": 751,
    "start_time": "2022-10-27T19:10:18.947Z"
   },
   {
    "duration": 165,
    "start_time": "2022-10-27T19:11:34.428Z"
   },
   {
    "duration": 2097,
    "start_time": "2022-10-27T19:11:39.147Z"
   },
   {
    "duration": 26,
    "start_time": "2022-10-27T19:11:41.246Z"
   },
   {
    "duration": 1302,
    "start_time": "2022-10-27T19:11:58.937Z"
   },
   {
    "duration": 276,
    "start_time": "2022-10-27T19:12:00.240Z"
   },
   {
    "duration": 47,
    "start_time": "2022-10-27T19:12:00.518Z"
   },
   {
    "duration": 17,
    "start_time": "2022-10-27T19:12:00.566Z"
   },
   {
    "duration": 22,
    "start_time": "2022-10-27T19:12:00.585Z"
   },
   {
    "duration": 89,
    "start_time": "2022-10-27T19:12:00.609Z"
   },
   {
    "duration": 100,
    "start_time": "2022-10-27T19:12:00.700Z"
   },
   {
    "duration": 179,
    "start_time": "2022-10-27T19:12:00.802Z"
   },
   {
    "duration": 20,
    "start_time": "2022-10-27T19:12:00.983Z"
   },
   {
    "duration": 40,
    "start_time": "2022-10-27T19:12:01.004Z"
   },
   {
    "duration": 19,
    "start_time": "2022-10-27T19:12:01.046Z"
   },
   {
    "duration": 35,
    "start_time": "2022-10-27T19:12:01.067Z"
   },
   {
    "duration": 26,
    "start_time": "2022-10-27T19:12:01.104Z"
   },
   {
    "duration": 60,
    "start_time": "2022-10-27T19:12:01.132Z"
   },
   {
    "duration": 636,
    "start_time": "2022-10-27T19:12:01.194Z"
   },
   {
    "duration": 19,
    "start_time": "2022-10-27T19:12:01.832Z"
   },
   {
    "duration": 660,
    "start_time": "2022-10-27T19:12:01.852Z"
   },
   {
    "duration": 46,
    "start_time": "2022-10-27T19:12:02.514Z"
   },
   {
    "duration": 71,
    "start_time": "2022-10-27T19:12:02.562Z"
   },
   {
    "duration": 31,
    "start_time": "2022-10-27T19:12:02.635Z"
   },
   {
    "duration": 68,
    "start_time": "2022-10-27T19:12:02.668Z"
   },
   {
    "duration": 103,
    "start_time": "2022-10-27T19:12:02.738Z"
   },
   {
    "duration": 12,
    "start_time": "2022-10-27T19:12:02.843Z"
   },
   {
    "duration": 174,
    "start_time": "2022-10-27T19:12:02.857Z"
   },
   {
    "duration": 16,
    "start_time": "2022-10-27T19:12:03.033Z"
   },
   {
    "duration": 2146,
    "start_time": "2022-10-27T19:12:03.050Z"
   },
   {
    "duration": 132,
    "start_time": "2022-10-27T19:12:05.198Z"
   },
   {
    "duration": 0,
    "start_time": "2022-10-27T19:12:05.333Z"
   },
   {
    "duration": 1255,
    "start_time": "2022-10-27T19:13:10.390Z"
   },
   {
    "duration": 282,
    "start_time": "2022-10-27T19:13:11.647Z"
   },
   {
    "duration": 45,
    "start_time": "2022-10-27T19:13:11.931Z"
   },
   {
    "duration": 17,
    "start_time": "2022-10-27T19:13:11.977Z"
   },
   {
    "duration": 39,
    "start_time": "2022-10-27T19:13:11.996Z"
   },
   {
    "duration": 94,
    "start_time": "2022-10-27T19:13:12.037Z"
   },
   {
    "duration": 109,
    "start_time": "2022-10-27T19:13:12.132Z"
   },
   {
    "duration": 173,
    "start_time": "2022-10-27T19:13:12.243Z"
   },
   {
    "duration": 29,
    "start_time": "2022-10-27T19:13:12.418Z"
   },
   {
    "duration": 25,
    "start_time": "2022-10-27T19:13:12.449Z"
   },
   {
    "duration": 11,
    "start_time": "2022-10-27T19:13:12.476Z"
   },
   {
    "duration": 42,
    "start_time": "2022-10-27T19:13:12.489Z"
   },
   {
    "duration": 5,
    "start_time": "2022-10-27T19:13:12.532Z"
   },
   {
    "duration": 50,
    "start_time": "2022-10-27T19:13:12.540Z"
   },
   {
    "duration": 655,
    "start_time": "2022-10-27T19:13:12.592Z"
   },
   {
    "duration": 19,
    "start_time": "2022-10-27T19:13:13.249Z"
   },
   {
    "duration": 674,
    "start_time": "2022-10-27T19:13:13.269Z"
   },
   {
    "duration": 46,
    "start_time": "2022-10-27T19:13:13.945Z"
   },
   {
    "duration": 80,
    "start_time": "2022-10-27T19:13:13.993Z"
   },
   {
    "duration": 33,
    "start_time": "2022-10-27T19:13:14.074Z"
   },
   {
    "duration": 70,
    "start_time": "2022-10-27T19:13:14.109Z"
   },
   {
    "duration": 113,
    "start_time": "2022-10-27T19:13:14.181Z"
   },
   {
    "duration": 13,
    "start_time": "2022-10-27T19:13:14.296Z"
   },
   {
    "duration": 195,
    "start_time": "2022-10-27T19:13:14.310Z"
   },
   {
    "duration": 24,
    "start_time": "2022-10-27T19:13:14.507Z"
   },
   {
    "duration": 2189,
    "start_time": "2022-10-27T19:13:14.533Z"
   },
   {
    "duration": 147,
    "start_time": "2022-10-27T19:13:16.724Z"
   },
   {
    "duration": 0,
    "start_time": "2022-10-27T19:13:16.873Z"
   },
   {
    "duration": 50,
    "start_time": "2022-10-27T19:13:37.188Z"
   },
   {
    "duration": 31,
    "start_time": "2022-10-27T19:13:45.789Z"
   },
   {
    "duration": 45,
    "start_time": "2022-10-27T19:13:52.236Z"
   },
   {
    "duration": 96,
    "start_time": "2022-10-27T19:13:54.833Z"
   },
   {
    "duration": 1314,
    "start_time": "2022-10-27T19:14:03.135Z"
   },
   {
    "duration": 279,
    "start_time": "2022-10-27T19:14:04.452Z"
   },
   {
    "duration": 44,
    "start_time": "2022-10-27T19:14:04.733Z"
   },
   {
    "duration": 17,
    "start_time": "2022-10-27T19:14:04.779Z"
   },
   {
    "duration": 37,
    "start_time": "2022-10-27T19:14:04.799Z"
   },
   {
    "duration": 92,
    "start_time": "2022-10-27T19:14:04.838Z"
   },
   {
    "duration": 103,
    "start_time": "2022-10-27T19:14:04.932Z"
   },
   {
    "duration": 176,
    "start_time": "2022-10-27T19:14:05.037Z"
   },
   {
    "duration": 26,
    "start_time": "2022-10-27T19:14:05.215Z"
   },
   {
    "duration": 30,
    "start_time": "2022-10-27T19:14:05.242Z"
   },
   {
    "duration": 19,
    "start_time": "2022-10-27T19:14:05.274Z"
   },
   {
    "duration": 52,
    "start_time": "2022-10-27T19:14:05.295Z"
   },
   {
    "duration": 6,
    "start_time": "2022-10-27T19:14:05.349Z"
   },
   {
    "duration": 53,
    "start_time": "2022-10-27T19:14:05.357Z"
   },
   {
    "duration": 702,
    "start_time": "2022-10-27T19:14:05.412Z"
   },
   {
    "duration": 35,
    "start_time": "2022-10-27T19:14:06.115Z"
   },
   {
    "duration": 712,
    "start_time": "2022-10-27T19:14:06.153Z"
   },
   {
    "duration": 42,
    "start_time": "2022-10-27T19:14:06.867Z"
   },
   {
    "duration": 67,
    "start_time": "2022-10-27T19:14:06.910Z"
   },
   {
    "duration": 51,
    "start_time": "2022-10-27T19:14:06.979Z"
   },
   {
    "duration": 48,
    "start_time": "2022-10-27T19:14:07.032Z"
   },
   {
    "duration": 107,
    "start_time": "2022-10-27T19:14:07.082Z"
   },
   {
    "duration": 12,
    "start_time": "2022-10-27T19:14:07.190Z"
   },
   {
    "duration": 174,
    "start_time": "2022-10-27T19:14:07.204Z"
   },
   {
    "duration": 19,
    "start_time": "2022-10-27T19:14:07.380Z"
   },
   {
    "duration": 2232,
    "start_time": "2022-10-27T19:14:07.401Z"
   },
   {
    "duration": 12,
    "start_time": "2022-10-27T19:14:09.634Z"
   },
   {
    "duration": 6,
    "start_time": "2022-10-27T19:14:09.648Z"
   },
   {
    "duration": 2212,
    "start_time": "2022-10-27T19:16:48.697Z"
   },
   {
    "duration": 12,
    "start_time": "2022-10-27T19:16:50.911Z"
   },
   {
    "duration": 5,
    "start_time": "2022-10-27T19:16:50.930Z"
   },
   {
    "duration": 105,
    "start_time": "2022-10-27T19:23:07.676Z"
   },
   {
    "duration": 10,
    "start_time": "2022-10-27T19:23:17.044Z"
   },
   {
    "duration": 22,
    "start_time": "2022-10-27T19:26:50.454Z"
   },
   {
    "duration": 7,
    "start_time": "2022-10-27T19:27:40.326Z"
   },
   {
    "duration": 67,
    "start_time": "2022-10-27T19:28:46.710Z"
   },
   {
    "duration": 10,
    "start_time": "2022-10-27T19:28:57.093Z"
   },
   {
    "duration": 31,
    "start_time": "2022-10-27T19:35:45.753Z"
   },
   {
    "duration": 9,
    "start_time": "2022-10-27T19:35:47.030Z"
   },
   {
    "duration": 10,
    "start_time": "2022-10-27T19:36:12.257Z"
   },
   {
    "duration": 5,
    "start_time": "2022-10-27T19:36:24.738Z"
   },
   {
    "duration": 35,
    "start_time": "2022-10-27T19:38:08.182Z"
   },
   {
    "duration": 68,
    "start_time": "2022-10-27T19:38:37.922Z"
   },
   {
    "duration": 58,
    "start_time": "2022-10-27T19:38:52.144Z"
   },
   {
    "duration": 66,
    "start_time": "2022-10-27T19:40:16.363Z"
   },
   {
    "duration": 31,
    "start_time": "2022-10-27T19:40:17.613Z"
   },
   {
    "duration": 6,
    "start_time": "2022-10-27T19:41:10.438Z"
   },
   {
    "duration": 59,
    "start_time": "2022-10-27T19:42:37.400Z"
   },
   {
    "duration": 7,
    "start_time": "2022-10-27T19:42:38.190Z"
   },
   {
    "duration": 1301,
    "start_time": "2022-10-27T19:45:25.142Z"
   },
   {
    "duration": 283,
    "start_time": "2022-10-27T19:45:26.446Z"
   },
   {
    "duration": 51,
    "start_time": "2022-10-27T19:45:26.731Z"
   },
   {
    "duration": 125,
    "start_time": "2022-10-27T19:45:26.783Z"
   },
   {
    "duration": 49,
    "start_time": "2022-10-27T19:45:26.910Z"
   },
   {
    "duration": 180,
    "start_time": "2022-10-27T19:45:26.961Z"
   },
   {
    "duration": 102,
    "start_time": "2022-10-27T19:45:27.143Z"
   },
   {
    "duration": 180,
    "start_time": "2022-10-27T19:45:27.246Z"
   },
   {
    "duration": 21,
    "start_time": "2022-10-27T19:45:27.430Z"
   },
   {
    "duration": 58,
    "start_time": "2022-10-27T19:45:27.453Z"
   },
   {
    "duration": 57,
    "start_time": "2022-10-27T19:45:27.513Z"
   },
   {
    "duration": 256,
    "start_time": "2022-10-27T19:45:27.572Z"
   },
   {
    "duration": 98,
    "start_time": "2022-10-27T19:45:27.830Z"
   },
   {
    "duration": 123,
    "start_time": "2022-10-27T19:45:27.930Z"
   },
   {
    "duration": 766,
    "start_time": "2022-10-27T19:45:28.056Z"
   },
   {
    "duration": 19,
    "start_time": "2022-10-27T19:45:28.823Z"
   },
   {
    "duration": 704,
    "start_time": "2022-10-27T19:45:28.844Z"
   },
   {
    "duration": 50,
    "start_time": "2022-10-27T19:45:29.550Z"
   },
   {
    "duration": 81,
    "start_time": "2022-10-27T19:45:29.602Z"
   },
   {
    "duration": 52,
    "start_time": "2022-10-27T19:45:29.685Z"
   },
   {
    "duration": 51,
    "start_time": "2022-10-27T19:45:29.739Z"
   },
   {
    "duration": 226,
    "start_time": "2022-10-27T19:45:29.791Z"
   },
   {
    "duration": 1359,
    "start_time": "2022-10-27T19:45:30.019Z"
   },
   {
    "duration": 1225,
    "start_time": "2022-10-27T19:45:31.380Z"
   },
   {
    "duration": 280,
    "start_time": "2022-10-27T19:45:32.606Z"
   },
   {
    "duration": 2299,
    "start_time": "2022-10-27T19:45:32.888Z"
   },
   {
    "duration": 13,
    "start_time": "2022-10-27T19:45:35.189Z"
   },
   {
    "duration": 6,
    "start_time": "2022-10-27T19:45:35.204Z"
   },
   {
    "duration": 77,
    "start_time": "2022-10-27T19:45:35.212Z"
   },
   {
    "duration": 5,
    "start_time": "2022-10-27T19:45:35.291Z"
   },
   {
    "duration": 19,
    "start_time": "2022-10-27T19:52:21.857Z"
   },
   {
    "duration": 79,
    "start_time": "2022-10-27T19:53:34.041Z"
   },
   {
    "duration": 90,
    "start_time": "2022-10-27T19:53:53.443Z"
   },
   {
    "duration": 89,
    "start_time": "2022-10-27T19:54:09.146Z"
   },
   {
    "duration": 1287,
    "start_time": "2022-10-27T19:54:20.708Z"
   },
   {
    "duration": 267,
    "start_time": "2022-10-27T19:54:21.997Z"
   },
   {
    "duration": 48,
    "start_time": "2022-10-27T19:54:22.266Z"
   },
   {
    "duration": 14,
    "start_time": "2022-10-27T19:54:22.315Z"
   },
   {
    "duration": 13,
    "start_time": "2022-10-27T19:54:22.331Z"
   },
   {
    "duration": 103,
    "start_time": "2022-10-27T19:54:22.346Z"
   },
   {
    "duration": 93,
    "start_time": "2022-10-27T19:54:22.451Z"
   },
   {
    "duration": 171,
    "start_time": "2022-10-27T19:54:22.546Z"
   },
   {
    "duration": 25,
    "start_time": "2022-10-27T19:54:22.718Z"
   },
   {
    "duration": 24,
    "start_time": "2022-10-27T19:54:22.745Z"
   },
   {
    "duration": 11,
    "start_time": "2022-10-27T19:54:22.771Z"
   },
   {
    "duration": 48,
    "start_time": "2022-10-27T19:54:22.783Z"
   },
   {
    "duration": 5,
    "start_time": "2022-10-27T19:54:22.832Z"
   },
   {
    "duration": 49,
    "start_time": "2022-10-27T19:54:22.839Z"
   },
   {
    "duration": 638,
    "start_time": "2022-10-27T19:54:22.890Z"
   },
   {
    "duration": 21,
    "start_time": "2022-10-27T19:54:23.530Z"
   },
   {
    "duration": 652,
    "start_time": "2022-10-27T19:54:23.553Z"
   },
   {
    "duration": 45,
    "start_time": "2022-10-27T19:54:24.207Z"
   },
   {
    "duration": 59,
    "start_time": "2022-10-27T19:54:24.253Z"
   },
   {
    "duration": 44,
    "start_time": "2022-10-27T19:54:24.314Z"
   },
   {
    "duration": 72,
    "start_time": "2022-10-27T19:54:24.360Z"
   },
   {
    "duration": 103,
    "start_time": "2022-10-27T19:54:24.434Z"
   },
   {
    "duration": 12,
    "start_time": "2022-10-27T19:54:24.539Z"
   },
   {
    "duration": 192,
    "start_time": "2022-10-27T19:54:24.553Z"
   },
   {
    "duration": 16,
    "start_time": "2022-10-27T19:54:24.747Z"
   },
   {
    "duration": 2144,
    "start_time": "2022-10-27T19:54:24.765Z"
   },
   {
    "duration": 19,
    "start_time": "2022-10-27T19:54:26.911Z"
   },
   {
    "duration": 6,
    "start_time": "2022-10-27T19:54:26.932Z"
   },
   {
    "duration": 60,
    "start_time": "2022-10-27T19:54:26.940Z"
   },
   {
    "duration": 5,
    "start_time": "2022-10-27T19:54:27.002Z"
   },
   {
    "duration": 134,
    "start_time": "2022-10-27T19:55:03.759Z"
   },
   {
    "duration": 60,
    "start_time": "2022-10-27T19:57:53.991Z"
   },
   {
    "duration": 60,
    "start_time": "2022-10-27T19:58:14.054Z"
   },
   {
    "duration": 61,
    "start_time": "2022-10-27T19:58:46.027Z"
   },
   {
    "duration": 32,
    "start_time": "2022-10-27T19:59:10.878Z"
   },
   {
    "duration": 35,
    "start_time": "2022-10-27T19:59:28.641Z"
   },
   {
    "duration": 46,
    "start_time": "2022-10-27T19:59:49.500Z"
   },
   {
    "duration": 72,
    "start_time": "2022-10-27T20:00:24.772Z"
   },
   {
    "duration": 84,
    "start_time": "2022-10-27T20:00:43.239Z"
   },
   {
    "duration": 101,
    "start_time": "2022-10-27T20:01:17.458Z"
   },
   {
    "duration": 12,
    "start_time": "2022-10-27T20:01:29.769Z"
   },
   {
    "duration": 161,
    "start_time": "2022-10-27T20:01:45.858Z"
   },
   {
    "duration": 15,
    "start_time": "2022-10-27T20:05:47.183Z"
   },
   {
    "duration": 1991,
    "start_time": "2022-10-27T20:06:59.561Z"
   },
   {
    "duration": 6,
    "start_time": "2022-10-27T20:07:21.922Z"
   },
   {
    "duration": 53,
    "start_time": "2022-10-27T20:07:36.993Z"
   },
   {
    "duration": 7,
    "start_time": "2022-10-27T20:07:51.834Z"
   },
   {
    "duration": 1231,
    "start_time": "2022-10-27T20:07:59.484Z"
   },
   {
    "duration": 267,
    "start_time": "2022-10-27T20:08:00.717Z"
   },
   {
    "duration": 45,
    "start_time": "2022-10-27T20:08:00.986Z"
   },
   {
    "duration": 16,
    "start_time": "2022-10-27T20:08:01.032Z"
   },
   {
    "duration": 27,
    "start_time": "2022-10-27T20:08:01.050Z"
   },
   {
    "duration": 90,
    "start_time": "2022-10-27T20:08:01.079Z"
   },
   {
    "duration": 93,
    "start_time": "2022-10-27T20:08:01.171Z"
   },
   {
    "duration": 165,
    "start_time": "2022-10-27T20:08:01.266Z"
   },
   {
    "duration": 18,
    "start_time": "2022-10-27T20:08:01.432Z"
   },
   {
    "duration": 47,
    "start_time": "2022-10-27T20:08:01.452Z"
   },
   {
    "duration": 55,
    "start_time": "2022-10-27T20:08:01.501Z"
   },
   {
    "duration": 37,
    "start_time": "2022-10-27T20:08:01.557Z"
   },
   {
    "duration": 30,
    "start_time": "2022-10-27T20:08:01.596Z"
   },
   {
    "duration": 58,
    "start_time": "2022-10-27T20:08:01.629Z"
   },
   {
    "duration": 595,
    "start_time": "2022-10-27T20:08:01.688Z"
   },
   {
    "duration": 19,
    "start_time": "2022-10-27T20:08:02.285Z"
   },
   {
    "duration": 627,
    "start_time": "2022-10-27T20:08:02.306Z"
   },
   {
    "duration": 41,
    "start_time": "2022-10-27T20:08:02.934Z"
   },
   {
    "duration": 69,
    "start_time": "2022-10-27T20:08:02.976Z"
   },
   {
    "duration": 30,
    "start_time": "2022-10-27T20:08:03.047Z"
   },
   {
    "duration": 70,
    "start_time": "2022-10-27T20:08:03.079Z"
   },
   {
    "duration": 96,
    "start_time": "2022-10-27T20:08:03.152Z"
   },
   {
    "duration": 11,
    "start_time": "2022-10-27T20:08:03.250Z"
   },
   {
    "duration": 173,
    "start_time": "2022-10-27T20:08:03.263Z"
   },
   {
    "duration": 13,
    "start_time": "2022-10-27T20:08:03.438Z"
   },
   {
    "duration": 2026,
    "start_time": "2022-10-27T20:08:03.453Z"
   },
   {
    "duration": 12,
    "start_time": "2022-10-27T20:08:05.482Z"
   },
   {
    "duration": 7,
    "start_time": "2022-10-27T20:08:05.496Z"
   },
   {
    "duration": 102,
    "start_time": "2022-10-27T20:08:05.504Z"
   },
   {
    "duration": 7,
    "start_time": "2022-10-27T20:08:05.608Z"
   },
   {
    "duration": 45,
    "start_time": "2022-10-28T15:51:07.541Z"
   },
   {
    "duration": 1219,
    "start_time": "2022-10-28T15:51:43.266Z"
   },
   {
    "duration": 596,
    "start_time": "2022-10-28T15:51:44.487Z"
   },
   {
    "duration": 39,
    "start_time": "2022-10-28T15:51:45.084Z"
   },
   {
    "duration": 14,
    "start_time": "2022-10-28T15:51:45.126Z"
   },
   {
    "duration": 13,
    "start_time": "2022-10-28T15:51:45.142Z"
   },
   {
    "duration": 90,
    "start_time": "2022-10-28T15:51:45.157Z"
   },
   {
    "duration": 89,
    "start_time": "2022-10-28T15:51:45.249Z"
   },
   {
    "duration": 150,
    "start_time": "2022-10-28T15:51:45.339Z"
   },
   {
    "duration": 18,
    "start_time": "2022-10-28T15:51:45.491Z"
   },
   {
    "duration": 22,
    "start_time": "2022-10-28T15:51:45.524Z"
   },
   {
    "duration": 10,
    "start_time": "2022-10-28T15:51:45.548Z"
   },
   {
    "duration": 21,
    "start_time": "2022-10-28T15:51:45.559Z"
   },
   {
    "duration": 4,
    "start_time": "2022-10-28T15:51:45.581Z"
   },
   {
    "duration": 73,
    "start_time": "2022-10-28T15:51:45.586Z"
   },
   {
    "duration": 563,
    "start_time": "2022-10-28T15:51:45.661Z"
   },
   {
    "duration": 16,
    "start_time": "2022-10-28T15:51:46.225Z"
   },
   {
    "duration": 556,
    "start_time": "2022-10-28T15:51:46.243Z"
   },
   {
    "duration": 41,
    "start_time": "2022-10-28T15:51:46.800Z"
   },
   {
    "duration": 48,
    "start_time": "2022-10-28T15:51:46.842Z"
   },
   {
    "duration": 44,
    "start_time": "2022-10-28T15:51:46.891Z"
   },
   {
    "duration": 39,
    "start_time": "2022-10-28T15:51:46.937Z"
   },
   {
    "duration": 100,
    "start_time": "2022-10-28T15:51:46.978Z"
   },
   {
    "duration": 13,
    "start_time": "2022-10-28T15:51:47.079Z"
   },
   {
    "duration": 153,
    "start_time": "2022-10-28T15:51:47.094Z"
   },
   {
    "duration": 13,
    "start_time": "2022-10-28T15:51:47.249Z"
   },
   {
    "duration": 1950,
    "start_time": "2022-10-28T15:51:47.263Z"
   },
   {
    "duration": 13,
    "start_time": "2022-10-28T15:51:49.215Z"
   },
   {
    "duration": 5,
    "start_time": "2022-10-28T15:51:49.231Z"
   },
   {
    "duration": 51,
    "start_time": "2022-10-28T15:51:49.237Z"
   },
   {
    "duration": 5,
    "start_time": "2022-10-28T15:51:49.290Z"
   },
   {
    "duration": 59,
    "start_time": "2022-10-28T15:51:49.297Z"
   },
   {
    "duration": 12,
    "start_time": "2022-10-28T15:53:52.544Z"
   },
   {
    "duration": 113,
    "start_time": "2022-10-28T16:00:59.608Z"
   },
   {
    "duration": 69,
    "start_time": "2022-10-28T16:01:13.443Z"
   },
   {
    "duration": 85,
    "start_time": "2022-10-28T16:01:16.575Z"
   },
   {
    "duration": 60,
    "start_time": "2022-10-28T16:01:37.869Z"
   },
   {
    "duration": 124,
    "start_time": "2022-10-28T16:03:26.969Z"
   },
   {
    "duration": 128,
    "start_time": "2022-10-28T16:03:37.634Z"
   },
   {
    "duration": 189,
    "start_time": "2022-10-28T16:03:42.765Z"
   },
   {
    "duration": 128,
    "start_time": "2022-10-28T16:03:56.416Z"
   },
   {
    "duration": 127,
    "start_time": "2022-10-28T16:04:01.038Z"
   },
   {
    "duration": 124,
    "start_time": "2022-10-28T16:04:13.545Z"
   },
   {
    "duration": 125,
    "start_time": "2022-10-28T16:04:18.651Z"
   },
   {
    "duration": 129,
    "start_time": "2022-10-28T16:04:32.771Z"
   },
   {
    "duration": 52,
    "start_time": "2022-10-28T16:07:04.705Z"
   },
   {
    "duration": 37,
    "start_time": "2022-10-28T16:07:20.588Z"
   },
   {
    "duration": 135,
    "start_time": "2022-10-28T16:07:27.505Z"
   },
   {
    "duration": 5,
    "start_time": "2022-10-28T16:07:47.665Z"
   },
   {
    "duration": 65,
    "start_time": "2022-10-28T16:10:47.778Z"
   },
   {
    "duration": 35,
    "start_time": "2022-10-28T16:13:43.683Z"
   },
   {
    "duration": 139,
    "start_time": "2022-10-28T16:13:50.974Z"
   },
   {
    "duration": 5,
    "start_time": "2022-10-28T16:13:59.106Z"
   },
   {
    "duration": 824,
    "start_time": "2022-10-28T16:16:02.407Z"
   },
   {
    "duration": 43,
    "start_time": "2022-10-28T16:16:43.023Z"
   },
   {
    "duration": 132,
    "start_time": "2022-10-28T16:16:51.773Z"
   },
   {
    "duration": 57,
    "start_time": "2022-10-28T16:20:52.642Z"
   },
   {
    "duration": 745,
    "start_time": "2022-10-28T16:21:35.590Z"
   },
   {
    "duration": 56,
    "start_time": "2022-10-28T16:21:54.796Z"
   },
   {
    "duration": 5,
    "start_time": "2022-10-28T16:21:55.459Z"
   },
   {
    "duration": 18,
    "start_time": "2022-10-28T16:22:37.463Z"
   },
   {
    "duration": 14,
    "start_time": "2022-10-28T16:23:20.190Z"
   },
   {
    "duration": 9,
    "start_time": "2022-10-28T16:23:35.742Z"
   },
   {
    "duration": 16,
    "start_time": "2022-10-28T16:23:43.944Z"
   },
   {
    "duration": 13,
    "start_time": "2022-10-28T16:24:11.357Z"
   },
   {
    "duration": 12,
    "start_time": "2022-10-28T16:24:20.460Z"
   },
   {
    "duration": 1116,
    "start_time": "2022-10-28T16:24:46.749Z"
   },
   {
    "duration": 246,
    "start_time": "2022-10-28T16:24:47.866Z"
   },
   {
    "duration": 41,
    "start_time": "2022-10-28T16:24:48.113Z"
   },
   {
    "duration": 13,
    "start_time": "2022-10-28T16:24:48.156Z"
   },
   {
    "duration": 13,
    "start_time": "2022-10-28T16:24:48.171Z"
   },
   {
    "duration": 95,
    "start_time": "2022-10-28T16:24:48.185Z"
   },
   {
    "duration": 92,
    "start_time": "2022-10-28T16:24:48.281Z"
   },
   {
    "duration": 154,
    "start_time": "2022-10-28T16:24:48.375Z"
   },
   {
    "duration": 18,
    "start_time": "2022-10-28T16:24:48.531Z"
   },
   {
    "duration": 22,
    "start_time": "2022-10-28T16:24:48.550Z"
   },
   {
    "duration": 10,
    "start_time": "2022-10-28T16:24:48.573Z"
   },
   {
    "duration": 42,
    "start_time": "2022-10-28T16:24:48.584Z"
   },
   {
    "duration": 21,
    "start_time": "2022-10-28T16:24:48.628Z"
   },
   {
    "duration": 52,
    "start_time": "2022-10-28T16:24:48.652Z"
   },
   {
    "duration": 641,
    "start_time": "2022-10-28T16:24:48.705Z"
   },
   {
    "duration": 18,
    "start_time": "2022-10-28T16:24:49.348Z"
   },
   {
    "duration": 567,
    "start_time": "2022-10-28T16:24:49.367Z"
   },
   {
    "duration": 36,
    "start_time": "2022-10-28T16:24:49.935Z"
   },
   {
    "duration": 67,
    "start_time": "2022-10-28T16:24:49.972Z"
   },
   {
    "duration": 26,
    "start_time": "2022-10-28T16:24:50.041Z"
   },
   {
    "duration": 62,
    "start_time": "2022-10-28T16:24:50.068Z"
   },
   {
    "duration": 95,
    "start_time": "2022-10-28T16:24:50.132Z"
   },
   {
    "duration": 10,
    "start_time": "2022-10-28T16:24:50.229Z"
   },
   {
    "duration": 160,
    "start_time": "2022-10-28T16:24:50.241Z"
   },
   {
    "duration": 20,
    "start_time": "2022-10-28T16:24:50.403Z"
   },
   {
    "duration": 1860,
    "start_time": "2022-10-28T16:24:50.425Z"
   },
   {
    "duration": 12,
    "start_time": "2022-10-28T16:24:52.286Z"
   },
   {
    "duration": 23,
    "start_time": "2022-10-28T16:24:52.299Z"
   },
   {
    "duration": 62,
    "start_time": "2022-10-28T16:24:52.324Z"
   },
   {
    "duration": 5,
    "start_time": "2022-10-28T16:24:52.388Z"
   },
   {
    "duration": 74,
    "start_time": "2022-10-28T16:24:52.394Z"
   },
   {
    "duration": 15,
    "start_time": "2022-10-28T16:24:52.469Z"
   },
   {
    "duration": 64,
    "start_time": "2022-10-28T16:24:52.486Z"
   },
   {
    "duration": 136,
    "start_time": "2022-10-28T16:24:52.552Z"
   },
   {
    "duration": 104,
    "start_time": "2022-10-28T16:24:52.689Z"
   },
   {
    "duration": 0,
    "start_time": "2022-10-28T16:24:52.795Z"
   },
   {
    "duration": 0,
    "start_time": "2022-10-28T16:24:52.796Z"
   },
   {
    "duration": 0,
    "start_time": "2022-10-28T16:24:52.798Z"
   },
   {
    "duration": 0,
    "start_time": "2022-10-28T16:24:52.799Z"
   },
   {
    "duration": 5,
    "start_time": "2022-10-28T16:25:03.944Z"
   },
   {
    "duration": 49,
    "start_time": "2022-10-28T16:25:07.298Z"
   },
   {
    "duration": 5,
    "start_time": "2022-10-28T16:25:07.860Z"
   },
   {
    "duration": 21,
    "start_time": "2022-10-28T16:25:08.411Z"
   },
   {
    "duration": 9,
    "start_time": "2022-10-28T16:25:11.044Z"
   },
   {
    "duration": 6,
    "start_time": "2022-10-28T16:25:55.670Z"
   },
   {
    "duration": 812,
    "start_time": "2022-10-28T16:27:28.998Z"
   },
   {
    "duration": 1172,
    "start_time": "2022-10-28T16:28:27.005Z"
   },
   {
    "duration": 243,
    "start_time": "2022-10-28T16:28:28.179Z"
   },
   {
    "duration": 43,
    "start_time": "2022-10-28T16:28:28.424Z"
   },
   {
    "duration": 14,
    "start_time": "2022-10-28T16:28:28.469Z"
   },
   {
    "duration": 13,
    "start_time": "2022-10-28T16:28:28.484Z"
   },
   {
    "duration": 72,
    "start_time": "2022-10-28T16:28:28.521Z"
   },
   {
    "duration": 105,
    "start_time": "2022-10-28T16:28:28.594Z"
   },
   {
    "duration": 154,
    "start_time": "2022-10-28T16:28:28.701Z"
   },
   {
    "duration": 22,
    "start_time": "2022-10-28T16:28:28.857Z"
   },
   {
    "duration": 50,
    "start_time": "2022-10-28T16:28:28.883Z"
   },
   {
    "duration": 15,
    "start_time": "2022-10-28T16:28:28.935Z"
   },
   {
    "duration": 33,
    "start_time": "2022-10-28T16:28:28.951Z"
   },
   {
    "duration": 10,
    "start_time": "2022-10-28T16:28:28.986Z"
   },
   {
    "duration": 73,
    "start_time": "2022-10-28T16:28:28.998Z"
   },
   {
    "duration": 557,
    "start_time": "2022-10-28T16:28:29.074Z"
   },
   {
    "duration": 16,
    "start_time": "2022-10-28T16:28:29.633Z"
   },
   {
    "duration": 571,
    "start_time": "2022-10-28T16:28:29.651Z"
   },
   {
    "duration": 36,
    "start_time": "2022-10-28T16:28:30.223Z"
   },
   {
    "duration": 65,
    "start_time": "2022-10-28T16:28:30.260Z"
   },
   {
    "duration": 27,
    "start_time": "2022-10-28T16:28:30.327Z"
   },
   {
    "duration": 53,
    "start_time": "2022-10-28T16:28:30.355Z"
   },
   {
    "duration": 93,
    "start_time": "2022-10-28T16:28:30.410Z"
   },
   {
    "duration": 21,
    "start_time": "2022-10-28T16:28:30.505Z"
   },
   {
    "duration": 189,
    "start_time": "2022-10-28T16:28:30.527Z"
   },
   {
    "duration": 14,
    "start_time": "2022-10-28T16:28:30.717Z"
   },
   {
    "duration": 1901,
    "start_time": "2022-10-28T16:28:30.732Z"
   },
   {
    "duration": 11,
    "start_time": "2022-10-28T16:28:32.634Z"
   },
   {
    "duration": 5,
    "start_time": "2022-10-28T16:28:32.648Z"
   },
   {
    "duration": 67,
    "start_time": "2022-10-28T16:28:32.655Z"
   },
   {
    "duration": 5,
    "start_time": "2022-10-28T16:28:32.724Z"
   },
   {
    "duration": 37,
    "start_time": "2022-10-28T16:28:32.731Z"
   },
   {
    "duration": 11,
    "start_time": "2022-10-28T16:28:32.770Z"
   },
   {
    "duration": 83,
    "start_time": "2022-10-28T16:28:32.783Z"
   },
   {
    "duration": 135,
    "start_time": "2022-10-28T16:28:32.868Z"
   },
   {
    "duration": 5,
    "start_time": "2022-10-28T16:28:33.005Z"
   },
   {
    "duration": 50,
    "start_time": "2022-10-28T16:28:33.021Z"
   },
   {
    "duration": 4,
    "start_time": "2022-10-28T16:28:33.073Z"
   },
   {
    "duration": 35,
    "start_time": "2022-10-28T16:28:33.078Z"
   },
   {
    "duration": 17,
    "start_time": "2022-10-28T16:28:33.114Z"
   },
   {
    "duration": 4,
    "start_time": "2022-10-28T16:29:20.359Z"
   },
   {
    "duration": 140,
    "start_time": "2022-10-28T16:30:09.118Z"
   },
   {
    "duration": 213,
    "start_time": "2022-10-28T16:30:19.560Z"
   },
   {
    "duration": 3,
    "start_time": "2022-10-28T16:30:20.812Z"
   },
   {
    "duration": 50,
    "start_time": "2022-10-28T16:30:21.849Z"
   },
   {
    "duration": 4,
    "start_time": "2022-10-28T16:30:22.046Z"
   },
   {
    "duration": 20,
    "start_time": "2022-10-28T16:30:22.257Z"
   },
   {
    "duration": 12,
    "start_time": "2022-10-28T16:30:22.481Z"
   },
   {
    "duration": 4,
    "start_time": "2022-10-28T16:30:22.779Z"
   },
   {
    "duration": 127,
    "start_time": "2022-10-28T16:30:23.691Z"
   },
   {
    "duration": 4,
    "start_time": "2022-10-28T16:30:38.322Z"
   },
   {
    "duration": 5,
    "start_time": "2022-10-28T16:30:44.857Z"
   },
   {
    "duration": 4,
    "start_time": "2022-10-28T16:30:53.455Z"
   },
   {
    "duration": 48,
    "start_time": "2022-10-28T16:34:11.868Z"
   },
   {
    "duration": 4,
    "start_time": "2022-10-28T16:34:41.255Z"
   },
   {
    "duration": 22,
    "start_time": "2022-10-28T16:35:24.872Z"
   },
   {
    "duration": 895,
    "start_time": "2022-10-28T16:36:01.805Z"
   },
   {
    "duration": 13,
    "start_time": "2022-10-28T16:36:08.033Z"
   },
   {
    "duration": 14,
    "start_time": "2022-10-28T16:36:38.251Z"
   },
   {
    "duration": 1126,
    "start_time": "2022-10-28T16:36:46.749Z"
   },
   {
    "duration": 236,
    "start_time": "2022-10-28T16:36:47.878Z"
   },
   {
    "duration": 41,
    "start_time": "2022-10-28T16:36:48.115Z"
   },
   {
    "duration": 13,
    "start_time": "2022-10-28T16:36:48.157Z"
   },
   {
    "duration": 14,
    "start_time": "2022-10-28T16:36:48.171Z"
   },
   {
    "duration": 93,
    "start_time": "2022-10-28T16:36:48.187Z"
   },
   {
    "duration": 84,
    "start_time": "2022-10-28T16:36:48.282Z"
   },
   {
    "duration": 147,
    "start_time": "2022-10-28T16:36:48.367Z"
   },
   {
    "duration": 18,
    "start_time": "2022-10-28T16:36:48.521Z"
   },
   {
    "duration": 21,
    "start_time": "2022-10-28T16:36:48.541Z"
   },
   {
    "duration": 10,
    "start_time": "2022-10-28T16:36:48.564Z"
   },
   {
    "duration": 20,
    "start_time": "2022-10-28T16:36:48.575Z"
   },
   {
    "duration": 28,
    "start_time": "2022-10-28T16:36:48.596Z"
   },
   {
    "duration": 45,
    "start_time": "2022-10-28T16:36:48.626Z"
   },
   {
    "duration": 640,
    "start_time": "2022-10-28T16:36:48.673Z"
   },
   {
    "duration": 21,
    "start_time": "2022-10-28T16:36:49.314Z"
   },
   {
    "duration": 588,
    "start_time": "2022-10-28T16:36:49.337Z"
   },
   {
    "duration": 36,
    "start_time": "2022-10-28T16:36:49.926Z"
   },
   {
    "duration": 64,
    "start_time": "2022-10-28T16:36:49.964Z"
   },
   {
    "duration": 26,
    "start_time": "2022-10-28T16:36:50.029Z"
   },
   {
    "duration": 40,
    "start_time": "2022-10-28T16:36:50.057Z"
   },
   {
    "duration": 100,
    "start_time": "2022-10-28T16:36:50.098Z"
   },
   {
    "duration": 23,
    "start_time": "2022-10-28T16:36:50.199Z"
   },
   {
    "duration": 141,
    "start_time": "2022-10-28T16:36:50.223Z"
   },
   {
    "duration": 12,
    "start_time": "2022-10-28T16:36:50.366Z"
   },
   {
    "duration": 1824,
    "start_time": "2022-10-28T16:36:50.380Z"
   },
   {
    "duration": 18,
    "start_time": "2022-10-28T16:36:52.206Z"
   },
   {
    "duration": 5,
    "start_time": "2022-10-28T16:36:52.226Z"
   },
   {
    "duration": 57,
    "start_time": "2022-10-28T16:36:52.233Z"
   },
   {
    "duration": 6,
    "start_time": "2022-10-28T16:36:52.292Z"
   },
   {
    "duration": 63,
    "start_time": "2022-10-28T16:36:52.300Z"
   },
   {
    "duration": 11,
    "start_time": "2022-10-28T16:36:52.365Z"
   },
   {
    "duration": 76,
    "start_time": "2022-10-28T16:36:52.377Z"
   },
   {
    "duration": 139,
    "start_time": "2022-10-28T16:36:52.455Z"
   },
   {
    "duration": 4,
    "start_time": "2022-10-28T16:36:52.596Z"
   },
   {
    "duration": 57,
    "start_time": "2022-10-28T16:36:52.601Z"
   },
   {
    "duration": 4,
    "start_time": "2022-10-28T16:36:52.660Z"
   },
   {
    "duration": 19,
    "start_time": "2022-10-28T16:36:52.666Z"
   },
   {
    "duration": 12,
    "start_time": "2022-10-28T16:36:52.687Z"
   },
   {
    "duration": 158,
    "start_time": "2022-10-28T16:36:52.700Z"
   },
   {
    "duration": 4,
    "start_time": "2022-10-28T16:36:52.861Z"
   },
   {
    "duration": 61,
    "start_time": "2022-10-28T16:36:52.867Z"
   },
   {
    "duration": 4,
    "start_time": "2022-10-28T16:36:52.929Z"
   },
   {
    "duration": 25,
    "start_time": "2022-10-28T16:36:52.935Z"
   },
   {
    "duration": 13,
    "start_time": "2022-10-28T16:36:52.961Z"
   },
   {
    "duration": 198,
    "start_time": "2022-10-28T16:37:24.798Z"
   },
   {
    "duration": 5,
    "start_time": "2022-10-28T16:37:48.014Z"
   },
   {
    "duration": 28,
    "start_time": "2022-10-28T16:38:53.954Z"
   },
   {
    "duration": 43,
    "start_time": "2022-10-28T16:38:55.348Z"
   },
   {
    "duration": 89,
    "start_time": "2022-10-28T16:38:56.093Z"
   },
   {
    "duration": 61,
    "start_time": "2022-10-28T16:43:16.284Z"
   },
   {
    "duration": 1083,
    "start_time": "2022-10-28T16:45:37.549Z"
   },
   {
    "duration": 9,
    "start_time": "2022-10-28T16:45:48.212Z"
   },
   {
    "duration": 116,
    "start_time": "2022-10-28T16:51:35.991Z"
   },
   {
    "duration": 143,
    "start_time": "2022-10-28T16:51:50.045Z"
   },
   {
    "duration": 152,
    "start_time": "2022-10-28T16:52:03.766Z"
   },
   {
    "duration": 234,
    "start_time": "2022-10-28T16:52:32.749Z"
   },
   {
    "duration": 44,
    "start_time": "2022-10-28T16:53:26.690Z"
   },
   {
    "duration": 9,
    "start_time": "2022-10-28T16:53:32.479Z"
   },
   {
    "duration": 249,
    "start_time": "2022-10-28T16:53:53.530Z"
   },
   {
    "duration": 10,
    "start_time": "2022-10-28T16:54:04.747Z"
   },
   {
    "duration": 279,
    "start_time": "2022-10-28T16:54:04.979Z"
   },
   {
    "duration": 9,
    "start_time": "2022-10-28T16:54:46.244Z"
   },
   {
    "duration": 263,
    "start_time": "2022-10-28T16:55:06.193Z"
   },
   {
    "duration": 10,
    "start_time": "2022-10-28T16:58:29.329Z"
   },
   {
    "duration": 267,
    "start_time": "2022-10-28T16:58:30.001Z"
   },
   {
    "duration": 10,
    "start_time": "2022-10-28T16:58:31.044Z"
   },
   {
    "duration": 223,
    "start_time": "2022-10-28T16:58:31.749Z"
   },
   {
    "duration": 9,
    "start_time": "2022-10-28T16:58:32.779Z"
   },
   {
    "duration": 261,
    "start_time": "2022-10-28T16:58:33.287Z"
   },
   {
    "duration": 1165,
    "start_time": "2022-10-28T16:58:54.894Z"
   },
   {
    "duration": 236,
    "start_time": "2022-10-28T16:58:56.061Z"
   },
   {
    "duration": 39,
    "start_time": "2022-10-28T16:58:56.299Z"
   },
   {
    "duration": 14,
    "start_time": "2022-10-28T16:58:56.339Z"
   },
   {
    "duration": 20,
    "start_time": "2022-10-28T16:58:56.355Z"
   },
   {
    "duration": 84,
    "start_time": "2022-10-28T16:58:56.376Z"
   },
   {
    "duration": 81,
    "start_time": "2022-10-28T16:58:56.462Z"
   },
   {
    "duration": 151,
    "start_time": "2022-10-28T16:58:56.544Z"
   },
   {
    "duration": 26,
    "start_time": "2022-10-28T16:58:56.697Z"
   },
   {
    "duration": 22,
    "start_time": "2022-10-28T16:58:56.724Z"
   },
   {
    "duration": 10,
    "start_time": "2022-10-28T16:58:56.747Z"
   },
   {
    "duration": 21,
    "start_time": "2022-10-28T16:58:56.759Z"
   },
   {
    "duration": 7,
    "start_time": "2022-10-28T16:58:56.782Z"
   },
   {
    "duration": 65,
    "start_time": "2022-10-28T16:58:56.792Z"
   },
   {
    "duration": 554,
    "start_time": "2022-10-28T16:58:56.859Z"
   },
   {
    "duration": 17,
    "start_time": "2022-10-28T16:58:57.421Z"
   },
   {
    "duration": 575,
    "start_time": "2022-10-28T16:58:57.440Z"
   },
   {
    "duration": 38,
    "start_time": "2022-10-28T16:58:58.017Z"
   },
   {
    "duration": 50,
    "start_time": "2022-10-28T16:58:58.056Z"
   },
   {
    "duration": 40,
    "start_time": "2022-10-28T16:58:58.108Z"
   },
   {
    "duration": 40,
    "start_time": "2022-10-28T16:58:58.149Z"
   },
   {
    "duration": 104,
    "start_time": "2022-10-28T16:58:58.190Z"
   },
   {
    "duration": 9,
    "start_time": "2022-10-28T16:58:58.296Z"
   },
   {
    "duration": 153,
    "start_time": "2022-10-28T16:58:58.307Z"
   },
   {
    "duration": 12,
    "start_time": "2022-10-28T16:58:58.462Z"
   },
   {
    "duration": 1939,
    "start_time": "2022-10-28T16:58:58.475Z"
   },
   {
    "duration": 13,
    "start_time": "2022-10-28T16:59:00.415Z"
   },
   {
    "duration": 11,
    "start_time": "2022-10-28T16:59:00.430Z"
   },
   {
    "duration": 68,
    "start_time": "2022-10-28T16:59:00.443Z"
   },
   {
    "duration": 5,
    "start_time": "2022-10-28T16:59:00.513Z"
   },
   {
    "duration": 62,
    "start_time": "2022-10-28T16:59:00.519Z"
   },
   {
    "duration": 11,
    "start_time": "2022-10-28T16:59:00.582Z"
   },
   {
    "duration": 86,
    "start_time": "2022-10-28T16:59:00.594Z"
   },
   {
    "duration": 133,
    "start_time": "2022-10-28T16:59:00.682Z"
   },
   {
    "duration": 7,
    "start_time": "2022-10-28T16:59:00.816Z"
   },
   {
    "duration": 71,
    "start_time": "2022-10-28T16:59:00.824Z"
   },
   {
    "duration": 3,
    "start_time": "2022-10-28T16:59:00.897Z"
   },
   {
    "duration": 54,
    "start_time": "2022-10-28T16:59:00.902Z"
   },
   {
    "duration": 17,
    "start_time": "2022-10-28T16:59:00.957Z"
   },
   {
    "duration": 141,
    "start_time": "2022-10-28T16:59:00.975Z"
   },
   {
    "duration": 5,
    "start_time": "2022-10-28T16:59:01.119Z"
   },
   {
    "duration": 64,
    "start_time": "2022-10-28T16:59:01.125Z"
   },
   {
    "duration": 4,
    "start_time": "2022-10-28T16:59:01.190Z"
   },
   {
    "duration": 54,
    "start_time": "2022-10-28T16:59:01.195Z"
   },
   {
    "duration": 25,
    "start_time": "2022-10-28T16:59:01.250Z"
   },
   {
    "duration": 240,
    "start_time": "2022-10-28T16:59:01.277Z"
   },
   {
    "duration": 5,
    "start_time": "2022-10-28T16:59:01.518Z"
   },
   {
    "duration": 63,
    "start_time": "2022-10-28T16:59:01.525Z"
   },
   {
    "duration": 318,
    "start_time": "2022-10-28T16:59:01.589Z"
   },
   {
    "duration": 16,
    "start_time": "2022-10-28T16:59:01.908Z"
   },
   {
    "duration": 256,
    "start_time": "2022-10-28T16:59:01.926Z"
   },
   {
    "duration": 9,
    "start_time": "2022-10-28T16:59:02.184Z"
   },
   {
    "duration": 279,
    "start_time": "2022-10-28T16:59:02.195Z"
   },
   {
    "duration": 11,
    "start_time": "2022-10-28T17:38:33.554Z"
   },
   {
    "duration": 12,
    "start_time": "2022-10-28T17:38:57.143Z"
   },
   {
    "duration": 12,
    "start_time": "2022-10-28T17:39:14.764Z"
   },
   {
    "duration": 13,
    "start_time": "2022-10-28T17:41:00.645Z"
   },
   {
    "duration": 11,
    "start_time": "2022-10-28T17:41:08.781Z"
   },
   {
    "duration": 74,
    "start_time": "2022-10-28T17:41:17.444Z"
   },
   {
    "duration": 11,
    "start_time": "2022-10-28T17:41:22.348Z"
   },
   {
    "duration": 13,
    "start_time": "2022-10-28T17:41:31.009Z"
   },
   {
    "duration": 13,
    "start_time": "2022-10-28T17:41:50.143Z"
   },
   {
    "duration": 256,
    "start_time": "2022-10-28T17:41:52.826Z"
   },
   {
    "duration": 12,
    "start_time": "2022-10-28T17:42:07.364Z"
   },
   {
    "duration": 12,
    "start_time": "2022-10-28T17:42:26.676Z"
   },
   {
    "duration": 91,
    "start_time": "2022-10-28T17:42:53.844Z"
   },
   {
    "duration": 13,
    "start_time": "2022-10-28T17:43:12.405Z"
   },
   {
    "duration": 1105,
    "start_time": "2022-10-28T17:43:19.761Z"
   },
   {
    "duration": 247,
    "start_time": "2022-10-28T17:43:20.868Z"
   },
   {
    "duration": 42,
    "start_time": "2022-10-28T17:43:21.117Z"
   },
   {
    "duration": 15,
    "start_time": "2022-10-28T17:43:21.161Z"
   },
   {
    "duration": 14,
    "start_time": "2022-10-28T17:43:21.179Z"
   },
   {
    "duration": 77,
    "start_time": "2022-10-28T17:43:21.222Z"
   },
   {
    "duration": 87,
    "start_time": "2022-10-28T17:43:21.300Z"
   },
   {
    "duration": 150,
    "start_time": "2022-10-28T17:43:21.388Z"
   },
   {
    "duration": 17,
    "start_time": "2022-10-28T17:43:21.540Z"
   },
   {
    "duration": 23,
    "start_time": "2022-10-28T17:43:21.559Z"
   },
   {
    "duration": 10,
    "start_time": "2022-10-28T17:43:21.583Z"
   },
   {
    "duration": 37,
    "start_time": "2022-10-28T17:43:21.595Z"
   },
   {
    "duration": 3,
    "start_time": "2022-10-28T17:43:21.634Z"
   },
   {
    "duration": 44,
    "start_time": "2022-10-28T17:43:21.640Z"
   },
   {
    "duration": 580,
    "start_time": "2022-10-28T17:43:21.686Z"
   },
   {
    "duration": 17,
    "start_time": "2022-10-28T17:43:22.267Z"
   },
   {
    "duration": 574,
    "start_time": "2022-10-28T17:43:22.286Z"
   },
   {
    "duration": 36,
    "start_time": "2022-10-28T17:43:22.861Z"
   },
   {
    "duration": 64,
    "start_time": "2022-10-28T17:43:22.899Z"
   },
   {
    "duration": 28,
    "start_time": "2022-10-28T17:43:22.965Z"
   },
   {
    "duration": 69,
    "start_time": "2022-10-28T17:43:22.994Z"
   },
   {
    "duration": 98,
    "start_time": "2022-10-28T17:43:23.064Z"
   },
   {
    "duration": 11,
    "start_time": "2022-10-28T17:43:23.163Z"
   },
   {
    "duration": 154,
    "start_time": "2022-10-28T17:43:23.175Z"
   },
   {
    "duration": 14,
    "start_time": "2022-10-28T17:43:23.332Z"
   },
   {
    "duration": 1897,
    "start_time": "2022-10-28T17:43:23.348Z"
   },
   {
    "duration": 11,
    "start_time": "2022-10-28T17:43:25.247Z"
   },
   {
    "duration": 11,
    "start_time": "2022-10-28T17:43:25.259Z"
   },
   {
    "duration": 65,
    "start_time": "2022-10-28T17:43:25.271Z"
   },
   {
    "duration": 6,
    "start_time": "2022-10-28T17:43:25.337Z"
   },
   {
    "duration": 51,
    "start_time": "2022-10-28T17:43:25.344Z"
   },
   {
    "duration": 11,
    "start_time": "2022-10-28T17:43:25.397Z"
   },
   {
    "duration": 71,
    "start_time": "2022-10-28T17:43:25.410Z"
   },
   {
    "duration": 142,
    "start_time": "2022-10-28T17:43:25.483Z"
   },
   {
    "duration": 4,
    "start_time": "2022-10-28T17:43:25.626Z"
   },
   {
    "duration": 59,
    "start_time": "2022-10-28T17:43:25.631Z"
   },
   {
    "duration": 4,
    "start_time": "2022-10-28T17:43:25.691Z"
   },
   {
    "duration": 46,
    "start_time": "2022-10-28T17:43:25.696Z"
   },
   {
    "duration": 12,
    "start_time": "2022-10-28T17:43:25.743Z"
   },
   {
    "duration": 139,
    "start_time": "2022-10-28T17:43:25.756Z"
   },
   {
    "duration": 4,
    "start_time": "2022-10-28T17:43:25.898Z"
   },
   {
    "duration": 61,
    "start_time": "2022-10-28T17:43:25.903Z"
   },
   {
    "duration": 3,
    "start_time": "2022-10-28T17:43:25.966Z"
   },
   {
    "duration": 21,
    "start_time": "2022-10-28T17:43:25.970Z"
   },
   {
    "duration": 11,
    "start_time": "2022-10-28T17:43:25.992Z"
   },
   {
    "duration": 211,
    "start_time": "2022-10-28T17:43:26.004Z"
   },
   {
    "duration": 4,
    "start_time": "2022-10-28T17:43:26.221Z"
   },
   {
    "duration": 14,
    "start_time": "2022-10-28T17:43:26.227Z"
   },
   {
    "duration": 206,
    "start_time": "2022-10-28T17:43:26.242Z"
   },
   {
    "duration": 0,
    "start_time": "2022-10-28T17:43:26.450Z"
   },
   {
    "duration": 0,
    "start_time": "2022-10-28T17:43:26.451Z"
   },
   {
    "duration": 0,
    "start_time": "2022-10-28T17:43:26.454Z"
   },
   {
    "duration": 0,
    "start_time": "2022-10-28T17:43:26.455Z"
   },
   {
    "duration": 767,
    "start_time": "2022-10-28T17:44:05.471Z"
   },
   {
    "duration": 13,
    "start_time": "2022-10-28T17:44:11.868Z"
   },
   {
    "duration": 267,
    "start_time": "2022-10-28T17:44:49.390Z"
   },
   {
    "duration": 1217,
    "start_time": "2022-10-28T17:45:16.900Z"
   },
   {
    "duration": 230,
    "start_time": "2022-10-28T17:45:18.118Z"
   },
   {
    "duration": 40,
    "start_time": "2022-10-28T17:45:18.349Z"
   },
   {
    "duration": 13,
    "start_time": "2022-10-28T17:45:18.391Z"
   },
   {
    "duration": 17,
    "start_time": "2022-10-28T17:45:18.406Z"
   },
   {
    "duration": 71,
    "start_time": "2022-10-28T17:45:18.425Z"
   },
   {
    "duration": 89,
    "start_time": "2022-10-28T17:45:18.497Z"
   },
   {
    "duration": 142,
    "start_time": "2022-10-28T17:45:18.588Z"
   },
   {
    "duration": 17,
    "start_time": "2022-10-28T17:45:18.732Z"
   },
   {
    "duration": 20,
    "start_time": "2022-10-28T17:45:18.751Z"
   },
   {
    "duration": 9,
    "start_time": "2022-10-28T17:45:18.773Z"
   },
   {
    "duration": 40,
    "start_time": "2022-10-28T17:45:18.784Z"
   },
   {
    "duration": 4,
    "start_time": "2022-10-28T17:45:18.826Z"
   },
   {
    "duration": 44,
    "start_time": "2022-10-28T17:45:18.832Z"
   },
   {
    "duration": 630,
    "start_time": "2022-10-28T17:45:18.878Z"
   },
   {
    "duration": 20,
    "start_time": "2022-10-28T17:45:19.509Z"
   },
   {
    "duration": 568,
    "start_time": "2022-10-28T17:45:19.531Z"
   },
   {
    "duration": 48,
    "start_time": "2022-10-28T17:45:20.100Z"
   },
   {
    "duration": 54,
    "start_time": "2022-10-28T17:45:20.149Z"
   },
   {
    "duration": 28,
    "start_time": "2022-10-28T17:45:20.222Z"
   },
   {
    "duration": 42,
    "start_time": "2022-10-28T17:45:20.252Z"
   },
   {
    "duration": 98,
    "start_time": "2022-10-28T17:45:20.295Z"
   },
   {
    "duration": 27,
    "start_time": "2022-10-28T17:45:20.395Z"
   },
   {
    "duration": 146,
    "start_time": "2022-10-28T17:45:20.423Z"
   },
   {
    "duration": 13,
    "start_time": "2022-10-28T17:45:20.570Z"
   },
   {
    "duration": 1793,
    "start_time": "2022-10-28T17:45:20.585Z"
   },
   {
    "duration": 11,
    "start_time": "2022-10-28T17:45:22.379Z"
   },
   {
    "duration": 5,
    "start_time": "2022-10-28T17:45:22.391Z"
   },
   {
    "duration": 65,
    "start_time": "2022-10-28T17:45:22.398Z"
   },
   {
    "duration": 6,
    "start_time": "2022-10-28T17:45:22.464Z"
   },
   {
    "duration": 51,
    "start_time": "2022-10-28T17:45:22.471Z"
   },
   {
    "duration": 11,
    "start_time": "2022-10-28T17:45:22.523Z"
   },
   {
    "duration": 60,
    "start_time": "2022-10-28T17:45:22.535Z"
   },
   {
    "duration": 146,
    "start_time": "2022-10-28T17:45:22.597Z"
   },
   {
    "duration": 4,
    "start_time": "2022-10-28T17:45:22.745Z"
   },
   {
    "duration": 60,
    "start_time": "2022-10-28T17:45:22.751Z"
   },
   {
    "duration": 9,
    "start_time": "2022-10-28T17:45:22.813Z"
   },
   {
    "duration": 30,
    "start_time": "2022-10-28T17:45:22.824Z"
   },
   {
    "duration": 21,
    "start_time": "2022-10-28T17:45:22.856Z"
   },
   {
    "duration": 140,
    "start_time": "2022-10-28T17:45:22.879Z"
   },
   {
    "duration": 3,
    "start_time": "2022-10-28T17:45:23.024Z"
   },
   {
    "duration": 69,
    "start_time": "2022-10-28T17:45:23.029Z"
   },
   {
    "duration": 4,
    "start_time": "2022-10-28T17:45:23.099Z"
   },
   {
    "duration": 36,
    "start_time": "2022-10-28T17:45:23.104Z"
   },
   {
    "duration": 11,
    "start_time": "2022-10-28T17:45:23.142Z"
   },
   {
    "duration": 213,
    "start_time": "2022-10-28T17:45:23.155Z"
   },
   {
    "duration": 4,
    "start_time": "2022-10-28T17:45:23.370Z"
   },
   {
    "duration": 13,
    "start_time": "2022-10-28T17:45:23.376Z"
   },
   {
    "duration": 285,
    "start_time": "2022-10-28T17:45:23.391Z"
   },
   {
    "duration": 11,
    "start_time": "2022-10-28T17:45:23.678Z"
   },
   {
    "duration": 287,
    "start_time": "2022-10-28T17:45:23.691Z"
   },
   {
    "duration": 13,
    "start_time": "2022-10-28T17:45:23.979Z"
   },
   {
    "duration": 274,
    "start_time": "2022-10-28T17:45:23.993Z"
   },
   {
    "duration": 1164,
    "start_time": "2022-10-28T18:38:33.708Z"
   },
   {
    "duration": 316,
    "start_time": "2022-10-28T18:38:34.874Z"
   },
   {
    "duration": 44,
    "start_time": "2022-10-28T18:38:35.191Z"
   },
   {
    "duration": 14,
    "start_time": "2022-10-28T18:38:35.237Z"
   },
   {
    "duration": 17,
    "start_time": "2022-10-28T18:38:35.253Z"
   },
   {
    "duration": 100,
    "start_time": "2022-10-28T18:38:35.272Z"
   },
   {
    "duration": 87,
    "start_time": "2022-10-28T18:38:35.374Z"
   },
   {
    "duration": 168,
    "start_time": "2022-10-28T18:38:35.463Z"
   },
   {
    "duration": 24,
    "start_time": "2022-10-28T18:38:35.633Z"
   },
   {
    "duration": 41,
    "start_time": "2022-10-28T18:38:35.659Z"
   },
   {
    "duration": 27,
    "start_time": "2022-10-28T18:38:35.701Z"
   },
   {
    "duration": 50,
    "start_time": "2022-10-28T18:38:35.730Z"
   },
   {
    "duration": 6,
    "start_time": "2022-10-28T18:38:35.781Z"
   },
   {
    "duration": 72,
    "start_time": "2022-10-28T18:38:35.791Z"
   },
   {
    "duration": 598,
    "start_time": "2022-10-28T18:38:35.865Z"
   },
   {
    "duration": 17,
    "start_time": "2022-10-28T18:38:36.464Z"
   },
   {
    "duration": 583,
    "start_time": "2022-10-28T18:38:36.483Z"
   },
   {
    "duration": 65,
    "start_time": "2022-10-28T18:38:37.069Z"
   },
   {
    "duration": 88,
    "start_time": "2022-10-28T18:38:37.136Z"
   },
   {
    "duration": 32,
    "start_time": "2022-10-28T18:38:37.227Z"
   },
   {
    "duration": 41,
    "start_time": "2022-10-28T18:38:37.261Z"
   },
   {
    "duration": 96,
    "start_time": "2022-10-28T18:38:37.303Z"
   },
   {
    "duration": 24,
    "start_time": "2022-10-28T18:38:37.400Z"
   },
   {
    "duration": 166,
    "start_time": "2022-10-28T18:38:37.425Z"
   },
   {
    "duration": 13,
    "start_time": "2022-10-28T18:38:37.593Z"
   },
   {
    "duration": 1981,
    "start_time": "2022-10-28T18:38:37.621Z"
   },
   {
    "duration": 13,
    "start_time": "2022-10-28T18:38:39.603Z"
   },
   {
    "duration": 7,
    "start_time": "2022-10-28T18:38:39.622Z"
   },
   {
    "duration": 54,
    "start_time": "2022-10-28T18:38:39.630Z"
   },
   {
    "duration": 5,
    "start_time": "2022-10-28T18:38:39.686Z"
   },
   {
    "duration": 77,
    "start_time": "2022-10-28T18:38:39.694Z"
   },
   {
    "duration": 12,
    "start_time": "2022-10-28T18:38:39.773Z"
   },
   {
    "duration": 82,
    "start_time": "2022-10-28T18:38:39.787Z"
   },
   {
    "duration": 151,
    "start_time": "2022-10-28T18:38:39.870Z"
   },
   {
    "duration": 5,
    "start_time": "2022-10-28T18:38:40.022Z"
   },
   {
    "duration": 74,
    "start_time": "2022-10-28T18:38:40.029Z"
   },
   {
    "duration": 19,
    "start_time": "2022-10-28T18:38:40.105Z"
   },
   {
    "duration": 27,
    "start_time": "2022-10-28T18:38:40.125Z"
   },
   {
    "duration": 15,
    "start_time": "2022-10-28T18:38:40.154Z"
   },
   {
    "duration": 158,
    "start_time": "2022-10-28T18:38:40.170Z"
   },
   {
    "duration": 4,
    "start_time": "2022-10-28T18:38:40.331Z"
   },
   {
    "duration": 54,
    "start_time": "2022-10-28T18:38:40.337Z"
   },
   {
    "duration": 3,
    "start_time": "2022-10-28T18:38:40.393Z"
   },
   {
    "duration": 40,
    "start_time": "2022-10-28T18:38:40.398Z"
   },
   {
    "duration": 12,
    "start_time": "2022-10-28T18:38:40.439Z"
   },
   {
    "duration": 237,
    "start_time": "2022-10-28T18:38:40.452Z"
   },
   {
    "duration": 5,
    "start_time": "2022-10-28T18:38:40.691Z"
   },
   {
    "duration": 28,
    "start_time": "2022-10-28T18:38:40.698Z"
   },
   {
    "duration": 276,
    "start_time": "2022-10-28T18:38:40.727Z"
   },
   {
    "duration": 20,
    "start_time": "2022-10-28T18:38:41.004Z"
   },
   {
    "duration": 272,
    "start_time": "2022-10-28T18:38:41.025Z"
   },
   {
    "duration": 24,
    "start_time": "2022-10-28T18:38:41.299Z"
   },
   {
    "duration": 280,
    "start_time": "2022-10-28T18:38:41.324Z"
   },
   {
    "duration": 35,
    "start_time": "2022-10-28T18:42:39.795Z"
   },
   {
    "duration": 50,
    "start_time": "2022-10-28T18:43:15.977Z"
   },
   {
    "duration": 5,
    "start_time": "2022-10-28T18:43:19.051Z"
   },
   {
    "duration": 21,
    "start_time": "2022-10-28T18:43:20.269Z"
   },
   {
    "duration": 49,
    "start_time": "2022-10-28T18:43:49.908Z"
   },
   {
    "duration": 4,
    "start_time": "2022-10-28T18:43:51.114Z"
   },
   {
    "duration": 21,
    "start_time": "2022-10-28T18:43:51.645Z"
   },
   {
    "duration": 15,
    "start_time": "2022-10-28T18:43:56.323Z"
   },
   {
    "duration": 1158,
    "start_time": "2022-10-28T18:44:27.213Z"
   },
   {
    "duration": 247,
    "start_time": "2022-10-28T18:44:28.373Z"
   },
   {
    "duration": 41,
    "start_time": "2022-10-28T18:44:28.622Z"
   },
   {
    "duration": 15,
    "start_time": "2022-10-28T18:44:28.665Z"
   },
   {
    "duration": 12,
    "start_time": "2022-10-28T18:44:28.682Z"
   },
   {
    "duration": 96,
    "start_time": "2022-10-28T18:44:28.696Z"
   },
   {
    "duration": 107,
    "start_time": "2022-10-28T18:44:28.794Z"
   },
   {
    "duration": 195,
    "start_time": "2022-10-28T18:44:28.904Z"
   },
   {
    "duration": 34,
    "start_time": "2022-10-28T18:44:29.101Z"
   },
   {
    "duration": 26,
    "start_time": "2022-10-28T18:44:29.137Z"
   },
   {
    "duration": 10,
    "start_time": "2022-10-28T18:44:29.165Z"
   },
   {
    "duration": 18,
    "start_time": "2022-10-28T18:44:29.176Z"
   },
   {
    "duration": 27,
    "start_time": "2022-10-28T18:44:29.196Z"
   },
   {
    "duration": 45,
    "start_time": "2022-10-28T18:44:29.226Z"
   },
   {
    "duration": 570,
    "start_time": "2022-10-28T18:44:29.272Z"
   },
   {
    "duration": 17,
    "start_time": "2022-10-28T18:44:29.843Z"
   },
   {
    "duration": 572,
    "start_time": "2022-10-28T18:44:29.861Z"
   },
   {
    "duration": 36,
    "start_time": "2022-10-28T18:44:30.434Z"
   },
   {
    "duration": 63,
    "start_time": "2022-10-28T18:44:30.472Z"
   },
   {
    "duration": 25,
    "start_time": "2022-10-28T18:44:30.536Z"
   },
   {
    "duration": 60,
    "start_time": "2022-10-28T18:44:30.563Z"
   },
   {
    "duration": 79,
    "start_time": "2022-10-28T18:44:30.624Z"
   },
   {
    "duration": 27,
    "start_time": "2022-10-28T18:44:30.705Z"
   },
   {
    "duration": 153,
    "start_time": "2022-10-28T18:44:30.734Z"
   },
   {
    "duration": 14,
    "start_time": "2022-10-28T18:44:30.889Z"
   },
   {
    "duration": 1866,
    "start_time": "2022-10-28T18:44:30.904Z"
   },
   {
    "duration": 10,
    "start_time": "2022-10-28T18:44:32.771Z"
   },
   {
    "duration": 8,
    "start_time": "2022-10-28T18:44:32.783Z"
   },
   {
    "duration": 62,
    "start_time": "2022-10-28T18:44:32.792Z"
   },
   {
    "duration": 5,
    "start_time": "2022-10-28T18:44:32.855Z"
   },
   {
    "duration": 44,
    "start_time": "2022-10-28T18:44:32.861Z"
   },
   {
    "duration": 17,
    "start_time": "2022-10-28T18:44:32.906Z"
   },
   {
    "duration": 73,
    "start_time": "2022-10-28T18:44:32.924Z"
   },
   {
    "duration": 143,
    "start_time": "2022-10-28T18:44:32.999Z"
   },
   {
    "duration": 4,
    "start_time": "2022-10-28T18:44:33.143Z"
   },
   {
    "duration": 56,
    "start_time": "2022-10-28T18:44:33.148Z"
   },
   {
    "duration": 18,
    "start_time": "2022-10-28T18:44:33.205Z"
   },
   {
    "duration": 23,
    "start_time": "2022-10-28T18:44:33.224Z"
   },
   {
    "duration": 11,
    "start_time": "2022-10-28T18:44:33.248Z"
   },
   {
    "duration": 141,
    "start_time": "2022-10-28T18:44:33.261Z"
   },
   {
    "duration": 4,
    "start_time": "2022-10-28T18:44:33.405Z"
   },
   {
    "duration": 58,
    "start_time": "2022-10-28T18:44:33.411Z"
   },
   {
    "duration": 3,
    "start_time": "2022-10-28T18:44:33.471Z"
   },
   {
    "duration": 29,
    "start_time": "2022-10-28T18:44:33.476Z"
   },
   {
    "duration": 22,
    "start_time": "2022-10-28T18:44:33.506Z"
   },
   {
    "duration": 210,
    "start_time": "2022-10-28T18:44:33.529Z"
   },
   {
    "duration": 4,
    "start_time": "2022-10-28T18:44:33.741Z"
   },
   {
    "duration": 24,
    "start_time": "2022-10-28T18:44:33.747Z"
   },
   {
    "duration": 265,
    "start_time": "2022-10-28T18:44:33.772Z"
   },
   {
    "duration": 12,
    "start_time": "2022-10-28T18:44:34.038Z"
   },
   {
    "duration": 235,
    "start_time": "2022-10-28T18:44:34.051Z"
   },
   {
    "duration": 13,
    "start_time": "2022-10-28T18:44:34.288Z"
   },
   {
    "duration": 277,
    "start_time": "2022-10-28T18:44:34.303Z"
   },
   {
    "duration": 1159,
    "start_time": "2022-10-28T18:47:39.512Z"
   },
   {
    "duration": 239,
    "start_time": "2022-10-28T18:47:40.672Z"
   },
   {
    "duration": 41,
    "start_time": "2022-10-28T18:47:40.912Z"
   },
   {
    "duration": 15,
    "start_time": "2022-10-28T18:47:40.955Z"
   },
   {
    "duration": 16,
    "start_time": "2022-10-28T18:47:40.972Z"
   },
   {
    "duration": 95,
    "start_time": "2022-10-28T18:47:40.989Z"
   },
   {
    "duration": 86,
    "start_time": "2022-10-28T18:47:41.085Z"
   },
   {
    "duration": 156,
    "start_time": "2022-10-28T18:47:41.172Z"
   },
   {
    "duration": 17,
    "start_time": "2022-10-28T18:47:41.330Z"
   },
   {
    "duration": 29,
    "start_time": "2022-10-28T18:47:41.348Z"
   },
   {
    "duration": 22,
    "start_time": "2022-10-28T18:47:41.378Z"
   },
   {
    "duration": 30,
    "start_time": "2022-10-28T18:47:41.401Z"
   },
   {
    "duration": 24,
    "start_time": "2022-10-28T18:47:41.433Z"
   },
   {
    "duration": 57,
    "start_time": "2022-10-28T18:47:41.460Z"
   },
   {
    "duration": 597,
    "start_time": "2022-10-28T18:47:41.519Z"
   },
   {
    "duration": 19,
    "start_time": "2022-10-28T18:47:42.117Z"
   },
   {
    "duration": 559,
    "start_time": "2022-10-28T18:47:42.138Z"
   },
   {
    "duration": 43,
    "start_time": "2022-10-28T18:47:42.698Z"
   },
   {
    "duration": 49,
    "start_time": "2022-10-28T18:47:42.742Z"
   },
   {
    "duration": 51,
    "start_time": "2022-10-28T18:47:42.793Z"
   },
   {
    "duration": 39,
    "start_time": "2022-10-28T18:47:42.846Z"
   },
   {
    "duration": 96,
    "start_time": "2022-10-28T18:47:42.887Z"
   },
   {
    "duration": 11,
    "start_time": "2022-10-28T18:47:42.985Z"
   },
   {
    "duration": 174,
    "start_time": "2022-10-28T18:47:42.998Z"
   },
   {
    "duration": 13,
    "start_time": "2022-10-28T18:47:43.173Z"
   },
   {
    "duration": 1888,
    "start_time": "2022-10-28T18:47:43.187Z"
   },
   {
    "duration": 14,
    "start_time": "2022-10-28T18:47:45.077Z"
   },
   {
    "duration": 7,
    "start_time": "2022-10-28T18:47:45.092Z"
   },
   {
    "duration": 66,
    "start_time": "2022-10-28T18:47:45.101Z"
   },
   {
    "duration": 5,
    "start_time": "2022-10-28T18:47:45.168Z"
   },
   {
    "duration": 48,
    "start_time": "2022-10-28T18:47:45.175Z"
   },
   {
    "duration": 11,
    "start_time": "2022-10-28T18:47:45.224Z"
   },
   {
    "duration": 62,
    "start_time": "2022-10-28T18:47:45.237Z"
   },
   {
    "duration": 151,
    "start_time": "2022-10-28T18:47:45.301Z"
   },
   {
    "duration": 3,
    "start_time": "2022-10-28T18:47:45.454Z"
   },
   {
    "duration": 60,
    "start_time": "2022-10-28T18:47:45.459Z"
   },
   {
    "duration": 4,
    "start_time": "2022-10-28T18:47:45.520Z"
   },
   {
    "duration": 24,
    "start_time": "2022-10-28T18:47:45.525Z"
   },
   {
    "duration": 14,
    "start_time": "2022-10-28T18:47:45.550Z"
   },
   {
    "duration": 151,
    "start_time": "2022-10-28T18:47:45.566Z"
   },
   {
    "duration": 5,
    "start_time": "2022-10-28T18:47:45.722Z"
   },
   {
    "duration": 58,
    "start_time": "2022-10-28T18:47:45.728Z"
   },
   {
    "duration": 3,
    "start_time": "2022-10-28T18:47:45.788Z"
   },
   {
    "duration": 33,
    "start_time": "2022-10-28T18:47:45.792Z"
   },
   {
    "duration": 14,
    "start_time": "2022-10-28T18:47:45.826Z"
   },
   {
    "duration": 210,
    "start_time": "2022-10-28T18:47:45.842Z"
   },
   {
    "duration": 5,
    "start_time": "2022-10-28T18:47:46.053Z"
   },
   {
    "duration": 20,
    "start_time": "2022-10-28T18:47:46.060Z"
   },
   {
    "duration": 303,
    "start_time": "2022-10-28T18:47:46.081Z"
   },
   {
    "duration": 12,
    "start_time": "2022-10-28T18:47:46.385Z"
   },
   {
    "duration": 297,
    "start_time": "2022-10-28T18:47:46.398Z"
   },
   {
    "duration": 25,
    "start_time": "2022-10-28T18:47:46.696Z"
   },
   {
    "duration": 255,
    "start_time": "2022-10-28T18:47:46.723Z"
   },
   {
    "duration": 1195,
    "start_time": "2022-10-28T18:48:25.284Z"
   },
   {
    "duration": 238,
    "start_time": "2022-10-28T18:48:26.481Z"
   },
   {
    "duration": 39,
    "start_time": "2022-10-28T18:48:26.721Z"
   },
   {
    "duration": 13,
    "start_time": "2022-10-28T18:48:26.762Z"
   },
   {
    "duration": 35,
    "start_time": "2022-10-28T18:48:26.777Z"
   },
   {
    "duration": 94,
    "start_time": "2022-10-28T18:48:26.813Z"
   },
   {
    "duration": 77,
    "start_time": "2022-10-28T18:48:26.908Z"
   },
   {
    "duration": 155,
    "start_time": "2022-10-28T18:48:26.987Z"
   },
   {
    "duration": 18,
    "start_time": "2022-10-28T18:48:27.143Z"
   },
   {
    "duration": 41,
    "start_time": "2022-10-28T18:48:27.162Z"
   },
   {
    "duration": 18,
    "start_time": "2022-10-28T18:48:27.204Z"
   },
   {
    "duration": 45,
    "start_time": "2022-10-28T18:48:27.223Z"
   },
   {
    "duration": 29,
    "start_time": "2022-10-28T18:48:27.270Z"
   },
   {
    "duration": 95,
    "start_time": "2022-10-28T18:48:27.301Z"
   },
   {
    "duration": 646,
    "start_time": "2022-10-28T18:48:27.398Z"
   },
   {
    "duration": 18,
    "start_time": "2022-10-28T18:48:28.045Z"
   },
   {
    "duration": 582,
    "start_time": "2022-10-28T18:48:28.065Z"
   },
   {
    "duration": 36,
    "start_time": "2022-10-28T18:48:28.649Z"
   },
   {
    "duration": 61,
    "start_time": "2022-10-28T18:48:28.686Z"
   },
   {
    "duration": 26,
    "start_time": "2022-10-28T18:48:28.749Z"
   },
   {
    "duration": 66,
    "start_time": "2022-10-28T18:48:28.777Z"
   },
   {
    "duration": 127,
    "start_time": "2022-10-28T18:48:28.845Z"
   },
   {
    "duration": 14,
    "start_time": "2022-10-28T18:48:28.974Z"
   },
   {
    "duration": 193,
    "start_time": "2022-10-28T18:48:28.990Z"
   },
   {
    "duration": 13,
    "start_time": "2022-10-28T18:48:29.184Z"
   },
   {
    "duration": 1839,
    "start_time": "2022-10-28T18:48:29.198Z"
   },
   {
    "duration": 12,
    "start_time": "2022-10-28T18:48:31.038Z"
   },
   {
    "duration": 15,
    "start_time": "2022-10-28T18:48:31.052Z"
   },
   {
    "duration": 79,
    "start_time": "2022-10-28T18:48:31.068Z"
   },
   {
    "duration": 6,
    "start_time": "2022-10-28T18:48:31.148Z"
   },
   {
    "duration": 50,
    "start_time": "2022-10-28T18:48:31.156Z"
   },
   {
    "duration": 18,
    "start_time": "2022-10-28T18:48:31.208Z"
   },
   {
    "duration": 68,
    "start_time": "2022-10-28T18:48:31.227Z"
   },
   {
    "duration": 171,
    "start_time": "2022-10-28T18:48:31.297Z"
   },
   {
    "duration": 7,
    "start_time": "2022-10-28T18:48:31.470Z"
   },
   {
    "duration": 88,
    "start_time": "2022-10-28T18:48:31.479Z"
   },
   {
    "duration": 4,
    "start_time": "2022-10-28T18:48:31.568Z"
   },
   {
    "duration": 23,
    "start_time": "2022-10-28T18:48:31.574Z"
   },
   {
    "duration": 12,
    "start_time": "2022-10-28T18:48:31.598Z"
   },
   {
    "duration": 147,
    "start_time": "2022-10-28T18:48:31.621Z"
   },
   {
    "duration": 4,
    "start_time": "2022-10-28T18:48:31.773Z"
   },
   {
    "duration": 62,
    "start_time": "2022-10-28T18:48:31.779Z"
   },
   {
    "duration": 4,
    "start_time": "2022-10-28T18:48:31.842Z"
   },
   {
    "duration": 20,
    "start_time": "2022-10-28T18:48:31.848Z"
   },
   {
    "duration": 12,
    "start_time": "2022-10-28T18:48:31.870Z"
   },
   {
    "duration": 222,
    "start_time": "2022-10-28T18:48:31.883Z"
   },
   {
    "duration": 4,
    "start_time": "2022-10-28T18:48:32.106Z"
   },
   {
    "duration": 20,
    "start_time": "2022-10-28T18:48:32.112Z"
   },
   {
    "duration": 262,
    "start_time": "2022-10-28T18:48:32.133Z"
   },
   {
    "duration": 12,
    "start_time": "2022-10-28T18:48:32.397Z"
   },
   {
    "duration": 264,
    "start_time": "2022-10-28T18:48:32.421Z"
   },
   {
    "duration": 13,
    "start_time": "2022-10-28T18:48:32.686Z"
   },
   {
    "duration": 265,
    "start_time": "2022-10-28T18:48:32.700Z"
   },
   {
    "duration": 1370,
    "start_time": "2022-10-29T09:28:37.021Z"
   },
   {
    "duration": 593,
    "start_time": "2022-10-29T09:28:38.393Z"
   },
   {
    "duration": 40,
    "start_time": "2022-10-29T09:28:38.987Z"
   },
   {
    "duration": 15,
    "start_time": "2022-10-29T09:28:39.029Z"
   },
   {
    "duration": 14,
    "start_time": "2022-10-29T09:28:39.046Z"
   },
   {
    "duration": 94,
    "start_time": "2022-10-29T09:28:39.062Z"
   },
   {
    "duration": 94,
    "start_time": "2022-10-29T09:28:39.158Z"
   },
   {
    "duration": 155,
    "start_time": "2022-10-29T09:28:39.254Z"
   },
   {
    "duration": 18,
    "start_time": "2022-10-29T09:28:39.410Z"
   },
   {
    "duration": 21,
    "start_time": "2022-10-29T09:28:39.432Z"
   },
   {
    "duration": 18,
    "start_time": "2022-10-29T09:28:39.454Z"
   },
   {
    "duration": 49,
    "start_time": "2022-10-29T09:28:39.473Z"
   },
   {
    "duration": 4,
    "start_time": "2022-10-29T09:28:39.524Z"
   },
   {
    "duration": 49,
    "start_time": "2022-10-29T09:28:39.529Z"
   },
   {
    "duration": 610,
    "start_time": "2022-10-29T09:28:39.580Z"
   },
   {
    "duration": 23,
    "start_time": "2022-10-29T09:28:40.192Z"
   },
   {
    "duration": 585,
    "start_time": "2022-10-29T09:28:40.217Z"
   },
   {
    "duration": 53,
    "start_time": "2022-10-29T09:28:40.803Z"
   },
   {
    "duration": 75,
    "start_time": "2022-10-29T09:28:40.859Z"
   },
   {
    "duration": 30,
    "start_time": "2022-10-29T09:28:40.935Z"
   },
   {
    "duration": 60,
    "start_time": "2022-10-29T09:28:40.967Z"
   },
   {
    "duration": 94,
    "start_time": "2022-10-29T09:28:41.029Z"
   },
   {
    "duration": 10,
    "start_time": "2022-10-29T09:28:41.125Z"
   },
   {
    "duration": 164,
    "start_time": "2022-10-29T09:28:41.137Z"
   },
   {
    "duration": 17,
    "start_time": "2022-10-29T09:28:41.302Z"
   },
   {
    "duration": 2351,
    "start_time": "2022-10-29T09:28:41.320Z"
   },
   {
    "duration": 11,
    "start_time": "2022-10-29T09:28:43.672Z"
   },
   {
    "duration": 5,
    "start_time": "2022-10-29T09:28:43.687Z"
   },
   {
    "duration": 67,
    "start_time": "2022-10-29T09:28:43.693Z"
   },
   {
    "duration": 6,
    "start_time": "2022-10-29T09:28:43.761Z"
   },
   {
    "duration": 53,
    "start_time": "2022-10-29T09:28:43.768Z"
   },
   {
    "duration": 15,
    "start_time": "2022-10-29T09:28:43.823Z"
   },
   {
    "duration": 81,
    "start_time": "2022-10-29T09:28:43.839Z"
   },
   {
    "duration": 151,
    "start_time": "2022-10-29T09:28:43.922Z"
   },
   {
    "duration": 4,
    "start_time": "2022-10-29T09:28:44.074Z"
   },
   {
    "duration": 68,
    "start_time": "2022-10-29T09:28:44.079Z"
   },
   {
    "duration": 4,
    "start_time": "2022-10-29T09:28:44.148Z"
   },
   {
    "duration": 26,
    "start_time": "2022-10-29T09:28:44.153Z"
   },
   {
    "duration": 12,
    "start_time": "2022-10-29T09:28:44.181Z"
   },
   {
    "duration": 160,
    "start_time": "2022-10-29T09:28:44.194Z"
   },
   {
    "duration": 4,
    "start_time": "2022-10-29T09:28:44.355Z"
   },
   {
    "duration": 64,
    "start_time": "2022-10-29T09:28:44.361Z"
   },
   {
    "duration": 4,
    "start_time": "2022-10-29T09:28:44.426Z"
   },
   {
    "duration": 21,
    "start_time": "2022-10-29T09:28:44.431Z"
   },
   {
    "duration": 11,
    "start_time": "2022-10-29T09:28:44.453Z"
   },
   {
    "duration": 206,
    "start_time": "2022-10-29T09:28:44.465Z"
   },
   {
    "duration": 3,
    "start_time": "2022-10-29T09:28:44.673Z"
   },
   {
    "duration": 13,
    "start_time": "2022-10-29T09:28:44.678Z"
   },
   {
    "duration": 308,
    "start_time": "2022-10-29T09:28:44.711Z"
   },
   {
    "duration": 11,
    "start_time": "2022-10-29T09:28:45.021Z"
   },
   {
    "duration": 241,
    "start_time": "2022-10-29T09:28:45.034Z"
   },
   {
    "duration": 42,
    "start_time": "2022-10-29T09:28:45.277Z"
   },
   {
    "duration": 255,
    "start_time": "2022-10-29T09:28:45.321Z"
   },
   {
    "duration": 4,
    "start_time": "2022-10-29T09:34:06.682Z"
   },
   {
    "duration": 5,
    "start_time": "2022-10-29T09:34:15.680Z"
   },
   {
    "duration": 52,
    "start_time": "2022-10-29T09:56:59.874Z"
   },
   {
    "duration": 56,
    "start_time": "2022-10-29T10:08:35.862Z"
   },
   {
    "duration": 1429,
    "start_time": "2022-10-29T10:09:38.621Z"
   },
   {
    "duration": 731,
    "start_time": "2022-10-29T10:09:40.053Z"
   },
   {
    "duration": 46,
    "start_time": "2022-10-29T10:09:40.786Z"
   },
   {
    "duration": 20,
    "start_time": "2022-10-29T10:09:40.834Z"
   },
   {
    "duration": 15,
    "start_time": "2022-10-29T10:09:40.856Z"
   },
   {
    "duration": 93,
    "start_time": "2022-10-29T10:09:40.873Z"
   },
   {
    "duration": 89,
    "start_time": "2022-10-29T10:09:40.968Z"
   },
   {
    "duration": 156,
    "start_time": "2022-10-29T10:09:41.058Z"
   },
   {
    "duration": 19,
    "start_time": "2022-10-29T10:09:41.216Z"
   },
   {
    "duration": 40,
    "start_time": "2022-10-29T10:09:41.236Z"
   },
   {
    "duration": 12,
    "start_time": "2022-10-29T10:09:41.277Z"
   },
   {
    "duration": 44,
    "start_time": "2022-10-29T10:09:41.291Z"
   },
   {
    "duration": 25,
    "start_time": "2022-10-29T10:09:41.337Z"
   },
   {
    "duration": 51,
    "start_time": "2022-10-29T10:09:41.366Z"
   },
   {
    "duration": 732,
    "start_time": "2022-10-29T10:09:41.419Z"
   },
   {
    "duration": 20,
    "start_time": "2022-10-29T10:09:42.153Z"
   },
   {
    "duration": 631,
    "start_time": "2022-10-29T10:09:42.175Z"
   },
   {
    "duration": 50,
    "start_time": "2022-10-29T10:09:42.808Z"
   },
   {
    "duration": 54,
    "start_time": "2022-10-29T10:09:42.859Z"
   },
   {
    "duration": 49,
    "start_time": "2022-10-29T10:09:42.915Z"
   },
   {
    "duration": 46,
    "start_time": "2022-10-29T10:09:42.965Z"
   },
   {
    "duration": 106,
    "start_time": "2022-10-29T10:09:43.013Z"
   },
   {
    "duration": 11,
    "start_time": "2022-10-29T10:09:43.121Z"
   },
   {
    "duration": 168,
    "start_time": "2022-10-29T10:09:43.134Z"
   },
   {
    "duration": 14,
    "start_time": "2022-10-29T10:09:43.304Z"
   },
   {
    "duration": 2135,
    "start_time": "2022-10-29T10:09:43.320Z"
   },
   {
    "duration": 13,
    "start_time": "2022-10-29T10:09:45.457Z"
   },
   {
    "duration": 11,
    "start_time": "2022-10-29T10:09:45.471Z"
   },
   {
    "duration": 77,
    "start_time": "2022-10-29T10:09:45.484Z"
   },
   {
    "duration": 6,
    "start_time": "2022-10-29T10:09:45.563Z"
   },
   {
    "duration": 53,
    "start_time": "2022-10-29T10:09:45.570Z"
   },
   {
    "duration": 29,
    "start_time": "2022-10-29T10:09:45.625Z"
   },
   {
    "duration": 76,
    "start_time": "2022-10-29T10:09:45.656Z"
   },
   {
    "duration": 153,
    "start_time": "2022-10-29T10:09:45.734Z"
   },
   {
    "duration": 4,
    "start_time": "2022-10-29T10:09:45.889Z"
   },
   {
    "duration": 66,
    "start_time": "2022-10-29T10:09:45.895Z"
   },
   {
    "duration": 3,
    "start_time": "2022-10-29T10:09:45.963Z"
   },
   {
    "duration": 45,
    "start_time": "2022-10-29T10:09:45.968Z"
   },
   {
    "duration": 15,
    "start_time": "2022-10-29T10:09:46.015Z"
   },
   {
    "duration": 148,
    "start_time": "2022-10-29T10:09:46.032Z"
   },
   {
    "duration": 5,
    "start_time": "2022-10-29T10:09:46.183Z"
   },
   {
    "duration": 65,
    "start_time": "2022-10-29T10:09:46.189Z"
   },
   {
    "duration": 4,
    "start_time": "2022-10-29T10:09:46.256Z"
   },
   {
    "duration": 27,
    "start_time": "2022-10-29T10:09:46.261Z"
   },
   {
    "duration": 14,
    "start_time": "2022-10-29T10:09:46.290Z"
   },
   {
    "duration": 252,
    "start_time": "2022-10-29T10:09:46.305Z"
   },
   {
    "duration": 6,
    "start_time": "2022-10-29T10:09:46.559Z"
   },
   {
    "duration": 16,
    "start_time": "2022-10-29T10:09:46.567Z"
   },
   {
    "duration": 323,
    "start_time": "2022-10-29T10:09:46.585Z"
   },
   {
    "duration": 13,
    "start_time": "2022-10-29T10:09:46.910Z"
   },
   {
    "duration": 308,
    "start_time": "2022-10-29T10:09:46.925Z"
   },
   {
    "duration": 28,
    "start_time": "2022-10-29T10:09:47.235Z"
   },
   {
    "duration": 258,
    "start_time": "2022-10-29T10:09:47.265Z"
   },
   {
    "duration": 1201,
    "start_time": "2022-10-29T10:15:57.165Z"
   },
   {
    "duration": 266,
    "start_time": "2022-10-29T10:15:58.368Z"
   },
   {
    "duration": 42,
    "start_time": "2022-10-29T10:15:58.636Z"
   },
   {
    "duration": 15,
    "start_time": "2022-10-29T10:15:58.679Z"
   },
   {
    "duration": 14,
    "start_time": "2022-10-29T10:15:58.697Z"
   },
   {
    "duration": 95,
    "start_time": "2022-10-29T10:15:58.713Z"
   },
   {
    "duration": 95,
    "start_time": "2022-10-29T10:15:58.810Z"
   },
   {
    "duration": 165,
    "start_time": "2022-10-29T10:15:58.906Z"
   },
   {
    "duration": 21,
    "start_time": "2022-10-29T10:15:59.073Z"
   },
   {
    "duration": 23,
    "start_time": "2022-10-29T10:15:59.095Z"
   },
   {
    "duration": 35,
    "start_time": "2022-10-29T10:15:59.120Z"
   },
   {
    "duration": 17,
    "start_time": "2022-10-29T10:15:59.157Z"
   },
   {
    "duration": 6,
    "start_time": "2022-10-29T10:15:59.176Z"
   },
   {
    "duration": 72,
    "start_time": "2022-10-29T10:15:59.185Z"
   },
   {
    "duration": 610,
    "start_time": "2022-10-29T10:15:59.259Z"
   },
   {
    "duration": 20,
    "start_time": "2022-10-29T10:15:59.872Z"
   },
   {
    "duration": 658,
    "start_time": "2022-10-29T10:15:59.896Z"
   },
   {
    "duration": 39,
    "start_time": "2022-10-29T10:16:00.556Z"
   },
   {
    "duration": 76,
    "start_time": "2022-10-29T10:16:00.597Z"
   },
   {
    "duration": 31,
    "start_time": "2022-10-29T10:16:00.675Z"
   },
   {
    "duration": 74,
    "start_time": "2022-10-29T10:16:00.708Z"
   },
   {
    "duration": 107,
    "start_time": "2022-10-29T10:16:00.784Z"
   },
   {
    "duration": 11,
    "start_time": "2022-10-29T10:16:00.893Z"
   },
   {
    "duration": 212,
    "start_time": "2022-10-29T10:16:00.905Z"
   },
   {
    "duration": 14,
    "start_time": "2022-10-29T10:16:01.119Z"
   },
   {
    "duration": 2160,
    "start_time": "2022-10-29T10:16:01.135Z"
   },
   {
    "duration": 13,
    "start_time": "2022-10-29T10:16:03.297Z"
   },
   {
    "duration": 8,
    "start_time": "2022-10-29T10:16:03.312Z"
   },
   {
    "duration": 74,
    "start_time": "2022-10-29T10:16:03.322Z"
   },
   {
    "duration": 6,
    "start_time": "2022-10-29T10:16:03.398Z"
   },
   {
    "duration": 57,
    "start_time": "2022-10-29T10:16:03.405Z"
   },
   {
    "duration": 11,
    "start_time": "2022-10-29T10:16:03.464Z"
   },
   {
    "duration": 87,
    "start_time": "2022-10-29T10:16:03.477Z"
   },
   {
    "duration": 154,
    "start_time": "2022-10-29T10:16:03.566Z"
   },
   {
    "duration": 5,
    "start_time": "2022-10-29T10:16:03.723Z"
   },
   {
    "duration": 69,
    "start_time": "2022-10-29T10:16:03.730Z"
   },
   {
    "duration": 3,
    "start_time": "2022-10-29T10:16:03.801Z"
   },
   {
    "duration": 24,
    "start_time": "2022-10-29T10:16:03.806Z"
   },
   {
    "duration": 30,
    "start_time": "2022-10-29T10:16:03.831Z"
   },
   {
    "duration": 163,
    "start_time": "2022-10-29T10:16:03.863Z"
   },
   {
    "duration": 5,
    "start_time": "2022-10-29T10:16:04.031Z"
   },
   {
    "duration": 82,
    "start_time": "2022-10-29T10:16:04.037Z"
   },
   {
    "duration": 4,
    "start_time": "2022-10-29T10:16:04.121Z"
   },
   {
    "duration": 30,
    "start_time": "2022-10-29T10:16:04.127Z"
   },
   {
    "duration": 45,
    "start_time": "2022-10-29T10:16:04.158Z"
   },
   {
    "duration": 252,
    "start_time": "2022-10-29T10:16:04.205Z"
   },
   {
    "duration": 5,
    "start_time": "2022-10-29T10:16:04.458Z"
   },
   {
    "duration": 43,
    "start_time": "2022-10-29T10:16:04.464Z"
   },
   {
    "duration": 315,
    "start_time": "2022-10-29T10:16:04.509Z"
   },
   {
    "duration": 12,
    "start_time": "2022-10-29T10:16:04.827Z"
   },
   {
    "duration": 279,
    "start_time": "2022-10-29T10:16:04.854Z"
   },
   {
    "duration": 25,
    "start_time": "2022-10-29T10:16:05.135Z"
   },
   {
    "duration": 276,
    "start_time": "2022-10-29T10:16:05.162Z"
   },
   {
    "duration": 1238,
    "start_time": "2022-10-29T10:23:07.663Z"
   },
   {
    "duration": 263,
    "start_time": "2022-10-29T10:23:08.904Z"
   },
   {
    "duration": 41,
    "start_time": "2022-10-29T10:23:09.169Z"
   },
   {
    "duration": 15,
    "start_time": "2022-10-29T10:23:09.211Z"
   },
   {
    "duration": 37,
    "start_time": "2022-10-29T10:23:09.229Z"
   },
   {
    "duration": 90,
    "start_time": "2022-10-29T10:23:09.268Z"
   },
   {
    "duration": 95,
    "start_time": "2022-10-29T10:23:09.360Z"
   },
   {
    "duration": 167,
    "start_time": "2022-10-29T10:23:09.457Z"
   },
   {
    "duration": 29,
    "start_time": "2022-10-29T10:23:09.626Z"
   },
   {
    "duration": 24,
    "start_time": "2022-10-29T10:23:09.656Z"
   },
   {
    "duration": 10,
    "start_time": "2022-10-29T10:23:09.682Z"
   },
   {
    "duration": 19,
    "start_time": "2022-10-29T10:23:09.694Z"
   },
   {
    "duration": 5,
    "start_time": "2022-10-29T10:23:09.714Z"
   },
   {
    "duration": 76,
    "start_time": "2022-10-29T10:23:09.722Z"
   },
   {
    "duration": 620,
    "start_time": "2022-10-29T10:23:09.800Z"
   },
   {
    "duration": 17,
    "start_time": "2022-10-29T10:23:10.422Z"
   },
   {
    "duration": 639,
    "start_time": "2022-10-29T10:23:10.440Z"
   },
   {
    "duration": 38,
    "start_time": "2022-10-29T10:23:11.081Z"
   },
   {
    "duration": 89,
    "start_time": "2022-10-29T10:23:11.121Z"
   },
   {
    "duration": 50,
    "start_time": "2022-10-29T10:23:11.212Z"
   },
   {
    "duration": 58,
    "start_time": "2022-10-29T10:23:11.264Z"
   },
   {
    "duration": 131,
    "start_time": "2022-10-29T10:23:11.324Z"
   },
   {
    "duration": 16,
    "start_time": "2022-10-29T10:23:11.458Z"
   },
   {
    "duration": 223,
    "start_time": "2022-10-29T10:23:11.477Z"
   },
   {
    "duration": 16,
    "start_time": "2022-10-29T10:23:11.702Z"
   },
   {
    "duration": 2086,
    "start_time": "2022-10-29T10:23:11.719Z"
   },
   {
    "duration": 14,
    "start_time": "2022-10-29T10:23:13.806Z"
   },
   {
    "duration": 16,
    "start_time": "2022-10-29T10:23:13.821Z"
   },
   {
    "duration": 83,
    "start_time": "2022-10-29T10:23:13.838Z"
   },
   {
    "duration": 6,
    "start_time": "2022-10-29T10:23:13.923Z"
   },
   {
    "duration": 68,
    "start_time": "2022-10-29T10:23:13.931Z"
   },
   {
    "duration": 12,
    "start_time": "2022-10-29T10:23:14.001Z"
   },
   {
    "duration": 82,
    "start_time": "2022-10-29T10:23:14.015Z"
   },
   {
    "duration": 154,
    "start_time": "2022-10-29T10:23:14.099Z"
   },
   {
    "duration": 5,
    "start_time": "2022-10-29T10:23:14.254Z"
   },
   {
    "duration": 73,
    "start_time": "2022-10-29T10:23:14.261Z"
   },
   {
    "duration": 4,
    "start_time": "2022-10-29T10:23:14.336Z"
   },
   {
    "duration": 40,
    "start_time": "2022-10-29T10:23:14.342Z"
   },
   {
    "duration": 29,
    "start_time": "2022-10-29T10:23:14.384Z"
   },
   {
    "duration": 160,
    "start_time": "2022-10-29T10:23:14.415Z"
   },
   {
    "duration": 5,
    "start_time": "2022-10-29T10:23:14.579Z"
   },
   {
    "duration": 88,
    "start_time": "2022-10-29T10:23:14.585Z"
   },
   {
    "duration": 4,
    "start_time": "2022-10-29T10:23:14.675Z"
   },
   {
    "duration": 51,
    "start_time": "2022-10-29T10:23:14.681Z"
   },
   {
    "duration": 21,
    "start_time": "2022-10-29T10:23:14.733Z"
   },
   {
    "duration": 235,
    "start_time": "2022-10-29T10:23:14.756Z"
   },
   {
    "duration": 4,
    "start_time": "2022-10-29T10:23:14.993Z"
   },
   {
    "duration": 38,
    "start_time": "2022-10-29T10:23:14.999Z"
   },
   {
    "duration": 287,
    "start_time": "2022-10-29T10:23:15.039Z"
   },
   {
    "duration": 13,
    "start_time": "2022-10-29T10:23:15.328Z"
   },
   {
    "duration": 275,
    "start_time": "2022-10-29T10:23:15.354Z"
   },
   {
    "duration": 24,
    "start_time": "2022-10-29T10:23:15.630Z"
   },
   {
    "duration": 253,
    "start_time": "2022-10-29T10:23:15.656Z"
   },
   {
    "duration": 1228,
    "start_time": "2022-10-29T10:28:31.955Z"
   },
   {
    "duration": 271,
    "start_time": "2022-10-29T10:28:33.185Z"
   },
   {
    "duration": 43,
    "start_time": "2022-10-29T10:28:33.459Z"
   },
   {
    "duration": 17,
    "start_time": "2022-10-29T10:28:33.503Z"
   },
   {
    "duration": 51,
    "start_time": "2022-10-29T10:28:33.522Z"
   },
   {
    "duration": 91,
    "start_time": "2022-10-29T10:28:33.575Z"
   },
   {
    "duration": 95,
    "start_time": "2022-10-29T10:28:33.667Z"
   },
   {
    "duration": 176,
    "start_time": "2022-10-29T10:28:33.764Z"
   },
   {
    "duration": 30,
    "start_time": "2022-10-29T10:28:33.942Z"
   },
   {
    "duration": 24,
    "start_time": "2022-10-29T10:28:33.974Z"
   },
   {
    "duration": 18,
    "start_time": "2022-10-29T10:28:34.000Z"
   },
   {
    "duration": 35,
    "start_time": "2022-10-29T10:28:34.020Z"
   },
   {
    "duration": 5,
    "start_time": "2022-10-29T10:28:34.057Z"
   },
   {
    "duration": 52,
    "start_time": "2022-10-29T10:28:34.066Z"
   },
   {
    "duration": 677,
    "start_time": "2022-10-29T10:28:34.119Z"
   },
   {
    "duration": 18,
    "start_time": "2022-10-29T10:28:34.797Z"
   },
   {
    "duration": 638,
    "start_time": "2022-10-29T10:28:34.816Z"
   },
   {
    "duration": 38,
    "start_time": "2022-10-29T10:28:35.456Z"
   },
   {
    "duration": 79,
    "start_time": "2022-10-29T10:28:35.496Z"
   },
   {
    "duration": 33,
    "start_time": "2022-10-29T10:28:35.577Z"
   },
   {
    "duration": 71,
    "start_time": "2022-10-29T10:28:35.613Z"
   },
   {
    "duration": 97,
    "start_time": "2022-10-29T10:28:35.686Z"
   },
   {
    "duration": 11,
    "start_time": "2022-10-29T10:28:35.785Z"
   },
   {
    "duration": 173,
    "start_time": "2022-10-29T10:28:35.797Z"
   },
   {
    "duration": 14,
    "start_time": "2022-10-29T10:28:35.972Z"
   },
   {
    "duration": 2154,
    "start_time": "2022-10-29T10:28:35.988Z"
   },
   {
    "duration": 20,
    "start_time": "2022-10-29T10:28:38.144Z"
   },
   {
    "duration": 5,
    "start_time": "2022-10-29T10:28:38.166Z"
   },
   {
    "duration": 61,
    "start_time": "2022-10-29T10:28:38.172Z"
   },
   {
    "duration": 22,
    "start_time": "2022-10-29T10:28:38.235Z"
   },
   {
    "duration": 59,
    "start_time": "2022-10-29T10:28:38.259Z"
   },
   {
    "duration": 12,
    "start_time": "2022-10-29T10:28:38.320Z"
   },
   {
    "duration": 91,
    "start_time": "2022-10-29T10:28:38.333Z"
   },
   {
    "duration": 161,
    "start_time": "2022-10-29T10:28:38.426Z"
   },
   {
    "duration": 5,
    "start_time": "2022-10-29T10:28:38.588Z"
   },
   {
    "duration": 71,
    "start_time": "2022-10-29T10:28:38.595Z"
   },
   {
    "duration": 4,
    "start_time": "2022-10-29T10:28:38.668Z"
   },
   {
    "duration": 32,
    "start_time": "2022-10-29T10:28:38.674Z"
   },
   {
    "duration": 15,
    "start_time": "2022-10-29T10:28:38.708Z"
   },
   {
    "duration": 177,
    "start_time": "2022-10-29T10:28:38.725Z"
   },
   {
    "duration": 5,
    "start_time": "2022-10-29T10:28:38.907Z"
   },
   {
    "duration": 73,
    "start_time": "2022-10-29T10:28:38.914Z"
   },
   {
    "duration": 5,
    "start_time": "2022-10-29T10:28:38.989Z"
   },
   {
    "duration": 35,
    "start_time": "2022-10-29T10:28:38.996Z"
   },
   {
    "duration": 28,
    "start_time": "2022-10-29T10:28:39.033Z"
   },
   {
    "duration": 247,
    "start_time": "2022-10-29T10:28:39.063Z"
   },
   {
    "duration": 5,
    "start_time": "2022-10-29T10:28:39.312Z"
   },
   {
    "duration": 19,
    "start_time": "2022-10-29T10:28:39.318Z"
   },
   {
    "duration": 294,
    "start_time": "2022-10-29T10:28:39.339Z"
   },
   {
    "duration": 24,
    "start_time": "2022-10-29T10:28:39.635Z"
   },
   {
    "duration": 263,
    "start_time": "2022-10-29T10:28:39.660Z"
   },
   {
    "duration": 30,
    "start_time": "2022-10-29T10:28:39.925Z"
   },
   {
    "duration": 277,
    "start_time": "2022-10-29T10:28:39.957Z"
   },
   {
    "duration": 1438,
    "start_time": "2022-10-30T13:13:26.459Z"
   },
   {
    "duration": 717,
    "start_time": "2022-10-30T13:13:27.899Z"
   },
   {
    "duration": 42,
    "start_time": "2022-10-30T13:13:28.618Z"
   },
   {
    "duration": 14,
    "start_time": "2022-10-30T13:13:28.662Z"
   },
   {
    "duration": 13,
    "start_time": "2022-10-30T13:13:28.678Z"
   },
   {
    "duration": 88,
    "start_time": "2022-10-30T13:13:28.692Z"
   },
   {
    "duration": 90,
    "start_time": "2022-10-30T13:13:28.781Z"
   },
   {
    "duration": 164,
    "start_time": "2022-10-30T13:13:28.872Z"
   },
   {
    "duration": 17,
    "start_time": "2022-10-30T13:13:29.038Z"
   },
   {
    "duration": 21,
    "start_time": "2022-10-30T13:13:29.057Z"
   },
   {
    "duration": 10,
    "start_time": "2022-10-30T13:13:29.079Z"
   },
   {
    "duration": 17,
    "start_time": "2022-10-30T13:13:29.109Z"
   },
   {
    "duration": 5,
    "start_time": "2022-10-30T13:13:29.127Z"
   },
   {
    "duration": 54,
    "start_time": "2022-10-30T13:13:29.134Z"
   },
   {
    "duration": 592,
    "start_time": "2022-10-30T13:13:29.189Z"
   },
   {
    "duration": 16,
    "start_time": "2022-10-30T13:13:29.783Z"
   },
   {
    "duration": 584,
    "start_time": "2022-10-30T13:13:29.801Z"
   },
   {
    "duration": 42,
    "start_time": "2022-10-30T13:13:30.387Z"
   },
   {
    "duration": 55,
    "start_time": "2022-10-30T13:13:30.431Z"
   },
   {
    "duration": 47,
    "start_time": "2022-10-30T13:13:30.488Z"
   },
   {
    "duration": 44,
    "start_time": "2022-10-30T13:13:30.537Z"
   },
   {
    "duration": 102,
    "start_time": "2022-10-30T13:13:30.582Z"
   },
   {
    "duration": 23,
    "start_time": "2022-10-30T13:13:30.686Z"
   },
   {
    "duration": 141,
    "start_time": "2022-10-30T13:13:30.710Z"
   },
   {
    "duration": 159,
    "start_time": "2022-10-30T13:13:30.852Z"
   },
   {
    "duration": 14,
    "start_time": "2022-10-30T13:13:31.012Z"
   },
   {
    "duration": 2125,
    "start_time": "2022-10-30T13:13:31.028Z"
   },
   {
    "duration": 9,
    "start_time": "2022-10-30T13:13:33.155Z"
   },
   {
    "duration": 5,
    "start_time": "2022-10-30T13:13:33.166Z"
   },
   {
    "duration": 67,
    "start_time": "2022-10-30T13:13:33.172Z"
   },
   {
    "duration": 7,
    "start_time": "2022-10-30T13:13:33.240Z"
   },
   {
    "duration": 42,
    "start_time": "2022-10-30T13:13:33.248Z"
   },
   {
    "duration": 25,
    "start_time": "2022-10-30T13:13:33.292Z"
   },
   {
    "duration": 69,
    "start_time": "2022-10-30T13:13:33.319Z"
   },
   {
    "duration": 151,
    "start_time": "2022-10-30T13:13:33.390Z"
   },
   {
    "duration": 4,
    "start_time": "2022-10-30T13:13:33.543Z"
   },
   {
    "duration": 63,
    "start_time": "2022-10-30T13:13:33.548Z"
   },
   {
    "duration": 4,
    "start_time": "2022-10-30T13:13:33.613Z"
   },
   {
    "duration": 24,
    "start_time": "2022-10-30T13:13:33.618Z"
   },
   {
    "duration": 81,
    "start_time": "2022-10-30T13:13:33.643Z"
   },
   {
    "duration": 149,
    "start_time": "2022-10-30T13:13:33.727Z"
   },
   {
    "duration": 4,
    "start_time": "2022-10-30T13:13:33.877Z"
   },
   {
    "duration": 66,
    "start_time": "2022-10-30T13:13:33.883Z"
   },
   {
    "duration": 4,
    "start_time": "2022-10-30T13:13:33.950Z"
   },
   {
    "duration": 21,
    "start_time": "2022-10-30T13:13:33.955Z"
   },
   {
    "duration": 12,
    "start_time": "2022-10-30T13:13:33.977Z"
   },
   {
    "duration": 154,
    "start_time": "2022-10-30T13:13:33.991Z"
   },
   {
    "duration": 5,
    "start_time": "2022-10-30T13:13:34.147Z"
   },
   {
    "duration": 12,
    "start_time": "2022-10-30T13:13:34.154Z"
   },
   {
    "duration": 361,
    "start_time": "2022-10-30T13:13:34.168Z"
   },
   {
    "duration": 13,
    "start_time": "2022-10-30T13:13:34.531Z"
   },
   {
    "duration": 302,
    "start_time": "2022-10-30T13:13:34.545Z"
   },
   {
    "duration": 13,
    "start_time": "2022-10-30T13:13:34.849Z"
   },
   {
    "duration": 259,
    "start_time": "2022-10-30T13:13:34.864Z"
   },
   {
    "duration": 269,
    "start_time": "2022-10-30T13:41:17.002Z"
   },
   {
    "duration": 137,
    "start_time": "2022-10-30T14:19:48.454Z"
   },
   {
    "duration": 52,
    "start_time": "2022-10-30T14:20:45.114Z"
   },
   {
    "duration": 4,
    "start_time": "2022-10-30T14:20:45.619Z"
   },
   {
    "duration": 21,
    "start_time": "2022-10-30T14:20:46.148Z"
   },
   {
    "duration": 13,
    "start_time": "2022-10-30T14:20:47.045Z"
   },
   {
    "duration": 141,
    "start_time": "2022-10-30T14:20:48.723Z"
   },
   {
    "duration": 4,
    "start_time": "2022-10-30T14:20:52.001Z"
   },
   {
    "duration": 3,
    "start_time": "2022-10-30T14:21:07.756Z"
   },
   {
    "duration": 51,
    "start_time": "2022-10-30T14:21:10.837Z"
   },
   {
    "duration": 4,
    "start_time": "2022-10-30T14:21:12.017Z"
   },
   {
    "duration": 20,
    "start_time": "2022-10-30T14:21:12.625Z"
   },
   {
    "duration": 13,
    "start_time": "2022-10-30T14:21:13.980Z"
   },
   {
    "duration": 143,
    "start_time": "2022-10-30T14:21:16.130Z"
   },
   {
    "duration": 231,
    "start_time": "2022-10-30T14:24:51.048Z"
   },
   {
    "duration": 212,
    "start_time": "2022-10-30T14:25:02.160Z"
   },
   {
    "duration": 299,
    "start_time": "2022-10-30T14:25:09.843Z"
   },
   {
    "duration": 117,
    "start_time": "2022-10-30T14:25:20.744Z"
   },
   {
    "duration": 1202,
    "start_time": "2022-10-30T14:25:31.093Z"
   },
   {
    "duration": 245,
    "start_time": "2022-10-30T14:25:32.297Z"
   },
   {
    "duration": 41,
    "start_time": "2022-10-30T14:25:32.543Z"
   },
   {
    "duration": 14,
    "start_time": "2022-10-30T14:25:32.586Z"
   },
   {
    "duration": 12,
    "start_time": "2022-10-30T14:25:32.602Z"
   },
   {
    "duration": 78,
    "start_time": "2022-10-30T14:25:32.615Z"
   },
   {
    "duration": 75,
    "start_time": "2022-10-30T14:25:32.713Z"
   },
   {
    "duration": 154,
    "start_time": "2022-10-30T14:25:32.790Z"
   },
   {
    "duration": 17,
    "start_time": "2022-10-30T14:25:32.946Z"
   },
   {
    "duration": 44,
    "start_time": "2022-10-30T14:25:32.965Z"
   },
   {
    "duration": 10,
    "start_time": "2022-10-30T14:25:33.011Z"
   },
   {
    "duration": 17,
    "start_time": "2022-10-30T14:25:33.023Z"
   },
   {
    "duration": 4,
    "start_time": "2022-10-30T14:25:33.042Z"
   },
   {
    "duration": 78,
    "start_time": "2022-10-30T14:25:33.049Z"
   },
   {
    "duration": 569,
    "start_time": "2022-10-30T14:25:33.128Z"
   },
   {
    "duration": 22,
    "start_time": "2022-10-30T14:25:33.698Z"
   },
   {
    "duration": 578,
    "start_time": "2022-10-30T14:25:33.722Z"
   },
   {
    "duration": 37,
    "start_time": "2022-10-30T14:25:34.302Z"
   },
   {
    "duration": 74,
    "start_time": "2022-10-30T14:25:34.341Z"
   },
   {
    "duration": 38,
    "start_time": "2022-10-30T14:25:34.417Z"
   },
   {
    "duration": 80,
    "start_time": "2022-10-30T14:25:34.457Z"
   },
   {
    "duration": 107,
    "start_time": "2022-10-30T14:25:34.539Z"
   },
   {
    "duration": 11,
    "start_time": "2022-10-30T14:25:34.648Z"
   },
   {
    "duration": 152,
    "start_time": "2022-10-30T14:25:34.660Z"
   },
   {
    "duration": 154,
    "start_time": "2022-10-30T14:25:34.813Z"
   },
   {
    "duration": 14,
    "start_time": "2022-10-30T14:25:34.969Z"
   },
   {
    "duration": 2171,
    "start_time": "2022-10-30T14:25:34.984Z"
   },
   {
    "duration": 12,
    "start_time": "2022-10-30T14:25:37.157Z"
   },
   {
    "duration": 15,
    "start_time": "2022-10-30T14:25:37.171Z"
   },
   {
    "duration": 79,
    "start_time": "2022-10-30T14:25:37.187Z"
   },
   {
    "duration": 6,
    "start_time": "2022-10-30T14:25:37.268Z"
   },
   {
    "duration": 61,
    "start_time": "2022-10-30T14:25:37.276Z"
   },
   {
    "duration": 11,
    "start_time": "2022-10-30T14:25:37.339Z"
   },
   {
    "duration": 84,
    "start_time": "2022-10-30T14:25:37.352Z"
   },
   {
    "duration": 151,
    "start_time": "2022-10-30T14:25:37.437Z"
   },
   {
    "duration": 4,
    "start_time": "2022-10-30T14:25:37.590Z"
   },
   {
    "duration": 67,
    "start_time": "2022-10-30T14:25:37.609Z"
   },
   {
    "duration": 4,
    "start_time": "2022-10-30T14:25:37.678Z"
   },
   {
    "duration": 39,
    "start_time": "2022-10-30T14:25:37.683Z"
   },
   {
    "duration": 73,
    "start_time": "2022-10-30T14:25:37.724Z"
   },
   {
    "duration": 155,
    "start_time": "2022-10-30T14:25:37.801Z"
   },
   {
    "duration": 4,
    "start_time": "2022-10-30T14:25:37.957Z"
   },
   {
    "duration": 63,
    "start_time": "2022-10-30T14:25:37.963Z"
   },
   {
    "duration": 4,
    "start_time": "2022-10-30T14:25:38.028Z"
   },
   {
    "duration": 23,
    "start_time": "2022-10-30T14:25:38.033Z"
   },
   {
    "duration": 12,
    "start_time": "2022-10-30T14:25:38.058Z"
   },
   {
    "duration": 154,
    "start_time": "2022-10-30T14:25:38.072Z"
   },
   {
    "duration": 6,
    "start_time": "2022-10-30T14:25:38.228Z"
   },
   {
    "duration": 15,
    "start_time": "2022-10-30T14:25:38.236Z"
   },
   {
    "duration": 231,
    "start_time": "2022-10-30T14:25:38.253Z"
   },
   {
    "duration": 33,
    "start_time": "2022-10-30T14:25:38.486Z"
   },
   {
    "duration": 270,
    "start_time": "2022-10-30T14:25:38.520Z"
   },
   {
    "duration": 21,
    "start_time": "2022-10-30T14:25:38.792Z"
   },
   {
    "duration": 252,
    "start_time": "2022-10-30T14:25:38.815Z"
   },
   {
    "duration": 1159,
    "start_time": "2022-10-30T17:41:21.028Z"
   },
   {
    "duration": 256,
    "start_time": "2022-10-30T17:41:22.189Z"
   },
   {
    "duration": 39,
    "start_time": "2022-10-30T17:41:22.447Z"
   },
   {
    "duration": 15,
    "start_time": "2022-10-30T17:41:22.488Z"
   },
   {
    "duration": 15,
    "start_time": "2022-10-30T17:41:22.505Z"
   },
   {
    "duration": 97,
    "start_time": "2022-10-30T17:41:22.521Z"
   },
   {
    "duration": 77,
    "start_time": "2022-10-30T17:41:22.620Z"
   },
   {
    "duration": 168,
    "start_time": "2022-10-30T17:41:22.709Z"
   },
   {
    "duration": 18,
    "start_time": "2022-10-30T17:41:22.878Z"
   },
   {
    "duration": 34,
    "start_time": "2022-10-30T17:41:22.899Z"
   },
   {
    "duration": 11,
    "start_time": "2022-10-30T17:41:22.935Z"
   },
   {
    "duration": 18,
    "start_time": "2022-10-30T17:41:22.948Z"
   },
   {
    "duration": 4,
    "start_time": "2022-10-30T17:41:22.968Z"
   },
   {
    "duration": 89,
    "start_time": "2022-10-30T17:41:22.974Z"
   },
   {
    "duration": 588,
    "start_time": "2022-10-30T17:41:23.065Z"
   },
   {
    "duration": 16,
    "start_time": "2022-10-30T17:41:23.655Z"
   },
   {
    "duration": 602,
    "start_time": "2022-10-30T17:41:23.672Z"
   },
   {
    "duration": 43,
    "start_time": "2022-10-30T17:41:24.275Z"
   },
   {
    "duration": 66,
    "start_time": "2022-10-30T17:41:24.319Z"
   },
   {
    "duration": 62,
    "start_time": "2022-10-30T17:41:24.388Z"
   },
   {
    "duration": 61,
    "start_time": "2022-10-30T17:41:24.453Z"
   },
   {
    "duration": 125,
    "start_time": "2022-10-30T17:41:24.516Z"
   },
   {
    "duration": 15,
    "start_time": "2022-10-30T17:41:24.643Z"
   },
   {
    "duration": 175,
    "start_time": "2022-10-30T17:41:24.659Z"
   },
   {
    "duration": 152,
    "start_time": "2022-10-30T17:41:24.835Z"
   },
   {
    "duration": 24,
    "start_time": "2022-10-30T17:41:24.989Z"
   },
   {
    "duration": 2306,
    "start_time": "2022-10-30T17:41:25.014Z"
   },
   {
    "duration": 13,
    "start_time": "2022-10-30T17:41:27.325Z"
   },
   {
    "duration": 6,
    "start_time": "2022-10-30T17:41:27.341Z"
   },
   {
    "duration": 90,
    "start_time": "2022-10-30T17:41:27.349Z"
   },
   {
    "duration": 5,
    "start_time": "2022-10-30T17:41:27.440Z"
   },
   {
    "duration": 47,
    "start_time": "2022-10-30T17:41:27.446Z"
   },
   {
    "duration": 18,
    "start_time": "2022-10-30T17:41:27.494Z"
   },
   {
    "duration": 84,
    "start_time": "2022-10-30T17:41:27.514Z"
   },
   {
    "duration": 149,
    "start_time": "2022-10-30T17:41:27.600Z"
   },
   {
    "duration": 5,
    "start_time": "2022-10-30T17:41:27.751Z"
   },
   {
    "duration": 69,
    "start_time": "2022-10-30T17:41:27.757Z"
   },
   {
    "duration": 5,
    "start_time": "2022-10-30T17:41:27.827Z"
   },
   {
    "duration": 25,
    "start_time": "2022-10-30T17:41:27.834Z"
   },
   {
    "duration": 89,
    "start_time": "2022-10-30T17:41:27.860Z"
   },
   {
    "duration": 164,
    "start_time": "2022-10-30T17:41:27.951Z"
   },
   {
    "duration": 5,
    "start_time": "2022-10-30T17:41:28.117Z"
   },
   {
    "duration": 67,
    "start_time": "2022-10-30T17:41:28.124Z"
   },
   {
    "duration": 3,
    "start_time": "2022-10-30T17:41:28.193Z"
   },
   {
    "duration": 23,
    "start_time": "2022-10-30T17:41:28.197Z"
   },
   {
    "duration": 16,
    "start_time": "2022-10-30T17:41:28.222Z"
   },
   {
    "duration": 165,
    "start_time": "2022-10-30T17:41:28.240Z"
   },
   {
    "duration": 4,
    "start_time": "2022-10-30T17:41:28.407Z"
   },
   {
    "duration": 22,
    "start_time": "2022-10-30T17:41:28.413Z"
   },
   {
    "duration": 268,
    "start_time": "2022-10-30T17:41:28.436Z"
   },
   {
    "duration": 18,
    "start_time": "2022-10-30T17:41:28.709Z"
   },
   {
    "duration": 258,
    "start_time": "2022-10-30T17:41:28.729Z"
   },
   {
    "duration": 22,
    "start_time": "2022-10-30T17:41:28.988Z"
   },
   {
    "duration": 299,
    "start_time": "2022-10-30T17:41:29.014Z"
   },
   {
    "duration": 52,
    "start_time": "2022-10-31T18:48:01.332Z"
   },
   {
    "duration": 1297,
    "start_time": "2023-02-19T15:16:50.441Z"
   },
   {
    "duration": 824,
    "start_time": "2023-02-19T15:16:51.740Z"
   },
   {
    "duration": 43,
    "start_time": "2023-02-19T15:16:52.566Z"
   },
   {
    "duration": 15,
    "start_time": "2023-02-19T15:16:52.611Z"
   },
   {
    "duration": 96,
    "start_time": "2023-02-19T15:16:52.627Z"
   },
   {
    "duration": 168,
    "start_time": "2023-02-19T15:16:52.724Z"
   },
   {
    "duration": 142,
    "start_time": "2023-02-19T15:16:52.895Z"
   },
   {
    "duration": 179,
    "start_time": "2023-02-19T15:16:53.038Z"
   },
   {
    "duration": 19,
    "start_time": "2023-02-19T15:16:53.219Z"
   },
   {
    "duration": 25,
    "start_time": "2023-02-19T15:16:53.240Z"
   },
   {
    "duration": 26,
    "start_time": "2023-02-19T15:16:53.267Z"
   },
   {
    "duration": 34,
    "start_time": "2023-02-19T15:16:53.295Z"
   },
   {
    "duration": 159,
    "start_time": "2023-02-19T15:16:53.332Z"
   },
   {
    "duration": 67,
    "start_time": "2023-02-19T15:16:53.493Z"
   },
   {
    "duration": 632,
    "start_time": "2023-02-19T15:16:53.561Z"
   },
   {
    "duration": 18,
    "start_time": "2023-02-19T15:16:54.195Z"
   },
   {
    "duration": 638,
    "start_time": "2023-02-19T15:16:54.215Z"
   },
   {
    "duration": 44,
    "start_time": "2023-02-19T15:16:54.855Z"
   },
   {
    "duration": 57,
    "start_time": "2023-02-19T15:16:54.900Z"
   },
   {
    "duration": 52,
    "start_time": "2023-02-19T15:16:54.959Z"
   },
   {
    "duration": 68,
    "start_time": "2023-02-19T15:16:55.013Z"
   },
   {
    "duration": 89,
    "start_time": "2023-02-19T15:16:55.082Z"
   },
   {
    "duration": 25,
    "start_time": "2023-02-19T15:16:55.173Z"
   },
   {
    "duration": 167,
    "start_time": "2023-02-19T15:16:55.200Z"
   },
   {
    "duration": 172,
    "start_time": "2023-02-19T15:16:55.369Z"
   },
   {
    "duration": 14,
    "start_time": "2023-02-19T15:16:55.542Z"
   },
   {
    "duration": 2204,
    "start_time": "2023-02-19T15:16:55.557Z"
   },
   {
    "duration": 11,
    "start_time": "2023-02-19T15:16:57.764Z"
   },
   {
    "duration": 5,
    "start_time": "2023-02-19T15:16:57.785Z"
   },
   {
    "duration": 71,
    "start_time": "2023-02-19T15:16:57.792Z"
   },
   {
    "duration": 6,
    "start_time": "2023-02-19T15:16:57.864Z"
   },
   {
    "duration": 53,
    "start_time": "2023-02-19T15:16:57.871Z"
   },
   {
    "duration": 12,
    "start_time": "2023-02-19T15:16:57.926Z"
   },
   {
    "duration": 77,
    "start_time": "2023-02-19T15:16:57.939Z"
   },
   {
    "duration": 155,
    "start_time": "2023-02-19T15:16:58.017Z"
   },
   {
    "duration": 12,
    "start_time": "2023-02-19T15:16:58.174Z"
   },
   {
    "duration": 54,
    "start_time": "2023-02-19T15:16:58.188Z"
   },
   {
    "duration": 4,
    "start_time": "2023-02-19T15:16:58.243Z"
   },
   {
    "duration": 26,
    "start_time": "2023-02-19T15:16:58.248Z"
   },
   {
    "duration": 97,
    "start_time": "2023-02-19T15:16:58.276Z"
   },
   {
    "duration": 240,
    "start_time": "2023-02-19T15:16:58.375Z"
   },
   {
    "duration": 4,
    "start_time": "2023-02-19T15:16:58.617Z"
   },
   {
    "duration": 66,
    "start_time": "2023-02-19T15:16:58.623Z"
   },
   {
    "duration": 4,
    "start_time": "2023-02-19T15:16:58.691Z"
   },
   {
    "duration": 34,
    "start_time": "2023-02-19T15:16:58.696Z"
   },
   {
    "duration": 13,
    "start_time": "2023-02-19T15:16:58.731Z"
   },
   {
    "duration": 157,
    "start_time": "2023-02-19T15:16:58.745Z"
   },
   {
    "duration": 5,
    "start_time": "2023-02-19T15:16:58.903Z"
   },
   {
    "duration": 21,
    "start_time": "2023-02-19T15:16:58.909Z"
   },
   {
    "duration": 260,
    "start_time": "2023-02-19T15:16:58.932Z"
   },
   {
    "duration": 17,
    "start_time": "2023-02-19T15:16:59.194Z"
   },
   {
    "duration": 275,
    "start_time": "2023-02-19T15:16:59.213Z"
   },
   {
    "duration": 13,
    "start_time": "2023-02-19T15:16:59.490Z"
   },
   {
    "duration": 253,
    "start_time": "2023-02-19T15:16:59.505Z"
   },
   {
    "duration": 1133,
    "start_time": "2023-02-19T15:17:46.933Z"
   },
   {
    "duration": 246,
    "start_time": "2023-02-19T15:17:48.068Z"
   },
   {
    "duration": 40,
    "start_time": "2023-02-19T15:17:48.317Z"
   },
   {
    "duration": 37,
    "start_time": "2023-02-19T15:17:48.360Z"
   },
   {
    "duration": 84,
    "start_time": "2023-02-19T15:17:48.399Z"
   },
   {
    "duration": 102,
    "start_time": "2023-02-19T15:17:48.485Z"
   },
   {
    "duration": 80,
    "start_time": "2023-02-19T15:17:48.588Z"
   },
   {
    "duration": 196,
    "start_time": "2023-02-19T15:17:48.670Z"
   },
   {
    "duration": 25,
    "start_time": "2023-02-19T15:17:48.868Z"
   },
   {
    "duration": 29,
    "start_time": "2023-02-19T15:17:48.895Z"
   },
   {
    "duration": 26,
    "start_time": "2023-02-19T15:17:48.925Z"
   },
   {
    "duration": 18,
    "start_time": "2023-02-19T15:17:48.952Z"
   },
   {
    "duration": 5,
    "start_time": "2023-02-19T15:17:48.974Z"
   },
   {
    "duration": 51,
    "start_time": "2023-02-19T15:17:48.986Z"
   },
   {
    "duration": 642,
    "start_time": "2023-02-19T15:17:49.040Z"
   },
   {
    "duration": 19,
    "start_time": "2023-02-19T15:17:49.684Z"
   },
   {
    "duration": 645,
    "start_time": "2023-02-19T15:17:49.704Z"
   },
   {
    "duration": 44,
    "start_time": "2023-02-19T15:17:50.351Z"
   },
   {
    "duration": 55,
    "start_time": "2023-02-19T15:17:50.396Z"
   },
   {
    "duration": 67,
    "start_time": "2023-02-19T15:17:50.453Z"
   },
   {
    "duration": 43,
    "start_time": "2023-02-19T15:17:50.521Z"
   },
   {
    "duration": 97,
    "start_time": "2023-02-19T15:17:50.566Z"
   },
   {
    "duration": 22,
    "start_time": "2023-02-19T15:17:50.665Z"
   },
   {
    "duration": 156,
    "start_time": "2023-02-19T15:17:50.688Z"
   },
   {
    "duration": 184,
    "start_time": "2023-02-19T15:17:50.846Z"
   },
   {
    "duration": 15,
    "start_time": "2023-02-19T15:17:51.031Z"
   },
   {
    "duration": 2381,
    "start_time": "2023-02-19T15:17:51.050Z"
   },
   {
    "duration": 13,
    "start_time": "2023-02-19T15:17:53.433Z"
   },
   {
    "duration": 8,
    "start_time": "2023-02-19T15:17:53.448Z"
   },
   {
    "duration": 75,
    "start_time": "2023-02-19T15:17:53.457Z"
   },
   {
    "duration": 6,
    "start_time": "2023-02-19T15:17:53.534Z"
   },
   {
    "duration": 66,
    "start_time": "2023-02-19T15:17:53.541Z"
   },
   {
    "duration": 18,
    "start_time": "2023-02-19T15:17:53.608Z"
   },
   {
    "duration": 77,
    "start_time": "2023-02-19T15:17:53.628Z"
   },
   {
    "duration": 157,
    "start_time": "2023-02-19T15:17:53.707Z"
   },
   {
    "duration": 4,
    "start_time": "2023-02-19T15:17:53.866Z"
   },
   {
    "duration": 65,
    "start_time": "2023-02-19T15:17:53.887Z"
   },
   {
    "duration": 4,
    "start_time": "2023-02-19T15:17:53.954Z"
   },
   {
    "duration": 29,
    "start_time": "2023-02-19T15:17:53.960Z"
   },
   {
    "duration": 17,
    "start_time": "2023-02-19T15:17:53.993Z"
   },
   {
    "duration": 242,
    "start_time": "2023-02-19T15:17:54.012Z"
   },
   {
    "duration": 5,
    "start_time": "2023-02-19T15:17:54.256Z"
   },
   {
    "duration": 69,
    "start_time": "2023-02-19T15:17:54.263Z"
   },
   {
    "duration": 4,
    "start_time": "2023-02-19T15:17:54.333Z"
   },
   {
    "duration": 25,
    "start_time": "2023-02-19T15:17:54.339Z"
   },
   {
    "duration": 28,
    "start_time": "2023-02-19T15:17:54.366Z"
   },
   {
    "duration": 162,
    "start_time": "2023-02-19T15:17:54.396Z"
   },
   {
    "duration": 5,
    "start_time": "2023-02-19T15:17:54.560Z"
   },
   {
    "duration": 24,
    "start_time": "2023-02-19T15:17:54.567Z"
   },
   {
    "duration": 261,
    "start_time": "2023-02-19T15:17:54.593Z"
   },
   {
    "duration": 13,
    "start_time": "2023-02-19T15:17:54.855Z"
   },
   {
    "duration": 284,
    "start_time": "2023-02-19T15:17:54.869Z"
   },
   {
    "duration": 14,
    "start_time": "2023-02-19T15:17:55.155Z"
   },
   {
    "duration": 264,
    "start_time": "2023-02-19T15:17:55.185Z"
   },
   {
    "duration": 1173,
    "start_time": "2023-02-19T15:20:54.098Z"
   },
   {
    "duration": 237,
    "start_time": "2023-02-19T15:20:55.272Z"
   },
   {
    "duration": 54,
    "start_time": "2023-02-19T15:20:55.512Z"
   },
   {
    "duration": 25,
    "start_time": "2023-02-19T15:20:55.568Z"
   },
   {
    "duration": 17,
    "start_time": "2023-02-19T15:20:55.596Z"
   },
   {
    "duration": 107,
    "start_time": "2023-02-19T15:20:55.615Z"
   },
   {
    "duration": 99,
    "start_time": "2023-02-19T15:20:55.724Z"
   },
   {
    "duration": 154,
    "start_time": "2023-02-19T15:20:55.825Z"
   },
   {
    "duration": 20,
    "start_time": "2023-02-19T15:20:55.980Z"
   },
   {
    "duration": 29,
    "start_time": "2023-02-19T15:20:56.002Z"
   },
   {
    "duration": 10,
    "start_time": "2023-02-19T15:20:56.033Z"
   },
   {
    "duration": 19,
    "start_time": "2023-02-19T15:20:56.044Z"
   },
   {
    "duration": 22,
    "start_time": "2023-02-19T15:20:56.065Z"
   },
   {
    "duration": 47,
    "start_time": "2023-02-19T15:20:56.090Z"
   },
   {
    "duration": 612,
    "start_time": "2023-02-19T15:20:56.139Z"
   },
   {
    "duration": 17,
    "start_time": "2023-02-19T15:20:56.752Z"
   },
   {
    "duration": 638,
    "start_time": "2023-02-19T15:20:56.771Z"
   },
   {
    "duration": 37,
    "start_time": "2023-02-19T15:20:57.411Z"
   },
   {
    "duration": 75,
    "start_time": "2023-02-19T15:20:57.450Z"
   },
   {
    "duration": 31,
    "start_time": "2023-02-19T15:20:57.526Z"
   },
   {
    "duration": 64,
    "start_time": "2023-02-19T15:20:57.558Z"
   },
   {
    "duration": 95,
    "start_time": "2023-02-19T15:20:57.624Z"
   },
   {
    "duration": 11,
    "start_time": "2023-02-19T15:20:57.721Z"
   },
   {
    "duration": 163,
    "start_time": "2023-02-19T15:20:57.734Z"
   },
   {
    "duration": 167,
    "start_time": "2023-02-19T15:20:57.899Z"
   },
   {
    "duration": 24,
    "start_time": "2023-02-19T15:20:58.068Z"
   },
   {
    "duration": 2096,
    "start_time": "2023-02-19T15:20:58.094Z"
   },
   {
    "duration": 12,
    "start_time": "2023-02-19T15:21:00.191Z"
   },
   {
    "duration": 46,
    "start_time": "2023-02-19T15:21:00.204Z"
   },
   {
    "duration": 78,
    "start_time": "2023-02-19T15:21:00.252Z"
   },
   {
    "duration": 7,
    "start_time": "2023-02-19T15:21:00.332Z"
   },
   {
    "duration": 97,
    "start_time": "2023-02-19T15:21:00.340Z"
   },
   {
    "duration": 17,
    "start_time": "2023-02-19T15:21:00.439Z"
   },
   {
    "duration": 112,
    "start_time": "2023-02-19T15:21:00.458Z"
   },
   {
    "duration": 146,
    "start_time": "2023-02-19T15:21:00.572Z"
   },
   {
    "duration": 4,
    "start_time": "2023-02-19T15:21:00.720Z"
   },
   {
    "duration": 114,
    "start_time": "2023-02-19T15:21:00.725Z"
   },
   {
    "duration": 4,
    "start_time": "2023-02-19T15:21:00.841Z"
   },
   {
    "duration": 64,
    "start_time": "2023-02-19T15:21:00.847Z"
   },
   {
    "duration": 152,
    "start_time": "2023-02-19T15:21:00.913Z"
   },
   {
    "duration": 202,
    "start_time": "2023-02-19T15:21:01.068Z"
   },
   {
    "duration": 5,
    "start_time": "2023-02-19T15:21:01.272Z"
   },
   {
    "duration": 101,
    "start_time": "2023-02-19T15:21:01.278Z"
   },
   {
    "duration": 38,
    "start_time": "2023-02-19T15:21:01.381Z"
   },
   {
    "duration": 41,
    "start_time": "2023-02-19T15:21:01.420Z"
   },
   {
    "duration": 43,
    "start_time": "2023-02-19T15:21:01.463Z"
   },
   {
    "duration": 202,
    "start_time": "2023-02-19T15:21:01.508Z"
   },
   {
    "duration": 4,
    "start_time": "2023-02-19T15:21:01.712Z"
   },
   {
    "duration": 162,
    "start_time": "2023-02-19T15:21:01.717Z"
   },
   {
    "duration": 381,
    "start_time": "2023-02-19T15:21:01.881Z"
   },
   {
    "duration": 13,
    "start_time": "2023-02-19T15:21:02.263Z"
   },
   {
    "duration": 311,
    "start_time": "2023-02-19T15:21:02.285Z"
   },
   {
    "duration": 13,
    "start_time": "2023-02-19T15:21:02.597Z"
   },
   {
    "duration": 249,
    "start_time": "2023-02-19T15:21:02.611Z"
   }
  ],
  "kernelspec": {
   "display_name": "Python 3 (ipykernel)",
   "language": "python",
   "name": "python3"
  },
  "language_info": {
   "codemirror_mode": {
    "name": "ipython",
    "version": 3
   },
   "file_extension": ".py",
   "mimetype": "text/x-python",
   "name": "python",
   "nbconvert_exporter": "python",
   "pygments_lexer": "ipython3",
   "version": "3.9.5"
  },
  "toc": {
   "base_numbering": 1,
   "nav_menu": {},
   "number_sections": true,
   "sideBar": true,
   "skip_h1_title": true,
   "title_cell": "Table of Contents",
   "title_sidebar": "Содержание",
   "toc_cell": false,
   "toc_position": {},
   "toc_section_display": true,
   "toc_window_display": true
  }
 },
 "nbformat": 4,
 "nbformat_minor": 2
}
